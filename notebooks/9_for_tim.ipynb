{
 "cells": [
  {
   "cell_type": "code",
   "execution_count": 3,
   "metadata": {},
   "outputs": [
    {
     "name": "stdout",
     "output_type": "stream",
     "text": [
      "C:\\Users\\timei\\Documents\\Datalogi\\Semester6\\Bachelor\\pm4py-dcr\\notebooks\n",
      "C:\\Users\\timei\\Documents\\Datalogi\\Semester6\\Bachelor\\pm4py-dcr\n"
     ]
    }
   ],
   "source": [
    "%load_ext autoreload\n",
    "%autoreload 2\n",
    "import os\n",
    "print(os.getcwd())\n",
    "os.chdir('C:/Users/timei/Documents/Datalogi/Semester6/Bachelor/pm4py-dcr') # working directory should be pm4py-dcr (the one behind notebooks)\n",
    "print(os.getcwd())"
   ]
  },
  {
   "cell_type": "code",
   "execution_count": 4,
   "metadata": {},
   "outputs": [],
   "source": [
    "import pm4py\n",
    "from copy import deepcopy"
   ]
  },
  {
   "cell_type": "code",
   "execution_count": 5,
   "metadata": {},
   "outputs": [],
   "source": [
    "from pm4py.objects.dcr import semantics as dcr_semantics\n",
    "from pm4py.objects.dcr.importer import importer as dcr_importer\n",
    "from pm4py.objects.dcr.exporter import exporter as dcr_exporter\n",
    "from pm4py.algo.discovery.dcr_discover import algorithm as dcr_alg\n",
    "from pm4py.objects.dcr import enforcement"
   ]
  },
  {
   "cell_type": "code",
   "execution_count": 21,
   "metadata": {},
   "outputs": [],
   "source": [
    "dcr = {\n",
    "    'events': {'release', 'archive', 'delete', 'readmit', 'unarchive'},\n",
    "    'labels': set(),\n",
    "    'labelMapping': set(),\n",
    "    'conditionsFor': {'delete': {'release'}, 'unarchive':{'release'}, 'archive':{'release'}},  # this should be a dict with events as keys and sets as values\n",
    "    'milestonesFor': {'delete': {'archive'}},\n",
    "    'responseTo': {},\n",
    "    'noResponseTo': {},\n",
    "    'includesTo': {'release':{'archive', 'delete', 'unarchive'}},\n",
    "    'excludesTo': {'readmit':{'unarchive', 'archive', 'delete'}},\n",
    "    'conditionsForDelays': {'unarchive':{('archive', 2920)}},  # this should be a dict with events as keys and tuples as values\n",
    "    'responseToDeadlines': {'release':{('archive', 14), ('delete', 14)}},\n",
    "    'marking': {'executed': set(),\n",
    "                'included': {'release', 'archive', 'delete', 'readmit', 'unarchive'},\n",
    "                'pending': set(),\n",
    "                'executedTime': {}, # Gives the time since a event was executed\n",
    "                'pendingDeadline': {} # The deadline until an event must be executed \n",
    "                }\n",
    "}"
   ]
  },
  {
   "cell_type": "code",
   "execution_count": 7,
   "metadata": {},
   "outputs": [
    {
     "data": {
      "text/plain": [
       "{'readmit', 'release'}"
      ]
     },
     "execution_count": 7,
     "metadata": {},
     "output_type": "execute_result"
    }
   ],
   "source": [
    "dcr_semantics.enabled(dcr)"
   ]
  },
  {
   "cell_type": "code",
   "execution_count": 8,
   "metadata": {},
   "outputs": [
    {
     "data": {
      "text/plain": [
       "True"
      ]
     },
     "execution_count": 8,
     "metadata": {},
     "output_type": "execute_result"
    }
   ],
   "source": [
    "dcr_semantics.is_accepting(dcr)"
   ]
  },
  {
   "cell_type": "code",
   "execution_count": 22,
   "metadata": {},
   "outputs": [
    {
     "name": "stdout",
     "output_type": "stream",
     "text": [
      "{'release', 'archive', 'readmit'}\n",
      "{'archive': 14, 'delete': 14}\n",
      "{'release': 0}\n"
     ]
    }
   ],
   "source": [
    "dcr_semantics.execute('release', dcr) # here you execute the event\n",
    "print(dcr_semantics.enabled(dcr)) # now these are the newly enabled events\n",
    "print(dcr['marking']['pendingDeadline'])\n",
    "print(dcr['marking']['executedTime'])"
   ]
  },
  {
   "cell_type": "code",
   "execution_count": 23,
   "metadata": {},
   "outputs": [
    {
     "name": "stdout",
     "output_type": "stream",
     "text": [
      "{'release', 'archive', 'delete', 'readmit'}\n",
      "{}\n",
      "{'release': 0, 'archive': 0, 'delete': 0}\n"
     ]
    }
   ],
   "source": [
    "dcr_semantics.execute('archive', dcr) # here you execute the event\n",
    "print(dcr_semantics.enabled(dcr))\n",
    "dcr_semantics.execute('delete', dcr)\n",
    "print(dcr['marking']['pendingDeadline'])\n",
    "print(dcr['marking']['executedTime'])"
   ]
  },
  {
   "cell_type": "code",
   "execution_count": 25,
   "metadata": {},
   "outputs": [
    {
     "name": "stdout",
     "output_type": "stream",
     "text": [
      "{}\n",
      "{'release': 0, 'archive': 2920, 'delete': 0}\n",
      "{'release', 'unarchive', 'archive', 'delete', 'readmit'}\n"
     ]
    }
   ],
   "source": [
    "dict_exe = dcr_semantics.create_max_executed_time_dict(dcr)\n",
    "dcr_semantics.time_step(2919, dcr, dict_exe)\n",
    "print(dcr['marking']['pendingDeadline'])\n",
    "print(dcr['marking']['executedTime'])\n",
    "print(dcr_semantics.enabled(dcr))"
   ]
  },
  {
   "cell_type": "code",
   "execution_count": 14,
   "metadata": {},
   "outputs": [
    {
     "name": "stdout",
     "output_type": "stream",
     "text": [
      "{'readmit', 'release', 'archive'}\n"
     ]
    }
   ],
   "source": [
    "e = enforcement.Enforcement_mechanisme(dcr)\n",
    "e.peform_controllable_event(\"release\")\n",
    "print(dcr_semantics.enabled(e.dcr))"
   ]
  },
  {
   "cell_type": "code",
   "execution_count": 47,
   "metadata": {},
   "outputs": [
    {
     "name": "stdout",
     "output_type": "stream",
     "text": [
      "False\n",
      "True\n",
      "True\n",
      "{'unarchive': ['release', 'archive'], 'archive': ['release'], 'delete': ['release', 'archive']}\n",
      "{'delete': ['release', 'archive'], 'unarchive': ['release', 'archive'], 'archive': ['release']}\n"
     ]
    }
   ],
   "source": [
    "print(e.iGraph.is_cyclic())\n",
    "print(e.iGraph.check_for_responses())\n",
    "print(e.iGraph.check_for_delays())\n",
    "print(e.iGraph.executeGraph)\n",
    "print(e.iGraph.oppGraph)"
   ]
  },
  {
   "cell_type": "code",
   "execution_count": 26,
   "metadata": {},
   "outputs": [],
   "source": [
    "e.check_urgent_deadlines()"
   ]
  },
  {
   "cell_type": "code",
   "execution_count": 12,
   "metadata": {},
   "outputs": [
    {
     "name": "stdout",
     "output_type": "stream",
     "text": [
      "14\n"
     ]
    }
   ],
   "source": [
    "print(dcr_semantics.find_next_deadline(dcr))"
   ]
  },
  {
   "cell_type": "code",
   "execution_count": null,
   "metadata": {},
   "outputs": [],
   "source": [
    "g = enforcement.IGraph(dcr)\n",
    "print(g.reachableGraph)\n",
    "print(g.graph)\n",
    "print(g.topologicalSort())\n",
    "print(g.executeGraph)"
   ]
  }
 ],
 "metadata": {
  "kernelspec": {
   "display_name": "Python 3 (ipykernel)",
   "language": "python",
   "name": "python3"
  },
  "language_info": {
   "codemirror_mode": {
    "name": "ipython",
    "version": 3
   },
   "file_extension": ".py",
   "mimetype": "text/x-python",
   "name": "python",
   "nbconvert_exporter": "python",
   "pygments_lexer": "ipython3",
   "version": "3.11.0"
  }
 },
 "nbformat": 4,
 "nbformat_minor": 1
}
