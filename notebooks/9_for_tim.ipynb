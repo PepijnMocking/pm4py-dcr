{
 "cells": [
  {
   "cell_type": "code",
   "execution_count": 116,
   "metadata": {},
   "outputs": [
    {
     "name": "stdout",
     "output_type": "stream",
     "text": [
      "The autoreload extension is already loaded. To reload it, use:\n",
      "  %reload_ext autoreload\n",
      "C:\\Users\\timei\\Documents\\Datalogi\\Semester6\\Bachelor\\pm4py-dcr\n",
      "C:\\Users\\timei\\Documents\\Datalogi\\Semester6\\Bachelor\\pm4py-dcr\n"
     ]
    }
   ],
   "source": [
    "%load_ext autoreload\n",
    "%autoreload 2\n",
    "import os\n",
    "print(os.getcwd())\n",
    "os.chdir('C:/Users/timei/Documents/Datalogi/Semester6/Bachelor/pm4py-dcr') # working directory should be pm4py-dcr (the one behind notebooks)\n",
    "print(os.getcwd())"
   ]
  },
  {
   "cell_type": "code",
   "execution_count": 117,
   "metadata": {},
   "outputs": [],
   "source": [
    "import pm4py\n",
    "from copy import deepcopy"
   ]
  },
  {
   "cell_type": "code",
   "execution_count": 118,
   "metadata": {},
   "outputs": [],
   "source": [
    "from pm4py.objects.dcr import semantics as dcr_semantics\n",
    "from pm4py.objects.dcr.importer import importer as dcr_importer\n",
    "from pm4py.objects.dcr.exporter import exporter as dcr_exporter\n",
    "from pm4py.algo.discovery.dcr_discover import algorithm as dcr_alg"
   ]
  },
  {
   "cell_type": "code",
   "execution_count": 209,
   "metadata": {},
   "outputs": [],
   "source": [
    "dcr = {\n",
    "    'events': {'release', 'archive', 'delete', 'readmit', 'unarchive'},\n",
    "    'labels': set(),\n",
    "    'labelMapping': set(),\n",
    "    'conditionsFor': {'delete': {'release'}, 'unarchive':{'release'}, 'archive':{'release'}},  # this should be a dict with events as keys and sets as values\n",
    "    'milestonesFor': {'delete': {'archive'}},\n",
    "    'responseTo': {},\n",
    "    'noResponseTo': {},\n",
    "    'includesTo': {'release':{'archive', 'delete', 'unarchive'}},\n",
    "    'excludesTo': {'readmit':{'unarchive', 'archive', 'delete'}},\n",
    "    'conditionsForDelays': {'unarchive':{('archive', 2920)}},  # this should be a dict with events as keys and tuples as values\n",
    "    'responseToDeadlines': {'release':{('archive',14), ('delete',14)}},\n",
    "    'marking': {'executed': set(),\n",
    "                'included': {'release', 'archive', 'delete', 'readmit', 'unarchive'},\n",
    "                'pending': set(),\n",
    "                'executedTime': {}, # Gives the time since a event was executed\n",
    "                'pendingDeadline': {} # The deadline until an event must be executed \n",
    "                }\n",
    "}"
   ]
  },
  {
   "cell_type": "code",
   "execution_count": 210,
   "metadata": {},
   "outputs": [
    {
     "data": {
      "text/plain": [
       "{'readmit', 'release'}"
      ]
     },
     "execution_count": 210,
     "metadata": {},
     "output_type": "execute_result"
    }
   ],
   "source": [
    "dcr_semantics.enabled(dcr)"
   ]
  },
  {
   "cell_type": "code",
   "execution_count": 211,
   "metadata": {},
   "outputs": [
    {
     "data": {
      "text/plain": [
       "True"
      ]
     },
     "execution_count": 211,
     "metadata": {},
     "output_type": "execute_result"
    }
   ],
   "source": [
    "dcr_semantics.is_accepting(dcr)"
   ]
  },
  {
   "cell_type": "code",
   "execution_count": 212,
   "metadata": {},
   "outputs": [
    {
     "name": "stdout",
     "output_type": "stream",
     "text": [
      "{'release', 'archive', 'readmit'}\n"
     ]
    }
   ],
   "source": [
    "event_to_execute = 'release' # update this event in order to simulate the execution of the event\n",
    "dcr_semantics.execute(event_to_execute, dcr) # here you execute the event\n",
    "print(dcr_semantics.enabled(dcr)) # now these are the newly enabled events"
   ]
  },
  {
   "cell_type": "code",
   "execution_count": 193,
   "metadata": {},
   "outputs": [
    {
     "data": {
      "text/plain": [
       "False"
      ]
     },
     "execution_count": 193,
     "metadata": {},
     "output_type": "execute_result"
    }
   ],
   "source": [
    "event_to_execute = 'hallo' # update this event in order to simulate the execution of the event\n",
    "dcr_semantics.execute(event_to_execute, dcr) # here you execute the event"
   ]
  },
  {
   "cell_type": "code",
   "execution_count": 139,
   "metadata": {},
   "outputs": [
    {
     "name": "stdout",
     "output_type": "stream",
     "text": [
      "{'hej': 14, 'hello': 13}\n",
      "{'hej': 14, 'hello': 13, 'hi': 25}\n",
      "{'hej': 14, 'hello': 13, 'hi': 10}\n"
     ]
    }
   ],
   "source": [
    "test = {'hej': 14, 'hello':13}\n",
    "print(test)\n",
    "test[\"hi\"] = (25)\n",
    "print(test)\n",
    "test['hi'] = 10\n",
    "print(test)"
   ]
  },
  {
   "cell_type": "code",
   "execution_count": 134,
   "metadata": {},
   "outputs": [
    {
     "name": "stdout",
     "output_type": "stream",
     "text": [
      "hej\n",
      "1\n",
      "hello\n",
      "2\n",
      "whatup\n",
      "3\n"
     ]
    }
   ],
   "source": [
    "real = {('hej', 1), ('hello', 2), ('whatup', 3)}\n",
    "for (e_prime, k) in real:\n",
    "    print(e_prime)\n",
    "    print(k)"
   ]
  },
  {
   "cell_type": "code",
   "execution_count": 213,
   "metadata": {},
   "outputs": [],
   "source": [
    "def time_step(time, dcr): # pendingDeadline can be 0 when excluded\n",
    "    deadline = dcr_semantics.find_next_deadline(dcr)\n",
    "    if deadline == None or deadline - time >= 1:\n",
    "        for e in dcr['marking']['pendingDeadline']:\n",
    "            dcr['marking']['pendingDeadline'][e] =  max(dcr['marking']['pendingDeadline'][e] - time, 0)\n",
    "        for e in dcr['conditionsForDelays']:\n",
    "            for (e_prime, k) in dcr['conditionsForDelays'][e]:\n",
    "                if e_prime in dcr['marking']['executed']:\n",
    "                    dcr['marking']['executedTime'][e_prime] = min(dcr['marking']['executedTime'][e_prime] + time, max_executed_time(e_prime, dcr))\n",
    "    else:\n",
    "        print('unlucko')"
   ]
  },
  {
   "cell_type": "code",
   "execution_count": 216,
   "metadata": {},
   "outputs": [
    {
     "name": "stdout",
     "output_type": "stream",
     "text": [
      "None\n"
     ]
    }
   ],
   "source": [
    "print(time_step(13, dcr))"
   ]
  },
  {
   "cell_type": "code",
   "execution_count": 217,
   "metadata": {},
   "outputs": [
    {
     "data": {
      "text/plain": [
       "1"
      ]
     },
     "execution_count": 217,
     "metadata": {},
     "output_type": "execute_result"
    }
   ],
   "source": [
    "dcr_semantics.find_next_deadline(dcr)"
   ]
  },
  {
   "cell_type": "code",
   "execution_count": 173,
   "metadata": {},
   "outputs": [],
   "source": [
    "def max_executed_time(event, dcr):\n",
    "    max_delay = None\n",
    "    for e in dcr['conditionsForDelays']:\n",
    "        for (e_prime, k) in dcr['conditionsForDelays'][e]:\n",
    "            if e_prime in dcr['marking']['executed'] and e_prime == event:\n",
    "                if max_delay == None or k > max_delay:\n",
    "                    max_delay = k\n",
    "    return max_delay"
   ]
  },
  {
   "cell_type": "code",
   "execution_count": 174,
   "metadata": {},
   "outputs": [
    {
     "name": "stdout",
     "output_type": "stream",
     "text": [
      "2920\n"
     ]
    }
   ],
   "source": [
    "print(max_executed_time(\"archive\", dcr))"
   ]
  },
  {
   "cell_type": "code",
   "execution_count": null,
   "metadata": {},
   "outputs": [],
   "source": []
  }
 ],
 "metadata": {
  "kernelspec": {
   "display_name": "Python 3 (ipykernel)",
   "language": "python",
   "name": "python3"
  },
  "language_info": {
   "codemirror_mode": {
    "name": "ipython",
    "version": 3
   },
   "file_extension": ".py",
   "mimetype": "text/x-python",
   "name": "python",
   "nbconvert_exporter": "python",
   "pygments_lexer": "ipython3",
   "version": "3.11.0"
  }
 },
 "nbformat": 4,
 "nbformat_minor": 1
}
