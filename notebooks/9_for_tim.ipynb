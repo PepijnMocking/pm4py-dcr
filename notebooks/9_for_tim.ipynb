{
 "cells": [
  {
   "cell_type": "code",
   "execution_count": 3,
   "metadata": {},
   "outputs": [
    {
     "name": "stdout",
     "output_type": "stream",
     "text": [
      "C:\\Users\\timei\\Documents\\Datalogi\\Semester6\\Bachelor\\pm4py-dcr\\notebooks\n",
      "C:\\Users\\timei\\Documents\\Datalogi\\Semester6\\Bachelor\\pm4py-dcr\n"
     ]
    }
   ],
   "source": [
    "%load_ext autoreload\n",
    "%autoreload 2\n",
    "import os\n",
    "print(os.getcwd())\n",
    "os.chdir('C:/Users/timei/Documents/Datalogi/Semester6/Bachelor/pm4py-dcr') # working directory should be pm4py-dcr (the one behind notebooks)\n",
    "print(os.getcwd())"
   ]
  },
  {
   "cell_type": "code",
   "execution_count": 4,
   "metadata": {},
   "outputs": [],
   "source": [
    "import pm4py\n",
    "from copy import deepcopy"
   ]
  },
  {
   "cell_type": "code",
   "execution_count": 5,
   "metadata": {},
   "outputs": [],
   "source": [
    "from pm4py.objects.dcr import semantics as dcr_semantics\n",
    "from pm4py.objects.dcr.importer import importer as dcr_importer\n",
    "from pm4py.objects.dcr.exporter import exporter as dcr_exporter\n",
    "from pm4py.algo.discovery.dcr_discover import algorithm as dcr_alg\n",
    "from pm4py.objects.dcr import enforcement"
   ]
  },
  {
   "cell_type": "code",
   "execution_count": 30,
   "metadata": {},
   "outputs": [],
   "source": [
    "dcr = {\n",
    "    'events': {'release', 'archive', 'delete', 'readmit', 'unarchive'},\n",
    "    'labels': set(),\n",
    "    'labelMapping': set(),\n",
    "    'conditionsFor': {'delete': {'release'}, 'unarchive':{'release'}, 'archive':{'release'}},  # this should be a dict with events as keys and sets as values\n",
    "    'milestonesFor': {'delete': {'archive'}},\n",
    "    'responseTo': {},\n",
    "    'noResponseTo': {},\n",
    "    'includesTo': {'release':{'archive', 'delete', 'unarchive'}},\n",
    "    'excludesTo': {'readmit':{'unarchive', 'archive', 'delete'}},\n",
    "    'conditionsForDelays': {'unarchive':{('archive', 2920)}},  # this should be a dict with events as keys and tuples as values\n",
    "    'responseToDeadlines': {'release':{('archive',14), ('delete',14)}},\n",
    "    'marking': {'executed': set(),\n",
    "                'included': {'release', 'archive', 'delete', 'readmit', 'unarchive'},\n",
    "                'pending': set(),\n",
    "                'executedTime': {}, # Gives the time since a event was executed\n",
    "                'pendingDeadline': {} # The deadline until an event must be executed \n",
    "                }\n",
    "}"
   ]
  },
  {
   "cell_type": "code",
   "execution_count": null,
   "metadata": {},
   "outputs": [],
   "source": [
    "dcr_semantics.enabled(dcr)"
   ]
  },
  {
   "cell_type": "code",
   "execution_count": 9,
   "metadata": {},
   "outputs": [
    {
     "data": {
      "text/plain": [
       "True"
      ]
     },
     "execution_count": 9,
     "metadata": {},
     "output_type": "execute_result"
    }
   ],
   "source": [
    "dcr_semantics.is_accepting(dcr)"
   ]
  },
  {
   "cell_type": "code",
   "execution_count": 212,
   "metadata": {},
   "outputs": [
    {
     "name": "stdout",
     "output_type": "stream",
     "text": [
      "{'release', 'archive', 'readmit'}\n"
     ]
    }
   ],
   "source": [
    "event_to_execute = 'release' # update this event in order to simulate the execution of the event\n",
    "dcr_semantics.execute(event_to_execute, dcr) # here you execute the event\n",
    "print(dcr_semantics.enabled(dcr)) # now these are the newly enabled events"
   ]
  },
  {
   "cell_type": "code",
   "execution_count": 11,
   "metadata": {},
   "outputs": [
    {
     "data": {
      "text/plain": [
       "False"
      ]
     },
     "execution_count": 11,
     "metadata": {},
     "output_type": "execute_result"
    }
   ],
   "source": [
    "event_to_execute = 'hallo' # update this event in order to simulate the execution of the event\n",
    "dcr_semantics.execute(event_to_execute, dcr) # here you execute the event"
   ]
  },
  {
   "cell_type": "code",
   "execution_count": 139,
   "metadata": {},
   "outputs": [
    {
     "name": "stdout",
     "output_type": "stream",
     "text": [
      "{'hej': 14, 'hello': 13}\n",
      "{'hej': 14, 'hello': 13, 'hi': 25}\n",
      "{'hej': 14, 'hello': 13, 'hi': 10}\n"
     ]
    }
   ],
   "source": [
    "test = {'hej': 14, 'hello':13}\n",
    "print(test)\n",
    "test[\"hi\"] = (25)\n",
    "print(test)\n",
    "test['hi'] = 10\n",
    "print(test)"
   ]
  },
  {
   "cell_type": "code",
   "execution_count": 7,
   "metadata": {},
   "outputs": [],
   "source": [
    "g = enforcement.IGraph()\n",
    "g.from_dcr_to_graph(dcr)"
   ]
  },
  {
   "cell_type": "code",
   "execution_count": 51,
   "metadata": {},
   "outputs": [],
   "source": [
    "e = enforcement.Enforcement_mechanisme(dcr)"
   ]
  },
  {
   "cell_type": "code",
   "execution_count": 28,
   "metadata": {},
   "outputs": [],
   "source": [
    "def check_for_responses(graph):\n",
    "        for e in graph:\n",
    "            for e_prime in graph[e]:\n",
    "                if e_prime in dcr['responseToDeadlines']:\n",
    "                    if e in dcr['responseToDeadlines'][e_prime]:\n",
    "                        return True\n",
    "                if e_prime in dcr['responseTo']:\n",
    "                    if e in dcr['responseTo'][e_prime]:\n",
    "                        return True\n",
    "                if e_prime in dcr['includesTo']:\n",
    "                    if e in dcr['includesTo'][e_prime]:\n",
    "                        return True\n",
    "        return False"
   ]
  },
  {
   "cell_type": "code",
   "execution_count": 31,
   "metadata": {},
   "outputs": [
    {
     "name": "stdout",
     "output_type": "stream",
     "text": [
      "False\n"
     ]
    }
   ],
   "source": [
    "print(check_for_response_and_delay(g.graph))"
   ]
  },
  {
   "cell_type": "code",
   "execution_count": null,
   "metadata": {},
   "outputs": [],
   "source": []
  }
 ],
 "metadata": {
  "kernelspec": {
   "display_name": "Python 3 (ipykernel)",
   "language": "python",
   "name": "python3"
  },
  "language_info": {
   "codemirror_mode": {
    "name": "ipython",
    "version": 3
   },
   "file_extension": ".py",
   "mimetype": "text/x-python",
   "name": "python",
   "nbconvert_exporter": "python",
   "pygments_lexer": "ipython3",
   "version": "3.11.0"
  }
 },
 "nbformat": 4,
 "nbformat_minor": 1
}
