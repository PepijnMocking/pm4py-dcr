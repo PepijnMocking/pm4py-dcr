{
 "cells": [
  {
   "cell_type": "markdown",
   "id": "b0835f4561911fc4",
   "metadata": {
    "collapsed": false
   },
   "source": [
    "# DCR Extension Tutorial"
   ]
  },
  {
   "cell_type": "markdown",
   "id": "92e888eb1a2fdfc2",
   "metadata": {
    "collapsed": false
   },
   "source": [
    "This file will give a walkthrough of the extension that has been made for the PM4Py library.\n",
    "Namely, it will go through how to create a DCR Graph,  either manually or automatically by the implemented DisCoveR algorithm, showcase how conformance checking can be used to determine fitness, and finally present the import/export capability such that the graph can be visualised.\n",
    "\n",
    "\n",
    "## Creating DCR Graphs\n",
    "First, let's take a look at how to create a basic DCR Graph manually. Note that the underlying attribute in the DCR graph objects consists of sets and dictionaries, so one can access them through the property, and call them as such:"
   ]
  },
  {
   "cell_type": "code",
   "execution_count": 1,
   "id": "2972ccdfc1e5d0aa",
   "metadata": {
    "collapsed": false,
    "ExecuteTime": {
     "end_time": "2023-11-16T20:35:02.958848900Z",
     "start_time": "2023-11-16T20:35:01.566954700Z"
    }
   },
   "outputs": [
    {
     "name": "stdout",
     "output_type": "stream",
     "text": [
      "events: {'C', 'B', 'A'}\n",
      "marking: {executed: set(), included: {'C', 'B', 'A', 'D'}, pending: set()}\n",
      "labels: {'activity2', 'activity1', 'activity3'}\n",
      "conditionsFor: {'A': {'B', 'D'}, 'B': {'C'}}\n",
      "responseTo: {'A': {'C'}}\n",
      "includesTo: {'A': {'C'}}\n",
      "excludesTo: {'C': {'B'}}\n",
      "labelMapping: {'activity1': {'A'}, 'activity2': {'B'}, 'activity3': {'C'}}\n"
     ]
    },
    {
     "name": "stderr",
     "output_type": "stream",
     "text": [
      "C:\\Users\\herma\\pm4py-dcr\\pm4py\\objects\\dcr\\obj.py:251: SyntaxWarning: \"is\" with a literal. Did you mean \"==\"?\n",
      "  if event is \"None\":\n"
     ]
    }
   ],
   "source": [
    "from pm4py.objects.dcr.obj import DcrGraph\n",
    "graph = DcrGraph()\n",
    "graph.events.add(\"A\")\n",
    "graph.events.add(\"B\")\n",
    "graph.events.add(\"C\")\n",
    "graph.labels.add(\"activity1\")\n",
    "graph.labels.add(\"activity2\")\n",
    "graph.labels.add(\"activity3\")\n",
    "graph.label_mapping[\"activity1\"] = {\"A\"}\n",
    "graph.label_mapping[\"activity2\"] = {\"B\"}\n",
    "graph.label_mapping[\"activity3\"] = {\"C\"}\n",
    "graph.conditions[\"A\"] = set(\"B\")\n",
    "graph.conditions[\"B\"] = set(\"C\")\n",
    "graph.responses[\"A\"] = set(\"C\")\n",
    "graph.excludes[\"C\"] = set(\"B\")\n",
    "graph.conditions[\"A\"].add(\"D\")\n",
    "graph.includes[\"A\"] = set(\"C\")\n",
    "graph.marking.included.add(\"A\")\n",
    "graph.marking.included.add(\"B\")\n",
    "graph.marking.included.add(\"C\")\n",
    "graph.marking.included.add(\"D\")\n",
    "print(graph)"
   ]
  },
  {
   "cell_type": "markdown",
   "id": "2e88e21f11d08406",
   "metadata": {
    "collapsed": false
   },
   "source": [
    "When the graph has been constructued, one has access to the following commands to get the different properties of the DCR graph, such as the size defined by the number of constraints, the events associated with the activity or vice versa."
   ]
  },
  {
   "cell_type": "code",
   "execution_count": 2,
   "id": "517261d9a8d4c277",
   "metadata": {
    "collapsed": false,
    "ExecuteTime": {
     "end_time": "2023-11-16T20:35:02.961929100Z",
     "start_time": "2023-11-16T20:35:02.959421200Z"
    }
   },
   "outputs": [
    {
     "name": "stdout",
     "output_type": "stream",
     "text": [
      "6\n",
      "activity1\n",
      "A\n"
     ]
    }
   ],
   "source": [
    "print(graph.get_constraints())\n",
    "print(graph.get_activity(\"A\"))\n",
    "print(graph.get_event(\"activity1\"))\n",
    "del graph"
   ]
  },
  {
   "cell_type": "markdown",
   "id": "b7fca04ece1bedbc",
   "metadata": {
    "collapsed": false
   },
   "source": [
    "If one calls get_event() or get_activity() with a value that doesn't exists, it will return the input value. This was implemted for the conformance checking, since if someones tries to get the labelmapping but the the event doesn't exist, the test would be interrupted. This way, if it doesn't exist, it will be noted by the conformance tools and be used in the conformance result.\n",
    "\n",
    "Now to discover a model with a given input log, a simplified interface has been created, such that the implemented algorithms are easily accessible, and therefore allow for a more simplified and straightforward use."
   ]
  },
  {
   "cell_type": "code",
   "execution_count": 3,
   "id": "889075c8d92e5351",
   "metadata": {
    "collapsed": false,
    "ExecuteTime": {
     "end_time": "2023-11-16T20:35:03.167595700Z",
     "start_time": "2023-11-16T20:35:02.963929200Z"
    }
   },
   "outputs": [
    {
     "data": {
      "text/plain": "parsing log, completed traces ::   0%|          | 0/6 [00:00<?, ?it/s]",
      "application/vnd.jupyter.widget-view+json": {
       "version_major": 2,
       "version_minor": 0,
       "model_id": "15ecc1f3c6a74ce78f4e518bb2197369"
      }
     },
     "metadata": {},
     "output_type": "display_data"
    },
    {
     "name": "stdout",
     "output_type": "stream",
     "text": [
      "events: {'decide', 'reinitiate request', 'reject request', 'examine casually', 'pay compensation', 'register request', 'examine thoroughly', 'check ticket'}\n",
      "marking: {executed: set(), included: {'decide', 'reinitiate request', 'reject request', 'examine casually', 'pay compensation', 'register request', 'examine thoroughly', 'check ticket'}, pending: set()}\n",
      "labels: {'decide', 'reinitiate request', 'examine casually', 'pay compensation', 'register request', 'examine thoroughly', 'check ticket', 'reject request'}\n",
      "conditionsFor: {'reinitiate request': {'decide'}, 'pay compensation': {'decide'}, 'reject request': {'decide'}, 'decide': {'examine casually', 'check ticket'}, 'examine casually': {'register request'}, 'examine thoroughly': {'register request'}, 'check ticket': {'register request'}}\n",
      "responseTo: {'reinitiate request': {'check ticket'}, 'register request': {'check ticket'}, 'examine casually': {'decide'}, 'examine thoroughly': {'decide'}, 'check ticket': {'decide'}}\n",
      "includesTo: {'decide': {'reinitiate request', 'reject request', 'pay compensation'}}\n",
      "excludesTo: {'reinitiate request': {'reinitiate request'}, 'reject request': {'decide', 'examine casually', 'pay compensation', 'check ticket', 'reject request'}, 'pay compensation': {'decide', 'examine casually', 'pay compensation', 'check ticket', 'reject request'}, 'register request': {'register request'}, 'examine thoroughly': {'examine casually', 'examine thoroughly'}}\n",
      "labelMapping: {'decide': {'decide'}, 'reinitiate request': {'reinitiate request'}, 'reject request': {'reject request'}, 'examine casually': {'examine casually'}, 'pay compensation': {'pay compensation'}, 'register request': {'register request'}, 'examine thoroughly': {'examine thoroughly'}, 'check ticket': {'check ticket'}}\n"
     ]
    }
   ],
   "source": [
    "import pm4py\n",
    "\n",
    "log = pm4py.read_xes(\"../tests/input_data/running-example.xes\")\n",
    "graph, _ = pm4py.discover_dcr(log)\n",
    "print(graph)\n",
    "del graph"
   ]
  },
  {
   "cell_type": "markdown",
   "id": "6758fef174f46939",
   "metadata": {
    "collapsed": false
   },
   "source": [
    "In accordance to the rest of the library, the simplified interface takes in extra values for which one can use to specify the naming convention in the attribute, such that it can mine the log without failure.\n",
    "\n",
    "Additionally, the discover miner has been extended to allow for mining of roles; we will use the log of the running example once again."
   ]
  },
  {
   "cell_type": "code",
   "execution_count": 4,
   "id": "b9a23f1be475cdbd",
   "metadata": {
    "collapsed": false,
    "ExecuteTime": {
     "end_time": "2023-11-16T20:35:03.170117500Z",
     "start_time": "2023-11-16T20:35:03.168114200Z"
    }
   },
   "outputs": [
    {
     "name": "stdout",
     "output_type": "stream",
     "text": [
      "events: {'decide', 'reinitiate request', 'reject request', 'examine casually', 'pay compensation', 'register request', 'examine thoroughly', 'check ticket'}\n",
      "marking: {executed: set(), included: {'decide', 'reinitiate request', 'reject request', 'examine casually', 'pay compensation', 'register request', 'examine thoroughly', 'check ticket'}, pending: set()}\n",
      "labels: {'decide', 'reinitiate request', 'examine casually', 'pay compensation', 'register request', 'examine thoroughly', 'check ticket', 'reject request'}\n",
      "conditionsFor: {'reinitiate request': {'decide'}, 'pay compensation': {'decide'}, 'reject request': {'decide'}, 'decide': {'examine casually', 'check ticket'}, 'examine casually': {'register request'}, 'examine thoroughly': {'register request'}, 'check ticket': {'register request'}}\n",
      "responseTo: {'reinitiate request': {'check ticket'}, 'register request': {'check ticket'}, 'examine casually': {'decide'}, 'examine thoroughly': {'decide'}, 'check ticket': {'decide'}}\n",
      "includesTo: {'decide': {'reinitiate request', 'reject request', 'pay compensation'}}\n",
      "excludesTo: {'reinitiate request': {'reinitiate request'}, 'reject request': {'decide', 'examine casually', 'pay compensation', 'check ticket', 'reject request'}, 'pay compensation': {'decide', 'examine casually', 'pay compensation', 'check ticket', 'reject request'}, 'register request': {'register request'}, 'examine thoroughly': {'examine casually', 'examine thoroughly'}}\n",
      "labelMapping: {'decide': {'decide'}, 'reinitiate request': {'reinitiate request'}, 'reject request': {'reject request'}, 'examine casually': {'examine casually'}, 'pay compensation': {'pay compensation'}, 'register request': {'register request'}, 'examine thoroughly': {'examine thoroughly'}, 'check ticket': {'check ticket'}}\n",
      "principals: {'Mike', 'Pete', 'Sue', 'Ellen', 'Sean', 'Sara'}\n",
      "roles: {'Mike', 'Pete', 'Sue', 'Ellen', 'Sean', 'Sara'}\n",
      "roleAssignments: {'Mike': {'check ticket', 'pay compensation', 'reject request', 'examine casually', 'register request'}, 'Pete': {'reject request', 'check ticket', 'register request'}, 'Sue': {'examine casually', 'examine thoroughly'}, 'Ellen': {'check ticket', 'pay compensation', 'reject request', 'examine casually', 'register request'}, 'Sean': {'examine casually', 'examine thoroughly'}, 'Sara': {'decide', 'reinitiate request'}}\n",
      "principalsAssignments: {'Mike': {'Mike'}, 'Pete': {'Pete'}, 'Sue': {'Sue'}, 'Ellen': {'Ellen'}, 'Sean': {'Sean'}, 'Sara': {'Sara'}}\n"
     ]
    }
   ],
   "source": [
    "graph, _ = pm4py.discover_dcr(log,process_type={\"roles\"},group_key=\"org:resource\")\n",
    "print(graph)\n",
    "del graph"
   ]
  },
  {
   "cell_type": "markdown",
   "id": "35aa578ba35bd297",
   "metadata": {
    "collapsed": false
   },
   "source": [
    "If one doesn't wish to use the simplified interface, there is a more indirect way of performing the process mining technique"
   ]
  },
  {
   "cell_type": "code",
   "execution_count": 5,
   "id": "3a3706bc019a7a47",
   "metadata": {
    "collapsed": false,
    "ExecuteTime": {
     "end_time": "2023-11-16T20:35:03.254984900Z",
     "start_time": "2023-11-16T20:35:03.173119800Z"
    }
   },
   "outputs": [],
   "source": [
    "from pm4py.algo.discovery.dcr_discover.variants.dcr_discover import Discover\n",
    "from pm4py.objects.dcr.obj import DcrGraph\n",
    "disc = Discover()\n",
    "graph = DcrGraph(disc.mine(log)[0])\n",
    "del log"
   ]
  },
  {
   "cell_type": "markdown",
   "id": "39fe0acb8c28b80a",
   "metadata": {
    "collapsed": false
   },
   "source": [
    "Note that the discover miner also returns the abstraction log used for mining the DCR Graph, therefore it is needed to perform to specify the first iterative of the tuple."
   ]
  },
  {
   "cell_type": "markdown",
   "id": "82716ebaf4e2c773",
   "metadata": {
    "collapsed": false
   },
   "source": [
    "## Conformance Checking\n",
    "Two different techniques for checking conformance of a DCR graph have been implemented\n",
    "### Rule Checking\n",
    "The first technique is a quite straight forward approach. It takes an event log, and mines based on the constraints within the graph. This technique takes in a whole log and produces an output: a list of dictionaries of the values associated with the mining:"
   ]
  },
  {
   "cell_type": "code",
   "execution_count": 6,
   "id": "1041d9ed2799711",
   "metadata": {
    "collapsed": false,
    "ExecuteTime": {
     "end_time": "2023-11-16T20:35:03.341157200Z",
     "start_time": "2023-11-16T20:35:03.243837300Z"
    }
   },
   "outputs": [
    {
     "data": {
      "text/plain": "parsing log, completed traces ::   0%|          | 0/6 [00:00<?, ?it/s]",
      "application/vnd.jupyter.widget-view+json": {
       "version_major": 2,
       "version_minor": 0,
       "model_id": "6a73fd94ae9c4139a1a32cd4e887f7fa"
      }
     },
     "metadata": {},
     "output_type": "display_data"
    },
    {
     "name": "stdout",
     "output_type": "stream",
     "text": [
      "[{'no_constr_total': 30, 'deviations': [], 'no_dev_total': 0, 'dev_fitness': 1.0, 'is_fit': True}, {'no_constr_total': 30, 'deviations': [], 'no_dev_total': 0, 'dev_fitness': 1.0, 'is_fit': True}, {'no_constr_total': 30, 'deviations': [], 'no_dev_total': 0, 'dev_fitness': 1.0, 'is_fit': True}, {'no_constr_total': 30, 'deviations': [], 'no_dev_total': 0, 'dev_fitness': 1.0, 'is_fit': True}, {'no_constr_total': 30, 'deviations': [], 'no_dev_total': 0, 'dev_fitness': 1.0, 'is_fit': True}, {'no_constr_total': 30, 'deviations': [], 'no_dev_total': 0, 'dev_fitness': 1.0, 'is_fit': True}]\n"
     ]
    }
   ],
   "source": [
    "log = pm4py.read_xes(\"../tests/input_data/running-example.xes\")\n",
    "graph, _ = pm4py.discover_dcr(log)\n",
    "conf_res = pm4py.conformance_dcr(log, graph)\n",
    "print(conf_res)\n",
    "del conf_res\n",
    "del graph\n",
    "del log"
   ]
  },
  {
   "cell_type": "markdown",
   "id": "fcc271473f1514c7",
   "metadata": {
    "collapsed": false
   },
   "source": [
    "Due to the DisCoveR miner's property of always producing a graph with perfect fitness, the output will therefore have no deviations. In addition to mining of DCR graphs, it is also possible to check for deviations in role assignment."
   ]
  },
  {
   "cell_type": "code",
   "execution_count": 7,
   "id": "d1b20b34b6293d26",
   "metadata": {
    "collapsed": false,
    "ExecuteTime": {
     "end_time": "2023-11-16T20:35:03.396846400Z",
     "start_time": "2023-11-16T20:35:03.343197500Z"
    }
   },
   "outputs": [
    {
     "data": {
      "text/plain": "parsing log, completed traces ::   0%|          | 0/6 [00:00<?, ?it/s]",
      "application/vnd.jupyter.widget-view+json": {
       "version_major": 2,
       "version_minor": 0,
       "model_id": "59186644a0604eb986ed3bc04ccea5a1"
      }
     },
     "metadata": {},
     "output_type": "display_data"
    },
    {
     "name": "stdout",
     "output_type": "stream",
     "text": [
      "[{'no_constr_total': 49, 'deviations': [('roleViolation', 'Brenda')], 'no_dev_total': 1, 'dev_fitness': 0.9795918367346939, 'is_fit': False}, {'no_constr_total': 49, 'deviations': [('roleViolation', 'Brenda')], 'no_dev_total': 1, 'dev_fitness': 0.9795918367346939, 'is_fit': False}, {'no_constr_total': 49, 'deviations': [('roleViolation', 'Brenda')], 'no_dev_total': 1, 'dev_fitness': 0.9795918367346939, 'is_fit': False}, {'no_constr_total': 49, 'deviations': [('roleViolation', 'Brenda')], 'no_dev_total': 1, 'dev_fitness': 0.9795918367346939, 'is_fit': False}, {'no_constr_total': 49, 'deviations': [('roleViolation', 'Brenda')], 'no_dev_total': 1, 'dev_fitness': 0.9795918367346939, 'is_fit': False}, {'no_constr_total': 49, 'deviations': [('roleViolation', 'Brenda')], 'no_dev_total': 1, 'dev_fitness': 0.9795918367346939, 'is_fit': False}]\n"
     ]
    }
   ],
   "source": [
    "# Given an event log and discovering a dcr\n",
    "log = pm4py.read_xes(\"../tests/input_data/running-example.xes\")\n",
    "graph, _ = pm4py.discover_dcr(log, process_type={'roles'}, group_key=\"org:resource\")\n",
    "\n",
    "# when the roles are changed and conformance is performed\n",
    "log = log.replace(\"Mike\", \"Brenda\")\n",
    "conf_res = pm4py.conformance_dcr(log, graph, group_key=\"org:resource\")\n",
    "print(conf_res)"
   ]
  },
  {
   "cell_type": "markdown",
   "id": "1b4fb7e279730691",
   "metadata": {
    "collapsed": false
   },
   "source": [
    "If one wishes, one can return the values as a pandas DataFrame:\n"
   ]
  },
  {
   "cell_type": "code",
   "execution_count": 8,
   "id": "b84254da1923021c",
   "metadata": {
    "collapsed": false,
    "ExecuteTime": {
     "end_time": "2023-11-16T20:35:03.474156500Z",
     "start_time": "2023-11-16T20:35:03.390844400Z"
    }
   },
   "outputs": [
    {
     "data": {
      "text/plain": "parsing log, completed traces ::   0%|          | 0/6 [00:00<?, ?it/s]",
      "application/vnd.jupyter.widget-view+json": {
       "version_major": 2,
       "version_minor": 0,
       "model_id": "eba562ddb25249a5a0718129c45594a1"
      }
     },
     "metadata": {},
     "output_type": "display_data"
    },
    {
     "name": "stdout",
     "output_type": "stream",
     "text": [
      "  case_id  no_dev_total  no_constr_total  dev_fitness\n",
      "0       3             1               49     0.979592\n",
      "1       2             1               49     0.979592\n",
      "2       1             1               49     0.979592\n",
      "3       6             1               49     0.979592\n",
      "4       5             1               49     0.979592\n",
      "5       4             1               49     0.979592\n"
     ]
    },
    {
     "name": "stderr",
     "output_type": "stream",
     "text": [
      "C:\\Users\\herma\\pm4py-dcr\\pm4py\\utils.py:542: UserWarning: the EventLog class has been deprecated and will be removed in a future release.\n",
      "  warnings.warn(\"the EventLog class has been deprecated and will be removed in a future release.\")\n"
     ]
    }
   ],
   "source": [
    "log = pm4py.read_xes(\"../tests/input_data/running-example.xes\")\n",
    "graph, _ = pm4py.discover_dcr(log, process_type={'roles'}, group_key=\"org:resource\")\n",
    "\n",
    "# when the roles are changed and conformance is performed\n",
    "log = log.replace(\"Mike\", \"Brenda\")\n",
    "conf_res = pm4py.conformance_dcr(log, graph, group_key=\"org:resource\",return_diagnostics_dataframe=True)\n",
    "print(conf_res)\n",
    "\n"
   ]
  },
  {
   "cell_type": "markdown",
   "id": "6c53b5124f7575f8",
   "metadata": {
    "collapsed": false
   },
   "source": [
    "Just like in the previous example, one can call the under lying algorithm directly if they wish to do so. In this case, one can call the class used for conformance checking:"
   ]
  },
  {
   "cell_type": "code",
   "execution_count": 9,
   "id": "a8f73c6174f8b8eb",
   "metadata": {
    "collapsed": false,
    "ExecuteTime": {
     "end_time": "2023-11-16T20:35:03.487668Z",
     "start_time": "2023-11-16T20:35:03.453287800Z"
    }
   },
   "outputs": [
    {
     "name": "stdout",
     "output_type": "stream",
     "text": [
      "[{'no_constr_total': 49, 'deviations': [('roleViolation', 'Brenda')], 'no_dev_total': 1, 'dev_fitness': 0.9795918367346939, 'is_fit': False}, {'no_constr_total': 49, 'deviations': [('roleViolation', 'Brenda')], 'no_dev_total': 1, 'dev_fitness': 0.9795918367346939, 'is_fit': False}, {'no_constr_total': 49, 'deviations': [('roleViolation', 'Brenda')], 'no_dev_total': 1, 'dev_fitness': 0.9795918367346939, 'is_fit': False}, {'no_constr_total': 49, 'deviations': [('roleViolation', 'Brenda')], 'no_dev_total': 1, 'dev_fitness': 0.9795918367346939, 'is_fit': False}, {'no_constr_total': 49, 'deviations': [('roleViolation', 'Brenda')], 'no_dev_total': 1, 'dev_fitness': 0.9795918367346939, 'is_fit': False}, {'no_constr_total': 49, 'deviations': [('roleViolation', 'Brenda')], 'no_dev_total': 1, 'dev_fitness': 0.9795918367346939, 'is_fit': False}]\n"
     ]
    }
   ],
   "source": [
    "from pm4py.algo.conformance.dcr.variants.classic import RuleBasedConformance\n",
    "parameters = pm4py.utils.get_properties(log,group_key=\"org:resource\")\n",
    "rulecheck = RuleBasedConformance(log, graph,parameters)\n",
    "conf_res = rulecheck.apply_conformance()\n",
    "print(conf_res)"
   ]
  },
  {
   "cell_type": "markdown",
   "id": "3e8e8070f5d2d7e0",
   "metadata": {
    "collapsed": false
   },
   "source": [
    "### Alignment\n",
    "\n",
    "The extension also allows for determining the optimal alignment of a DCR Graph."
   ]
  },
  {
   "cell_type": "code",
   "execution_count": 10,
   "id": "25cb7003a11e3599",
   "metadata": {
    "collapsed": false,
    "ExecuteTime": {
     "end_time": "2023-11-16T20:35:03.585421700Z",
     "start_time": "2023-11-16T20:35:03.477666200Z"
    }
   },
   "outputs": [
    {
     "data": {
      "text/plain": "parsing log, completed traces ::   0%|          | 0/6 [00:00<?, ?it/s]",
      "application/vnd.jupyter.widget-view+json": {
       "version_major": 2,
       "version_minor": 0,
       "model_id": "2da8f371a37e4e39a02092881ac24313"
      }
     },
     "metadata": {},
     "output_type": "display_data"
    },
    {
     "data": {
      "text/plain": "[{'alignment': [('register request', 'register request'),\n   ('examine thoroughly', 'examine thoroughly'),\n   ('check ticket', 'check ticket'),\n   ('decide', 'decide'),\n   ('reject request', 'reject request')],\n  'cost': 0,\n  'visited_states': 7,\n  'closed': 6,\n  'global_min': 0,\n  'fitness': 1.0,\n  'bwc': 5},\n {'alignment': [('register request', 'register request'),\n   ('check ticket', 'check ticket'),\n   ('examine casually', 'examine casually'),\n   ('decide', 'decide'),\n   ('pay compensation', 'pay compensation')],\n  'cost': 0,\n  'visited_states': 8,\n  'closed': 6,\n  'global_min': 0,\n  'fitness': 1.0,\n  'bwc': 5},\n {'alignment': [('register request', 'register request'),\n   ('examine casually', 'examine casually'),\n   ('check ticket', 'check ticket'),\n   ('decide', 'decide'),\n   ('reinitiate request', 'reinitiate request'),\n   ('examine thoroughly', 'examine thoroughly'),\n   ('check ticket', 'check ticket'),\n   ('decide', 'decide'),\n   ('pay compensation', 'pay compensation')],\n  'cost': 0,\n  'visited_states': 11,\n  'closed': 10,\n  'global_min': 0,\n  'fitness': 1.0,\n  'bwc': 9},\n {'alignment': [('register request', 'register request'),\n   ('check ticket', 'check ticket'),\n   ('examine thoroughly', 'examine thoroughly'),\n   ('decide', 'decide'),\n   ('reject request', 'reject request')],\n  'cost': 0,\n  'visited_states': 7,\n  'closed': 6,\n  'global_min': 0,\n  'fitness': 1.0,\n  'bwc': 5},\n {'alignment': [('register request', 'register request'),\n   ('examine casually', 'examine casually'),\n   ('check ticket', 'check ticket'),\n   ('decide', 'decide'),\n   ('reinitiate request', 'reinitiate request'),\n   ('check ticket', 'check ticket'),\n   ('examine casually', 'examine casually'),\n   ('decide', 'decide'),\n   ('reinitiate request', 'reinitiate request'),\n   ('examine casually', 'examine casually'),\n   ('check ticket', 'check ticket'),\n   ('decide', 'decide'),\n   ('reject request', 'reject request')],\n  'cost': 0,\n  'visited_states': 16,\n  'closed': 14,\n  'global_min': 0,\n  'fitness': 1.0,\n  'bwc': 13},\n {'alignment': [('register request', 'register request'),\n   ('examine casually', 'examine casually'),\n   ('check ticket', 'check ticket'),\n   ('decide', 'decide'),\n   ('pay compensation', 'pay compensation')],\n  'cost': 0,\n  'visited_states': 8,\n  'closed': 6,\n  'global_min': 0,\n  'fitness': 1.0,\n  'bwc': 5}]"
     },
     "execution_count": 10,
     "metadata": {},
     "output_type": "execute_result"
    }
   ],
   "source": [
    "log = pm4py.read_xes(\"../tests/input_data/running-example.xes\")\n",
    "graph, _ = pm4py.discover_dcr(log)\n",
    "align_res = pm4py.optimal_alignment_dcr(log, graph)\n",
    "align_res"
   ]
  },
  {
   "cell_type": "markdown",
   "id": "6d26fe27f300b490",
   "metadata": {
    "collapsed": false
   },
   "source": [
    "Once again, this can be viewed as a DataFrame:"
   ]
  },
  {
   "cell_type": "code",
   "execution_count": 11,
   "id": "5fd74f71c3be0941",
   "metadata": {
    "collapsed": false,
    "ExecuteTime": {
     "end_time": "2023-11-16T20:35:03.631190Z",
     "start_time": "2023-11-16T20:35:03.567728200Z"
    }
   },
   "outputs": [
    {
     "name": "stderr",
     "output_type": "stream",
     "text": [
      "C:\\Users\\herma\\pm4py-dcr\\pm4py\\utils.py:542: UserWarning: the EventLog class has been deprecated and will be removed in a future release.\n",
      "  warnings.warn(\"the EventLog class has been deprecated and will be removed in a future release.\")\n"
     ]
    },
    {
     "data": {
      "text/plain": "  case_id  align_fitness\n0       3            1.0\n1       2            1.0\n2       1            1.0\n3       6            1.0\n4       5            1.0\n5       4            1.0",
      "text/html": "<div>\n<style scoped>\n    .dataframe tbody tr th:only-of-type {\n        vertical-align: middle;\n    }\n\n    .dataframe tbody tr th {\n        vertical-align: top;\n    }\n\n    .dataframe thead th {\n        text-align: right;\n    }\n</style>\n<table border=\"1\" class=\"dataframe\">\n  <thead>\n    <tr style=\"text-align: right;\">\n      <th></th>\n      <th>case_id</th>\n      <th>align_fitness</th>\n    </tr>\n  </thead>\n  <tbody>\n    <tr>\n      <th>0</th>\n      <td>3</td>\n      <td>1.0</td>\n    </tr>\n    <tr>\n      <th>1</th>\n      <td>2</td>\n      <td>1.0</td>\n    </tr>\n    <tr>\n      <th>2</th>\n      <td>1</td>\n      <td>1.0</td>\n    </tr>\n    <tr>\n      <th>3</th>\n      <td>6</td>\n      <td>1.0</td>\n    </tr>\n    <tr>\n      <th>4</th>\n      <td>5</td>\n      <td>1.0</td>\n    </tr>\n    <tr>\n      <th>5</th>\n      <td>4</td>\n      <td>1.0</td>\n    </tr>\n  </tbody>\n</table>\n</div>"
     },
     "execution_count": 11,
     "metadata": {},
     "output_type": "execute_result"
    }
   ],
   "source": [
    "align_res = pm4py.optimal_alignment_dcr(log, graph, return_diagnostics_dataframe=True)\n",
    "align_res"
   ]
  },
  {
   "cell_type": "markdown",
   "id": "4cd31a5cb58c4347",
   "metadata": {},
   "source": [
    "## Importing/Exporting DCR Graphs\n",
    "We can visualise the mined DCR graph by exporting it as an 'xml' file and then viewing it at the corresponding portal."
   ]
  },
  {
   "cell_type": "code",
   "execution_count": 12,
   "id": "23a596df28e9ee68",
   "metadata": {
    "ExecuteTime": {
     "end_time": "2023-11-16T20:35:03.703348600Z",
     "start_time": "2023-11-16T20:35:03.601536800Z"
    }
   },
   "outputs": [
    {
     "data": {
      "text/plain": "parsing log, completed traces ::   0%|          | 0/6 [00:00<?, ?it/s]",
      "application/vnd.jupyter.widget-view+json": {
       "version_major": 2,
       "version_minor": 0,
       "model_id": "4284be2188a14b788574aafd3f57c46c"
      }
     },
     "metadata": {},
     "output_type": "display_data"
    }
   ],
   "source": [
    "from pm4py.objects.dcr.exporter import exporter as dcr_exporter\n",
    "log = pm4py.read_xes(\"../tests/input_data/running-example.xes\")\n",
    "graph, _ = pm4py.discover_dcr(log)\n",
    "path = '../tests/test_output_data/dcrgraph.xml'\n",
    "pm4py.write_dcr_xml(graph, path, variant=dcr_exporter.DCR_JS_PORTAL, dcr_title='dcrgraph')"
   ]
  },
  {
   "cell_type": "markdown",
   "id": "ed669c58da6f08ed",
   "metadata": {},
   "source": [
    "In this case, we can visualise the graph at the following link: https://hugoalopez-dtu.github.io/dcr-js/.\n",
    "\n",
    "Importing the graph is just as easy."
   ]
  },
  {
   "cell_type": "code",
   "execution_count": 13,
   "id": "ba7bd3d0b0ae4aa2",
   "metadata": {
    "ExecuteTime": {
     "end_time": "2023-11-16T20:35:03.900045800Z",
     "start_time": "2023-11-16T20:35:03.661215700Z"
    }
   },
   "outputs": [
    {
     "data": {
      "text/plain": "events: {'decide', 'reinitiate request', 'pay compensation', 'examine casually', 'register request', 'examine thoroughly', 'check ticket', 'reject request'}\nmarking: {executed: set(), included: {'decide', 'reinitiate request', 'pay compensation', 'examine casually', 'register request', 'examine thoroughly', 'check ticket', 'reject request'}, pending: set()}\nlabels: {'decide', 'reinitiate request', 'pay compensation', 'examine casually', 'register request', 'examine thoroughly', 'check ticket', 'reject request'}\nconditionsFor: {'pay compensation': {'decide'}, 'reject request': {'decide'}, 'reinitiate request': {'decide'}, 'examine thoroughly': {'register request'}, 'check ticket': {'register request'}, 'examine casually': {'register request'}, 'decide': {'examine casually', 'check ticket'}}\nresponseTo: {'register request': {'check ticket'}, 'examine thoroughly': {'decide'}, 'check ticket': {'decide'}, 'examine casually': {'decide'}, 'reinitiate request': {'check ticket'}}\nincludesTo: {'decide': {'reject request', 'reinitiate request', 'pay compensation'}}\nexcludesTo: {'pay compensation': {'decide', 'examine casually', 'pay compensation', 'check ticket', 'reject request'}, 'register request': {'register request'}, 'examine thoroughly': {'examine casually', 'examine thoroughly'}, 'reject request': {'decide', 'examine casually', 'pay compensation', 'check ticket', 'reject request'}, 'reinitiate request': {'reinitiate request'}}\nlabelMapping: {'pay compensation': {'pay compensation'}, 'decide': {'decide'}, 'register request': {'register request'}, 'examine thoroughly': {'examine thoroughly'}, 'reject request': {'reject request'}, 'check ticket': {'check ticket'}, 'examine casually': {'examine casually'}, 'reinitiate request': {'reinitiate request'}}"
     },
     "execution_count": 13,
     "metadata": {},
     "output_type": "execute_result"
    }
   ],
   "source": [
    "from pm4py.objects.dcr.importer import importer as dcr_importer\n",
    "graph = pm4py.read_dcr_xml(path, variant=dcr_importer.DCR_JS_PORTAL)\n",
    "graph"
   ]
  },
  {
   "cell_type": "markdown",
   "id": "be1ec77305198f0c",
   "metadata": {},
   "source": [
    "One can alter the graph using the DCR-js tool and then import it back into PM4Py for further manipulation, for instance checking the alignment of the new model."
   ]
  },
  {
   "cell_type": "code",
   "execution_count": 16,
   "id": "314e69a3a1cb7632",
   "metadata": {
    "ExecuteTime": {
     "end_time": "2023-11-16T20:37:43.583862100Z",
     "start_time": "2023-11-16T20:37:43.521659700Z"
    }
   },
   "outputs": [
    {
     "name": "stderr",
     "output_type": "stream",
     "text": [
      "C:\\Users\\herma\\pm4py-dcr\\pm4py\\utils.py:542: UserWarning: the EventLog class has been deprecated and will be removed in a future release.\n",
      "  warnings.warn(\"the EventLog class has been deprecated and will be removed in a future release.\")\n"
     ]
    },
    {
     "data": {
      "text/plain": "  case_id  align_fitness\n0       3       0.833333\n1       2       0.800000\n2       1       0.600000\n3       6       0.800000\n4       5       0.923077\n5       4       0.600000",
      "text/html": "<div>\n<style scoped>\n    .dataframe tbody tr th:only-of-type {\n        vertical-align: middle;\n    }\n\n    .dataframe tbody tr th {\n        vertical-align: top;\n    }\n\n    .dataframe thead th {\n        text-align: right;\n    }\n</style>\n<table border=\"1\" class=\"dataframe\">\n  <thead>\n    <tr style=\"text-align: right;\">\n      <th></th>\n      <th>case_id</th>\n      <th>align_fitness</th>\n    </tr>\n  </thead>\n  <tbody>\n    <tr>\n      <th>0</th>\n      <td>3</td>\n      <td>0.833333</td>\n    </tr>\n    <tr>\n      <th>1</th>\n      <td>2</td>\n      <td>0.800000</td>\n    </tr>\n    <tr>\n      <th>2</th>\n      <td>1</td>\n      <td>0.600000</td>\n    </tr>\n    <tr>\n      <th>3</th>\n      <td>6</td>\n      <td>0.800000</td>\n    </tr>\n    <tr>\n      <th>4</th>\n      <td>5</td>\n      <td>0.923077</td>\n    </tr>\n    <tr>\n      <th>5</th>\n      <td>4</td>\n      <td>0.600000</td>\n    </tr>\n  </tbody>\n</table>\n</div>"
     },
     "execution_count": 16,
     "metadata": {},
     "output_type": "execute_result"
    }
   ],
   "source": [
    "path_edited = '../tests/test_output_data/dcrgraph_edited.xml'\n",
    "graph_edited = pm4py.read_dcr_xml(path_edited, variant=dcr_importer.DCR_JS_PORTAL)\n",
    "align_res = pm4py.optimal_alignment_dcr(log, graph_edited, return_diagnostics_dataframe=True)\n",
    "align_res"
   ]
  },
  {
   "cell_type": "code",
   "execution_count": 17,
   "id": "fe7a928f37270717",
   "metadata": {
    "ExecuteTime": {
     "end_time": "2023-11-16T20:37:55.285856800Z",
     "start_time": "2023-11-16T20:37:55.198257800Z"
    }
   },
   "outputs": [],
   "source": [
    "# cleanup\n",
    "import os\n",
    "os.remove(path)\n",
    "os.remove(path_edited)"
   ]
  },
  {
   "cell_type": "code",
   "execution_count": null,
   "outputs": [],
   "source": [],
   "metadata": {
    "collapsed": false
   },
   "id": "1de462ee1a6fcf47"
  }
 ],
 "metadata": {
  "kernelspec": {
   "display_name": "Python 3",
   "language": "python",
   "name": "python3"
  },
  "language_info": {
   "codemirror_mode": {
    "name": "ipython",
    "version": 3
   },
   "file_extension": ".py",
   "mimetype": "text/x-python",
   "name": "python",
   "nbconvert_exporter": "python",
   "pygments_lexer": "ipython3",
   "version": "3.11.5"
  }
 },
 "nbformat": 4,
 "nbformat_minor": 5
}
