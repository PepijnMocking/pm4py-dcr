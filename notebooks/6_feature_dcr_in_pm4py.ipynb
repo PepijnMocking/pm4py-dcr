{
 "cells": [
  {
   "metadata": {
    "ExecuteTime": {
     "end_time": "2024-08-05T10:57:31.996779Z",
     "start_time": "2024-08-05T10:57:31.980756Z"
    }
   },
   "cell_type": "code",
   "source": [
    "%load_ext autoreload\n",
    "%autoreload 2"
   ],
   "id": "61e12f0450d7e90c",
   "outputs": [],
   "execution_count": 1
  },
  {
   "metadata": {
    "ExecuteTime": {
     "end_time": "2024-08-05T13:09:54.450254Z",
     "start_time": "2024-08-05T13:09:54.432381Z"
    }
   },
   "cell_type": "code",
   "source": "from pm4py.objects.dcr.obj import DcrGraph",
   "id": "622949de53956e78",
   "outputs": [],
   "execution_count": 67
  },
  {
   "metadata": {
    "ExecuteTime": {
     "end_time": "2024-08-05T14:24:09.687776Z",
     "start_time": "2024-08-05T14:24:09.670082Z"
    }
   },
   "cell_type": "code",
   "source": [
    "class A(object):\n",
    "    def __init__(self,a:str):\n",
    "        self.a = a\n",
    "    \n",
    "    def do(self):\n",
    "        print(self.a)\n",
    "        \n",
    "class B(A):\n",
    "    \n",
    "    def __init__(self, b: str, a: str):\n",
    "        super().__init__(a)\n",
    "        self.b = b\n",
    "        \n",
    "    def do(self):\n",
    "        super().do()\n",
    "        print(self.b)"
   ],
   "id": "221186a85a2d5a34",
   "outputs": [],
   "execution_count": 80
  },
  {
   "metadata": {
    "ExecuteTime": {
     "end_time": "2024-08-05T14:24:20.873630Z",
     "start_time": "2024-08-05T14:24:20.851043Z"
    }
   },
   "cell_type": "code",
   "source": [
    "a = A('a')\n",
    "b = B('b','a')"
   ],
   "id": "f4f94e54dffd9b03",
   "outputs": [],
   "execution_count": 81
  },
  {
   "metadata": {
    "ExecuteTime": {
     "end_time": "2024-08-05T14:24:41.119832Z",
     "start_time": "2024-08-05T14:24:41.099496Z"
    }
   },
   "cell_type": "code",
   "source": "isinstance(b,A)",
   "id": "e893a8ece0bd4f5d",
   "outputs": [
    {
     "data": {
      "text/plain": [
       "True"
      ]
     },
     "execution_count": 86,
     "metadata": {},
     "output_type": "execute_result"
    }
   ],
   "execution_count": 86
  },
  {
   "metadata": {
    "ExecuteTime": {
     "end_time": "2024-08-05T12:03:46.878316Z",
     "start_time": "2024-08-05T12:03:46.848591Z"
    }
   },
   "cell_type": "code",
   "source": "b.do()",
   "id": "7c57336362008e5c",
   "outputs": [
    {
     "name": "stdout",
     "output_type": "stream",
     "text": [
      "a\n",
      "b\n"
     ]
    }
   ],
   "execution_count": 58
  },
  {
   "metadata": {
    "ExecuteTime": {
     "end_time": "2024-08-05T12:56:14.692638Z",
     "start_time": "2024-08-05T12:56:14.671378Z"
    }
   },
   "cell_type": "code",
   "source": [
    "d1 = {'a': {1,2},\n",
    " 'b': {3,5}}\n",
    "d2 = {'a':{4,6},\n",
    "    'x':{'y':9,'z':8}}\n",
    "d12 = {**d1,**d2}\n",
    "print(d12)"
   ],
   "id": "b78685cebf185769",
   "outputs": [
    {
     "name": "stdout",
     "output_type": "stream",
     "text": [
      "{'a': {4, 6}, 'b': {3, 5}, 'x': {'y': 9, 'z': 8}}\n"
     ]
    }
   ],
   "execution_count": 65
  },
  {
   "metadata": {
    "ExecuteTime": {
     "end_time": "2024-08-05T13:13:40.026020Z",
     "start_time": "2024-08-05T13:13:40.008534Z"
    }
   },
   "cell_type": "code",
   "source": [
    "graph = DcrGraph()\n",
    "graph.includes['A'] = {'B'}\n",
    "print(graph)\n",
    "getattr(graph,'includes')['A'] = set()\n",
    "getattr(graph,'includes')['A'].add('C')\n",
    "print(graph)"
   ],
   "id": "c7ddc8c153a76108",
   "outputs": [
    {
     "name": "stdout",
     "output_type": "stream",
     "text": [
      "events: set()\n",
      "marking: {executed: set(), included: set(), pending: set()}\n",
      "labels: set()\n",
      "conditionsFor: {}\n",
      "responseTo: {}\n",
      "includesTo: {'A': {'B'}}\n",
      "excludesTo: {}\n",
      "labelMap: {}\n",
      "\n",
      "events: set()\n",
      "marking: {executed: set(), included: set(), pending: set()}\n",
      "labels: set()\n",
      "conditionsFor: {}\n",
      "responseTo: {}\n",
      "includesTo: {'A': {'C'}}\n",
      "excludesTo: {}\n",
      "labelMap: {}\n",
      "\n"
     ]
    }
   ],
   "execution_count": 78
  }
 ],
 "metadata": {
  "kernelspec": {
   "display_name": "Python 3",
   "language": "python",
   "name": "python3"
  },
  "language_info": {
   "codemirror_mode": {
    "name": "ipython",
    "version": 2
   },
   "file_extension": ".py",
   "mimetype": "text/x-python",
   "name": "python",
   "nbconvert_exporter": "python",
   "pygments_lexer": "ipython2",
   "version": "2.7.6"
  }
 },
 "nbformat": 4,
 "nbformat_minor": 5
}
