{
 "cells": [
  {
   "cell_type": "code",
   "execution_count": 2,
   "metadata": {
    "collapsed": true,
    "ExecuteTime": {
     "end_time": "2023-11-20T09:46:43.032679352Z",
     "start_time": "2023-11-20T09:46:42.288838003Z"
    }
   },
   "outputs": [
    {
     "name": "stdout",
     "output_type": "stream",
     "text": [
      "/home/vco/Projects/pm4py-dcr/notebooks_projects\n",
      "/home/vco/Projects/pm4py-dcr\n"
     ]
    }
   ],
   "source": [
    "import pm4py\n",
    "%load_ext autoreload\n",
    "%autoreload 2\n",
    "import os\n",
    "print(os.getcwd())\n",
    "os.chdir('/home/vco/Projects/pm4py-dcr') # working directory should be pm4py-dcr (the one behind notebooks)\n",
    "print(os.getcwd())\n",
    "\n",
    "os.environ['PM4PY_SHOW_EVENT_LOG_DEPRECATION'] = 'false'\n",
    "\n",
    "import numpy as np\n",
    "np.seterr(divide = 'ignore')\n",
    "\n",
    "import pm4py\n",
    "import datetime as dt\n",
    "import pandas as pd\n",
    "from copy import deepcopy\n",
    "from pm4py.algo.discovery.dcr_discover import algorithm as alg\n",
    "from pm4py.objects.dcr.exporter import exporter as dcr_exporter\n",
    "from pm4py.objects.dcr.exporter import exporter\n",
    "from pm4py.algo.evaluation.dcr.algorithm import *\n",
    "from pm4py.algo.discovery.dcr_discover import algorithm\n",
    "from pm4py.objects.dcr.obj import dcr_template\n",
    "from pm4py.algo.evaluation.dcr import algorithm as eval_dcr_on_pdc\n",
    "from pm4py.util.benchmarking import benchmark_event_log_from_configs\n",
    "from pm4py.algo.discovery.dcr_discover.algorithm import Variants\n",
    "\n",
    "pm4py.util.constants.SHOW_EVENT_LOG_DEPRECATION = False\n",
    "pd.set_option(\"display.max_columns\", 50)\n",
    "pd.set_option(\"display.max_rows\", 50)"
   ]
  },
  {
   "cell_type": "markdown",
   "source": [
    "# Meaning of prefix letters:\n",
    "* A = Application\n",
    "* O = Offer\n",
    "* W = Workflow"
   ],
   "metadata": {
    "collapsed": false
   }
  },
  {
   "cell_type": "markdown",
   "source": [
    "# BPIC 12"
   ],
   "metadata": {
    "collapsed": false
   }
  },
  {
   "cell_type": "code",
   "execution_count": 44,
   "outputs": [],
   "source": [
    "bpic12 = pm4py.read_xes('/home/vco/Datasets/BPI_Challenge_2012.xes')\n",
    "bpic12['case:AMOUNT_REQ'] = pd.to_numeric(bpic12['case:AMOUNT_REQ'])\n",
    "bpic12['concept:name'].replace({'W_Completeren aanvraag':'W_Add information to application',\n",
    " 'W_Nabellen offertes':'W_Follow up by phone on quotes',\n",
    " 'W_Valideren aanvraag':'W_Validate application',\n",
    " 'W_Wijzigen contractgegevens':'W_Change contract details',\n",
    " 'W_Afhandelen leads':'W_Follow up on leads',\n",
    " 'W_Nabellen incomplete dossiers':'W_Follow up by phone on incomplete case files',\n",
    " 'W_Beoordelen fraude':'W_Assess fraud'},inplace=True)\n",
    "bpic12['EventOrigin'] = bpic12['concept:name'].apply(lambda x: str(x).split('_')[0])"
   ],
   "metadata": {
    "collapsed": false,
    "ExecuteTime": {
     "start_time": "2023-04-23T22:36:32.028122Z",
     "end_time": "2023-04-23T22:36:32.100496Z"
    }
   }
  },
  {
   "cell_type": "markdown",
   "source": [],
   "metadata": {
    "collapsed": false
   }
  },
  {
   "cell_type": "code",
   "execution_count": 43,
   "outputs": [],
   "source": [
    "cancelled_cids = set(bpic12[(bpic12['lifecycle:transition']=='COMPLETE')&(bpic12['concept:name']=='A_CANCELLED')]['case:concept:name'].unique())"
   ],
   "metadata": {
    "collapsed": false,
    "ExecuteTime": {
     "start_time": "2023-04-23T22:35:17.462500Z",
     "end_time": "2023-04-23T22:35:17.527241Z"
    }
   }
  },
  {
   "cell_type": "code",
   "execution_count": 45,
   "outputs": [],
   "source": [
    "only_offer_cids = set(bpic12[bpic12['EventOrigin']=='O']['case:concept:name'].unique())"
   ],
   "metadata": {
    "collapsed": false,
    "ExecuteTime": {
     "start_time": "2023-04-23T22:37:50.060950Z",
     "end_time": "2023-04-23T22:37:50.143326Z"
    }
   }
  },
  {
   "cell_type": "code",
   "execution_count": 46,
   "outputs": [],
   "source": [
    "cancelled_no_offer_cids = cancelled_cids.difference(only_offer_cids)"
   ],
   "metadata": {
    "collapsed": false,
    "ExecuteTime": {
     "start_time": "2023-04-23T22:38:11.804422Z",
     "end_time": "2023-04-23T22:38:11.822775Z"
    }
   }
  },
  {
   "cell_type": "code",
   "execution_count": 47,
   "outputs": [],
   "source": [
    "cancelled_bpic12 = bpic12[bpic12['case:concept:name'].isin(cancelled_no_offer_cids)]"
   ],
   "metadata": {
    "collapsed": false,
    "ExecuteTime": {
     "start_time": "2023-04-23T22:38:21.884626Z",
     "end_time": "2023-04-23T22:38:21.919913Z"
    }
   }
  },
  {
   "cell_type": "code",
   "execution_count": 50,
   "outputs": [
    {
     "data": {
      "text/plain": "Empty DataFrame\nColumns: [org:resource, lifecycle:transition, concept:name, time:timestamp, case:REG_DATE, case:concept:name, case:AMOUNT_REQ, EventOrigin]\nIndex: []",
      "text/html": "<div>\n<style scoped>\n    .dataframe tbody tr th:only-of-type {\n        vertical-align: middle;\n    }\n\n    .dataframe tbody tr th {\n        vertical-align: top;\n    }\n\n    .dataframe thead th {\n        text-align: right;\n    }\n</style>\n<table border=\"1\" class=\"dataframe\">\n  <thead>\n    <tr style=\"text-align: right;\">\n      <th></th>\n      <th>org:resource</th>\n      <th>lifecycle:transition</th>\n      <th>concept:name</th>\n      <th>time:timestamp</th>\n      <th>case:REG_DATE</th>\n      <th>case:concept:name</th>\n      <th>case:AMOUNT_REQ</th>\n      <th>EventOrigin</th>\n    </tr>\n  </thead>\n  <tbody>\n  </tbody>\n</table>\n</div>"
     },
     "execution_count": 50,
     "metadata": {},
     "output_type": "execute_result"
    }
   ],
   "source": [
    "bpic12[(bpic12['EventOrigin']=='A')&(bpic12['lifecycle:transition']!='COMPLETE')]"
   ],
   "metadata": {
    "collapsed": false,
    "ExecuteTime": {
     "start_time": "2023-04-23T22:44:27.423452Z",
     "end_time": "2023-04-23T22:44:27.491192Z"
    }
   }
  },
  {
   "cell_type": "code",
   "execution_count": 49,
   "outputs": [
    {
     "name": "stderr",
     "output_type": "stream",
     "text": [
      "exporting log, completed traces :: 100%|██████████| 1167/1167 [00:00<00:00, 3054.25it/s]\n"
     ]
    }
   ],
   "source": [
    "bpic12_lct = deepcopy(cancelled_bpic12)\n",
    "bpic12_lct['concept:name'] = bpic12_lct['concept:name'] + \"_\" + bpic12_lct['lifecycle:transition']\n",
    "pm4py.write_xes(bpic12_lct[bpic12_lct['lifecycle:transition']!='SCHEDULE'], file_path='datasets/bpic12_no_schedule_lct_cancelled')"
   ],
   "metadata": {
    "collapsed": false,
    "ExecuteTime": {
     "start_time": "2023-04-23T22:38:31.021415Z",
     "end_time": "2023-04-23T22:38:31.667520Z"
    }
   }
  },
  {
   "cell_type": "code",
   "execution_count": 34,
   "outputs": [
    {
     "name": "stderr",
     "output_type": "stream",
     "text": [
      "exporting log, completed traces :: 100%|██████████| 13087/13087 [00:03<00:00, 3445.30it/s]\n"
     ]
    }
   ],
   "source": [
    "bpic12_lct = deepcopy(bpic12)\n",
    "bpic12_lct['concept:name'] = bpic12_lct['concept:name'] + \"_\" + bpic12_lct['lifecycle:transition']\n",
    "pm4py.write_xes(bpic12_lct[bpic12_lct['lifecycle:transition']!='SCHEDULE'], file_path='datasets/bpic12_no_schedule_lct')"
   ],
   "metadata": {
    "collapsed": false,
    "ExecuteTime": {
     "start_time": "2023-04-23T22:16:19.604827Z",
     "end_time": "2023-04-23T22:16:27.199445Z"
    }
   }
  },
  {
   "cell_type": "code",
   "execution_count": 23,
   "outputs": [],
   "source": [
    "bpic12_only_complete = bpic12[bpic12['lifecycle:transition']=='COMPLETE']"
   ],
   "metadata": {
    "collapsed": false,
    "ExecuteTime": {
     "start_time": "2023-04-23T21:35:24.092242Z",
     "end_time": "2023-04-23T21:35:24.183297Z"
    }
   }
  },
  {
   "cell_type": "code",
   "execution_count": 24,
   "outputs": [
    {
     "name": "stderr",
     "output_type": "stream",
     "text": [
      "exporting log, completed traces :: 100%|██████████| 13087/13087 [00:03<00:00, 4310.40it/s]\n"
     ]
    }
   ],
   "source": [
    "pm4py.write_xes(bpic12_only_complete, file_path='datasets/bpic12_only_complete')"
   ],
   "metadata": {
    "collapsed": false,
    "ExecuteTime": {
     "start_time": "2023-04-23T21:35:28.893073Z",
     "end_time": "2023-04-23T21:35:34.671923Z"
    }
   }
  },
  {
   "cell_type": "code",
   "execution_count": 25,
   "outputs": [
    {
     "name": "stderr",
     "output_type": "stream",
     "text": [
      "exporting log, completed traces :: 100%|██████████| 9658/9658 [00:03<00:00, 2455.68it/s]\n"
     ]
    }
   ],
   "source": [
    "pm4py.write_xes(bpic12[(bpic12['EventOrigin']=='O')|(bpic12['EventOrigin']=='W')],file_path='datasets/bpic12_wo')"
   ],
   "metadata": {
    "collapsed": false,
    "ExecuteTime": {
     "start_time": "2023-04-23T21:35:34.712635Z",
     "end_time": "2023-04-23T21:35:41.952546Z"
    }
   }
  },
  {
   "cell_type": "code",
   "execution_count": 121,
   "outputs": [
    {
     "name": "stderr",
     "output_type": "stream",
     "text": [
      "parsing log, completed traces :: 100%|██████████| 13087/13087 [00:05<00:00, 2206.49it/s]\n"
     ]
    }
   ],
   "source": [
    "bpic12 = pm4py.read_xes('/home/vco/Datasets/BPI_Challenge_2012.xes')\n",
    "bpic12['EventOrigin'] = bpic12['concept:name'].apply(lambda x: str(x).split('_')[0])\n",
    "bpic12['concept:name'] = bpic12['concept:name'].apply(lambda x: str(x).split('_')[1])\n",
    "bpic12['case:AMOUNT_REQ'] = pd.to_numeric(bpic12['case:AMOUNT_REQ'])"
   ],
   "metadata": {
    "collapsed": false,
    "ExecuteTime": {
     "start_time": "2023-04-21T13:24:55.044764Z",
     "end_time": "2023-04-21T13:25:09.007302Z"
    }
   }
  },
  {
   "cell_type": "code",
   "execution_count": 122,
   "outputs": [
    {
     "name": "stderr",
     "output_type": "stream",
     "text": [
      "exporting log, completed traces :: 100%|██████████| 13087/13087 [00:01<00:00, 10070.25it/s]\n",
      "exporting log, completed traces :: 100%|██████████| 5015/5015 [00:00<00:00, 7764.67it/s]\n",
      "exporting log, completed traces :: 100%|██████████| 9658/9658 [00:03<00:00, 2927.20it/s]\n",
      "exporting log, completed traces :: 100%|██████████| 13087/13087 [00:05<00:00, 2572.36it/s]\n"
     ]
    }
   ],
   "source": [
    "pm4py.write_xes(bpic12[bpic12['EventOrigin']=='A'],file_path='datasets/bpic12_application')\n",
    "pm4py.write_xes(bpic12[bpic12['EventOrigin']=='O'],file_path='datasets/bpic12_offer')\n",
    "pm4py.write_xes(bpic12[bpic12['EventOrigin']=='W'],file_path='datasets/bpic12_workflow')\n",
    "pm4py.write_xes(bpic12,file_path='datasets/bpic12_all')"
   ],
   "metadata": {
    "collapsed": false,
    "ExecuteTime": {
     "start_time": "2023-04-21T13:28:35.422055Z",
     "end_time": "2023-04-21T13:28:54.391412Z"
    }
   }
  },
  {
   "cell_type": "code",
   "execution_count": 56,
   "outputs": [
    {
     "data": {
      "text/plain": "<Axes: >"
     },
     "execution_count": 56,
     "metadata": {},
     "output_type": "execute_result"
    },
    {
     "data": {
      "text/plain": "<Figure size 640x480 with 1 Axes>",
      "image/png": "[encoded data removed]"
     },
     "metadata": {},
     "output_type": "display_data"
    }
   ],
   "source": [
    "bpic12[bpic12['case:AMOUNT_REQ']>0]['case:AMOUNT_REQ'].hist()"
   ],
   "metadata": {
    "collapsed": false,
    "ExecuteTime": {
     "start_time": "2023-04-21T10:12:42.375154Z",
     "end_time": "2023-04-21T10:12:42.619906Z"
    }
   }
  },
  {
   "cell_type": "code",
   "execution_count": 83,
   "outputs": [
    {
     "data": {
      "text/plain": "       case:concept:name concept:name EventOrigin\n126               173697     DECLINED           A\n129               173700     DECLINED           A\n151               173706     DECLINED           A\n333               173724     DECLINED           A\n337               173727     DECLINED           A\n...                  ...          ...         ...\n262146            214364     ACCEPTED           A\n262170            214367     DECLINED           A\n262175            214370     DECLINED           A\n262185            214373     ACCEPTED           A\n262198            214376     DECLINED           A\n\n[8901 rows x 3 columns]",
      "text/html": "<div>\n<style scoped>\n    .dataframe tbody tr th:only-of-type {\n        vertical-align: middle;\n    }\n\n    .dataframe tbody tr th {\n        vertical-align: top;\n    }\n\n    .dataframe thead th {\n        text-align: right;\n    }\n</style>\n<table border=\"1\" class=\"dataframe\">\n  <thead>\n    <tr style=\"text-align: right;\">\n      <th></th>\n      <th>case:concept:name</th>\n      <th>concept:name</th>\n      <th>EventOrigin</th>\n    </tr>\n  </thead>\n  <tbody>\n    <tr>\n      <th>126</th>\n      <td>173697</td>\n      <td>DECLINED</td>\n      <td>A</td>\n    </tr>\n    <tr>\n      <th>129</th>\n      <td>173700</td>\n      <td>DECLINED</td>\n      <td>A</td>\n    </tr>\n    <tr>\n      <th>151</th>\n      <td>173706</td>\n      <td>DECLINED</td>\n      <td>A</td>\n    </tr>\n    <tr>\n      <th>333</th>\n      <td>173724</td>\n      <td>DECLINED</td>\n      <td>A</td>\n    </tr>\n    <tr>\n      <th>337</th>\n      <td>173727</td>\n      <td>DECLINED</td>\n      <td>A</td>\n    </tr>\n    <tr>\n      <th>...</th>\n      <td>...</td>\n      <td>...</td>\n      <td>...</td>\n    </tr>\n    <tr>\n      <th>262146</th>\n      <td>214364</td>\n      <td>ACCEPTED</td>\n      <td>A</td>\n    </tr>\n    <tr>\n      <th>262170</th>\n      <td>214367</td>\n      <td>DECLINED</td>\n      <td>A</td>\n    </tr>\n    <tr>\n      <th>262175</th>\n      <td>214370</td>\n      <td>DECLINED</td>\n      <td>A</td>\n    </tr>\n    <tr>\n      <th>262185</th>\n      <td>214373</td>\n      <td>ACCEPTED</td>\n      <td>A</td>\n    </tr>\n    <tr>\n      <th>262198</th>\n      <td>214376</td>\n      <td>DECLINED</td>\n      <td>A</td>\n    </tr>\n  </tbody>\n</table>\n<p>8901 rows × 3 columns</p>\n</div>"
     },
     "execution_count": 83,
     "metadata": {},
     "output_type": "execute_result"
    }
   ],
   "source": [
    "accepted_offers = set(bpic12[(bpic12['concept:name']=='ACCEPTED') & (bpic12['EventOrigin']=='O')]['case:concept:name'].unique())\n",
    "declined_offers = set(bpic12[(bpic12['concept:name']=='DECLINED') & (bpic12['EventOrigin']=='O')]['case:concept:name'].unique())\n",
    "check_this = set(bpic12['case:concept:name'].unique()).difference(accepted_offers.union(declined_offers))\n",
    "bpic12[(bpic12['case:concept:name'].isin(check_this)) & (bpic12['concept:name'].isin(['ACCEPTED','DECLINED']))].sort_values(['case:concept:name','time:timestamp'],ascending=True)[['case:concept:name','concept:name','EventOrigin']]"
   ],
   "metadata": {
    "collapsed": false,
    "ExecuteTime": {
     "start_time": "2023-04-21T10:25:21.636986Z",
     "end_time": "2023-04-21T10:25:21.689216Z"
    }
   }
  },
  {
   "cell_type": "code",
   "execution_count": 111,
   "outputs": [
    {
     "name": "stderr",
     "output_type": "stream",
     "text": [
      "/home/vco/Projects/pm4py-dcr/pm4py/utils.py:486: UserWarning: the EventLog class has been deprecated and will be removed in a future release.\n",
      "  warnings.warn(\"the EventLog class has been deprecated and will be removed in a future release.\")\n"
     ]
    }
   ],
   "source": [
    "bpic12_eo = bpic12[['case:concept:name','EventOrigin','time:timestamp','lifecycle:transition']].sort_values(['case:concept:name','EventOrigin'])\n",
    "bpic12_eo.rename({'EventOrigin':'concept:name'},axis=1,inplace=True)\n",
    "dcr_eo1, la = alg.apply(bpic12_eo, alg.DCR_BASIC,timed=True)\n",
    "dcr_exporter.apply(dcr_eo1,path=\"models/bpi12_event_origin.xml\",dcr_title=\"\",dcr_description=\"\")"
   ],
   "metadata": {
    "collapsed": false,
    "ExecuteTime": {
     "start_time": "2023-04-21T12:35:48.132615Z",
     "end_time": "2023-04-21T12:36:32.993354Z"
    }
   }
  },
  {
   "cell_type": "code",
   "execution_count": 112,
   "outputs": [
    {
     "data": {
      "text/plain": "            concept:name EventOrigin org:resource lifecycle:transition  \\\n0              SUBMITTED           A          112             COMPLETE   \n1        PARTLYSUBMITTED           A          112             COMPLETE   \n2            PREACCEPTED           A          112             COMPLETE   \n3   Completeren aanvraag           W          112             SCHEDULE   \n4   Completeren aanvraag           W          NaN                START   \n5               ACCEPTED           A        10862             COMPLETE   \n6               SELECTED           O        10862             COMPLETE   \n7              FINALIZED           A        10862             COMPLETE   \n8                CREATED           O        10862             COMPLETE   \n9                   SENT           O        10862             COMPLETE   \n10     Nabellen offertes           W          NaN             SCHEDULE   \n11  Completeren aanvraag           W          NaN             COMPLETE   \n12     Nabellen offertes           W          NaN                START   \n13     Nabellen offertes           W          NaN             COMPLETE   \n14     Nabellen offertes           W        10913                START   \n15     Nabellen offertes           W        10913             COMPLETE   \n16     Nabellen offertes           W        11049                START   \n17                  SENT           O        11049             COMPLETE   \n18    Valideren aanvraag           W        11049             SCHEDULE   \n19     Nabellen offertes           W        11049             COMPLETE   \n20    Valideren aanvraag           W        10629                START   \n21            REGISTERED           A        10629             COMPLETE   \n22              APPROVED           A        10629             COMPLETE   \n23              ACCEPTED           O        10629             COMPLETE   \n24             ACTIVATED           A        10629             COMPLETE   \n25    Valideren aanvraag           W        10629             COMPLETE   \n\n                     time:timestamp  \n0  2011-09-30 22:38:44.546000+00:00  \n1  2011-09-30 22:38:44.880000+00:00  \n2  2011-09-30 22:39:37.906000+00:00  \n3  2011-09-30 22:39:38.875000+00:00  \n4  2011-10-01 09:36:46.437000+00:00  \n5  2011-10-01 09:42:43.308000+00:00  \n6  2011-10-01 09:45:09.243000+00:00  \n7  2011-10-01 09:45:09.243000+00:00  \n8  2011-10-01 09:45:11.197000+00:00  \n9  2011-10-01 09:45:11.380000+00:00  \n10 2011-10-01 09:45:11.554000+00:00  \n11 2011-10-01 09:45:13.917000+00:00  \n12 2011-10-01 10:15:41.290000+00:00  \n13 2011-10-01 10:17:08.924000+00:00  \n14 2011-10-08 14:26:57.720000+00:00  \n15 2011-10-08 14:32:00.886000+00:00  \n16 2011-10-10 09:32:22.495000+00:00  \n17 2011-10-10 09:33:03.668000+00:00  \n18 2011-10-10 09:33:04.560000+00:00  \n19 2011-10-10 09:33:05.791000+00:00  \n20 2011-10-13 08:05:26.925000+00:00  \n21 2011-10-13 08:37:29.226000+00:00  \n22 2011-10-13 08:37:29.226000+00:00  \n23 2011-10-13 08:37:29.226000+00:00  \n24 2011-10-13 08:37:29.226000+00:00  \n25 2011-10-13 08:37:37.026000+00:00  ",
      "text/html": "<div>\n<style scoped>\n    .dataframe tbody tr th:only-of-type {\n        vertical-align: middle;\n    }\n\n    .dataframe tbody tr th {\n        vertical-align: top;\n    }\n\n    .dataframe thead th {\n        text-align: right;\n    }\n</style>\n<table border=\"1\" class=\"dataframe\">\n  <thead>\n    <tr style=\"text-align: right;\">\n      <th></th>\n      <th>concept:name</th>\n      <th>EventOrigin</th>\n      <th>org:resource</th>\n      <th>lifecycle:transition</th>\n      <th>time:timestamp</th>\n    </tr>\n  </thead>\n  <tbody>\n    <tr>\n      <th>0</th>\n      <td>SUBMITTED</td>\n      <td>A</td>\n      <td>112</td>\n      <td>COMPLETE</td>\n      <td>2011-09-30 22:38:44.546000+00:00</td>\n    </tr>\n    <tr>\n      <th>1</th>\n      <td>PARTLYSUBMITTED</td>\n      <td>A</td>\n      <td>112</td>\n      <td>COMPLETE</td>\n      <td>2011-09-30 22:38:44.880000+00:00</td>\n    </tr>\n    <tr>\n      <th>2</th>\n      <td>PREACCEPTED</td>\n      <td>A</td>\n      <td>112</td>\n      <td>COMPLETE</td>\n      <td>2011-09-30 22:39:37.906000+00:00</td>\n    </tr>\n    <tr>\n      <th>3</th>\n      <td>Completeren aanvraag</td>\n      <td>W</td>\n      <td>112</td>\n      <td>SCHEDULE</td>\n      <td>2011-09-30 22:39:38.875000+00:00</td>\n    </tr>\n    <tr>\n      <th>4</th>\n      <td>Completeren aanvraag</td>\n      <td>W</td>\n      <td>NaN</td>\n      <td>START</td>\n      <td>2011-10-01 09:36:46.437000+00:00</td>\n    </tr>\n    <tr>\n      <th>5</th>\n      <td>ACCEPTED</td>\n      <td>A</td>\n      <td>10862</td>\n      <td>COMPLETE</td>\n      <td>2011-10-01 09:42:43.308000+00:00</td>\n    </tr>\n    <tr>\n      <th>6</th>\n      <td>SELECTED</td>\n      <td>O</td>\n      <td>10862</td>\n      <td>COMPLETE</td>\n      <td>2011-10-01 09:45:09.243000+00:00</td>\n    </tr>\n    <tr>\n      <th>7</th>\n      <td>FINALIZED</td>\n      <td>A</td>\n      <td>10862</td>\n      <td>COMPLETE</td>\n      <td>2011-10-01 09:45:09.243000+00:00</td>\n    </tr>\n    <tr>\n      <th>8</th>\n      <td>CREATED</td>\n      <td>O</td>\n      <td>10862</td>\n      <td>COMPLETE</td>\n      <td>2011-10-01 09:45:11.197000+00:00</td>\n    </tr>\n    <tr>\n      <th>9</th>\n      <td>SENT</td>\n      <td>O</td>\n      <td>10862</td>\n      <td>COMPLETE</td>\n      <td>2011-10-01 09:45:11.380000+00:00</td>\n    </tr>\n    <tr>\n      <th>10</th>\n      <td>Nabellen offertes</td>\n      <td>W</td>\n      <td>NaN</td>\n      <td>SCHEDULE</td>\n      <td>2011-10-01 09:45:11.554000+00:00</td>\n    </tr>\n    <tr>\n      <th>11</th>\n      <td>Completeren aanvraag</td>\n      <td>W</td>\n      <td>NaN</td>\n      <td>COMPLETE</td>\n      <td>2011-10-01 09:45:13.917000+00:00</td>\n    </tr>\n    <tr>\n      <th>12</th>\n      <td>Nabellen offertes</td>\n      <td>W</td>\n      <td>NaN</td>\n      <td>START</td>\n      <td>2011-10-01 10:15:41.290000+00:00</td>\n    </tr>\n    <tr>\n      <th>13</th>\n      <td>Nabellen offertes</td>\n      <td>W</td>\n      <td>NaN</td>\n      <td>COMPLETE</td>\n      <td>2011-10-01 10:17:08.924000+00:00</td>\n    </tr>\n    <tr>\n      <th>14</th>\n      <td>Nabellen offertes</td>\n      <td>W</td>\n      <td>10913</td>\n      <td>START</td>\n      <td>2011-10-08 14:26:57.720000+00:00</td>\n    </tr>\n    <tr>\n      <th>15</th>\n      <td>Nabellen offertes</td>\n      <td>W</td>\n      <td>10913</td>\n      <td>COMPLETE</td>\n      <td>2011-10-08 14:32:00.886000+00:00</td>\n    </tr>\n    <tr>\n      <th>16</th>\n      <td>Nabellen offertes</td>\n      <td>W</td>\n      <td>11049</td>\n      <td>START</td>\n      <td>2011-10-10 09:32:22.495000+00:00</td>\n    </tr>\n    <tr>\n      <th>17</th>\n      <td>SENT</td>\n      <td>O</td>\n      <td>11049</td>\n      <td>COMPLETE</td>\n      <td>2011-10-10 09:33:03.668000+00:00</td>\n    </tr>\n    <tr>\n      <th>18</th>\n      <td>Valideren aanvraag</td>\n      <td>W</td>\n      <td>11049</td>\n      <td>SCHEDULE</td>\n      <td>2011-10-10 09:33:04.560000+00:00</td>\n    </tr>\n    <tr>\n      <th>19</th>\n      <td>Nabellen offertes</td>\n      <td>W</td>\n      <td>11049</td>\n      <td>COMPLETE</td>\n      <td>2011-10-10 09:33:05.791000+00:00</td>\n    </tr>\n    <tr>\n      <th>20</th>\n      <td>Valideren aanvraag</td>\n      <td>W</td>\n      <td>10629</td>\n      <td>START</td>\n      <td>2011-10-13 08:05:26.925000+00:00</td>\n    </tr>\n    <tr>\n      <th>21</th>\n      <td>REGISTERED</td>\n      <td>A</td>\n      <td>10629</td>\n      <td>COMPLETE</td>\n      <td>2011-10-13 08:37:29.226000+00:00</td>\n    </tr>\n    <tr>\n      <th>22</th>\n      <td>APPROVED</td>\n      <td>A</td>\n      <td>10629</td>\n      <td>COMPLETE</td>\n      <td>2011-10-13 08:37:29.226000+00:00</td>\n    </tr>\n    <tr>\n      <th>23</th>\n      <td>ACCEPTED</td>\n      <td>O</td>\n      <td>10629</td>\n      <td>COMPLETE</td>\n      <td>2011-10-13 08:37:29.226000+00:00</td>\n    </tr>\n    <tr>\n      <th>24</th>\n      <td>ACTIVATED</td>\n      <td>A</td>\n      <td>10629</td>\n      <td>COMPLETE</td>\n      <td>2011-10-13 08:37:29.226000+00:00</td>\n    </tr>\n    <tr>\n      <th>25</th>\n      <td>Valideren aanvraag</td>\n      <td>W</td>\n      <td>10629</td>\n      <td>COMPLETE</td>\n      <td>2011-10-13 08:37:37.026000+00:00</td>\n    </tr>\n  </tbody>\n</table>\n</div>"
     },
     "execution_count": 112,
     "metadata": {},
     "output_type": "execute_result"
    }
   ],
   "source": [
    "bpic12[bpic12['case:concept:name']=='173688'].sort_values('time:timestamp', ascending=True)[['concept:name','EventOrigin','org:resource','lifecycle:transition','time:timestamp']]"
   ],
   "metadata": {
    "collapsed": false,
    "ExecuteTime": {
     "start_time": "2023-04-21T12:40:00.931724Z",
     "end_time": "2023-04-21T12:40:00.971904Z"
    }
   }
  },
  {
   "cell_type": "code",
   "execution_count": 58,
   "outputs": [
    {
     "data": {
      "text/plain": "Empty DataFrame\nColumns: []\nIndex: [(A, 10138, ACCEPTED), (A, 10138, ACTIVATED), (A, 10138, APPROVED), (A, 10138, CANCELLED), (A, 10138, DECLINED), (A, 10138, FINALIZED), (A, 10138, PREACCEPTED), (A, 10138, REGISTERED), (A, 10188, DECLINED), (A, 10228, ACCEPTED), (A, 10228, CANCELLED), (A, 10228, DECLINED), (A, 10228, FINALIZED), (A, 10228, PREACCEPTED), (A, 10609, ACCEPTED), (A, 10609, ACTIVATED), (A, 10609, APPROVED), (A, 10609, CANCELLED), (A, 10609, DECLINED), (A, 10609, FINALIZED), (A, 10609, PREACCEPTED), (A, 10609, REGISTERED), (A, 10629, ACCEPTED), (A, 10629, ACTIVATED), (A, 10629, APPROVED), (A, 10629, CANCELLED), (A, 10629, DECLINED), (A, 10629, FINALIZED), (A, 10629, PREACCEPTED), (A, 10629, REGISTERED), (A, 10779, ACCEPTED), (A, 10779, ACTIVATED), (A, 10779, APPROVED), (A, 10779, CANCELLED), (A, 10779, DECLINED), (A, 10779, FINALIZED), (A, 10779, REGISTERED), (A, 10789, CANCELLED), (A, 10809, ACCEPTED), (A, 10809, ACTIVATED), (A, 10809, APPROVED), (A, 10809, CANCELLED), (A, 10809, DECLINED), (A, 10809, FINALIZED), (A, 10809, PREACCEPTED), (A, 10809, REGISTERED), (A, 10859, ACCEPTED), (A, 10859, CANCELLED), (A, 10859, DECLINED), (A, 10859, FINALIZED), (A, 10859, PREACCEPTED), (A, 10861, ACCEPTED), (A, 10861, CANCELLED), (A, 10861, DECLINED), (A, 10861, FINALIZED), (A, 10861, PREACCEPTED), (A, 10862, ACCEPTED), (A, 10862, CANCELLED), (A, 10862, DECLINED), (A, 10862, FINALIZED), (A, 10862, PREACCEPTED), (A, 10863, ACCEPTED), (A, 10863, CANCELLED), (A, 10863, DECLINED), (A, 10863, FINALIZED), (A, 10863, PREACCEPTED), (A, 10880, ACCEPTED), (A, 10880, CANCELLED), (A, 10880, DECLINED), (A, 10880, FINALIZED), (A, 10880, PREACCEPTED), (A, 10881, ACCEPTED), (A, 10881, CANCELLED), (A, 10881, DECLINED), (A, 10881, FINALIZED), (A, 10881, PREACCEPTED), (A, 10889, ACCEPTED), (A, 10889, CANCELLED), (A, 10889, DECLINED), (A, 10889, FINALIZED), (A, 10889, PREACCEPTED), (A, 10899, CANCELLED), (A, 10909, ACCEPTED), (A, 10909, CANCELLED), (A, 10909, DECLINED), (A, 10909, FINALIZED), (A, 10909, PREACCEPTED), (A, 10910, ACCEPTED), (A, 10910, CANCELLED), (A, 10910, DECLINED), (A, 10910, FINALIZED), (A, 10910, PREACCEPTED), (A, 10912, ACCEPTED), (A, 10912, CANCELLED), (A, 10912, DECLINED), (A, 10912, FINALIZED), (A, 10912, PREACCEPTED), (A, 10913, ACCEPTED), (A, 10913, CANCELLED), (A, 10913, DECLINED), ...]\n\n[871 rows x 0 columns]",
      "text/html": "<div>\n<style scoped>\n    .dataframe tbody tr th:only-of-type {\n        vertical-align: middle;\n    }\n\n    .dataframe tbody tr th {\n        vertical-align: top;\n    }\n\n    .dataframe thead th {\n        text-align: right;\n    }\n</style>\n<table border=\"1\" class=\"dataframe\">\n  <thead>\n    <tr style=\"text-align: right;\">\n      <th></th>\n      <th></th>\n      <th></th>\n    </tr>\n    <tr>\n      <th>EventOrigin</th>\n      <th>org:resource</th>\n      <th>concept:name</th>\n    </tr>\n  </thead>\n  <tbody>\n    <tr>\n      <th rowspan=\"5\" valign=\"top\">A</th>\n      <th rowspan=\"5\" valign=\"top\">10138</th>\n      <th>ACCEPTED</th>\n    </tr>\n    <tr>\n      <th>ACTIVATED</th>\n    </tr>\n    <tr>\n      <th>APPROVED</th>\n    </tr>\n    <tr>\n      <th>CANCELLED</th>\n    </tr>\n    <tr>\n      <th>DECLINED</th>\n    </tr>\n    <tr>\n      <th>...</th>\n      <th>...</th>\n      <th>...</th>\n    </tr>\n    <tr>\n      <th rowspan=\"5\" valign=\"top\">W</th>\n      <th rowspan=\"2\" valign=\"top\">11319</th>\n      <th>Nabellen offertes</th>\n    </tr>\n    <tr>\n      <th>Valideren aanvraag</th>\n    </tr>\n    <tr>\n      <th rowspan=\"3\" valign=\"top\">11339</th>\n      <th>Beoordelen fraude</th>\n    </tr>\n    <tr>\n      <th>Nabellen incomplete dossiers</th>\n    </tr>\n    <tr>\n      <th>Valideren aanvraag</th>\n    </tr>\n  </tbody>\n</table>\n<p>871 rows × 0 columns</p>\n</div>"
     },
     "execution_count": 58,
     "metadata": {},
     "output_type": "execute_result"
    }
   ],
   "source": [
    "bpic12[['EventOrigin','org:resource','concept:name']].groupby(['EventOrigin','org:resource','concept:name']).all()"
   ],
   "metadata": {
    "collapsed": false,
    "ExecuteTime": {
     "start_time": "2023-04-21T10:13:11.801667Z",
     "end_time": "2023-04-21T10:13:11.965345Z"
    }
   }
  },
  {
   "cell_type": "markdown",
   "source": [
    "# BPIC 12 TKDE (seems to be the same as BPIC 12)"
   ],
   "metadata": {
    "collapsed": false
   }
  },
  {
   "cell_type": "code",
   "execution_count": 36,
   "outputs": [
    {
     "name": "stderr",
     "output_type": "stream",
     "text": [
      "parsing log, completed traces :: 100%|██████████| 13087/13087 [00:06<00:00, 1907.18it/s]\n"
     ]
    }
   ],
   "source": [
    "tkde_bpic12 = pm4py.read_xes('/home/vco/Datasets/data/TKDE_Benchmark/BPIC12.xes')"
   ],
   "metadata": {
    "collapsed": false,
    "ExecuteTime": {
     "start_time": "2023-04-21T10:03:01.562668Z",
     "end_time": "2023-04-21T10:03:15.897231Z"
    }
   }
  },
  {
   "cell_type": "markdown",
   "source": [
    "# BPIC 17"
   ],
   "metadata": {
    "collapsed": false
   }
  },
  {
   "cell_type": "code",
   "execution_count": 16,
   "outputs": [
    {
     "data": {
      "text/plain": "array(['Application', 'Workflow', 'Offer'], dtype=object)"
     },
     "execution_count": 16,
     "metadata": {},
     "output_type": "execute_result"
    }
   ],
   "source": [
    "bpic17 = pm4py.read_xes('/home/vco/Datasets/BPI Challenge 2017.xes')\n",
    "print(bpic17['EventOrigin'].unique())\n",
    "pm4py.write_xes(bpic17[bpic17['EventOrigin']=='Application'],file_path='datasets/bpic17_application')\n",
    "pm4py.write_xes(bpic17[bpic17['EventOrigin']=='Offer'],file_path='datasets/bpic17_offer')\n",
    "pm4py.write_xes(bpic17[bpic17['EventOrigin']=='Workflow'],file_path='datasets/bpic17_workflow')\n",
    "pm4py.write_xes(bpic17,file_path='datasets/bpic17_all')"
   ],
   "metadata": {
    "collapsed": false,
    "ExecuteTime": {
     "start_time": "2023-04-21T09:36:55.153196Z",
     "end_time": "2023-04-21T09:36:55.320123Z"
    }
   }
  },
  {
   "cell_type": "code",
   "execution_count": 23,
   "outputs": [
    {
     "data": {
      "text/plain": "Empty DataFrame\nColumns: []\nIndex: [(Application, User_1, A_Cancelled), (Application, User_1, A_Concept), (Application, User_1, A_Create Application), (Application, User_1, A_Submitted), (Application, User_10, A_Accepted), (Application, User_10, A_Cancelled), (Application, User_10, A_Complete), (Application, User_10, A_Concept), (Application, User_10, A_Create Application), (Application, User_10, A_Denied), (Application, User_10, A_Incomplete), (Application, User_10, A_Validating), (Application, User_100, A_Accepted), (Application, User_100, A_Complete), (Application, User_100, A_Concept), (Application, User_100, A_Create Application), (Application, User_100, A_Denied), (Application, User_100, A_Incomplete), (Application, User_100, A_Pending), (Application, User_100, A_Validating), (Application, User_101, A_Accepted), (Application, User_101, A_Complete), (Application, User_101, A_Concept), (Application, User_101, A_Create Application), (Application, User_101, A_Denied), (Application, User_101, A_Incomplete), (Application, User_101, A_Validating), (Application, User_102, A_Accepted), (Application, User_102, A_Cancelled), (Application, User_102, A_Complete), (Application, User_102, A_Concept), (Application, User_102, A_Create Application), (Application, User_102, A_Denied), (Application, User_102, A_Incomplete), (Application, User_102, A_Pending), (Application, User_102, A_Validating), (Application, User_103, A_Accepted), (Application, User_103, A_Cancelled), (Application, User_103, A_Complete), (Application, User_103, A_Concept), (Application, User_103, A_Create Application), (Application, User_103, A_Validating), (Application, User_104, A_Accepted), (Application, User_104, A_Cancelled), (Application, User_104, A_Complete), (Application, User_104, A_Concept), (Application, User_104, A_Create Application), (Application, User_105, A_Accepted), (Application, User_105, A_Cancelled), (Application, User_105, A_Complete), (Application, User_105, A_Concept), (Application, User_105, A_Create Application), (Application, User_105, A_Incomplete), (Application, User_105, A_Validating), (Application, User_106, A_Accepted), (Application, User_106, A_Complete), (Application, User_106, A_Concept), (Application, User_106, A_Create Application), (Application, User_106, A_Denied), (Application, User_106, A_Incomplete), (Application, User_106, A_Pending), (Application, User_106, A_Validating), (Application, User_107, A_Accepted), (Application, User_107, A_Cancelled), (Application, User_107, A_Complete), (Application, User_107, A_Concept), (Application, User_107, A_Create Application), (Application, User_107, A_Denied), (Application, User_107, A_Incomplete), (Application, User_107, A_Pending), (Application, User_107, A_Validating), (Application, User_108, A_Accepted), (Application, User_108, A_Complete), (Application, User_108, A_Concept), (Application, User_108, A_Create Application), (Application, User_109, A_Accepted), (Application, User_109, A_Cancelled), (Application, User_109, A_Complete), (Application, User_109, A_Concept), (Application, User_109, A_Create Application), (Application, User_109, A_Denied), (Application, User_109, A_Incomplete), (Application, User_109, A_Pending), (Application, User_109, A_Validating), (Application, User_11, A_Accepted), (Application, User_11, A_Cancelled), (Application, User_11, A_Complete), (Application, User_11, A_Concept), (Application, User_11, A_Create Application), (Application, User_11, A_Denied), (Application, User_11, A_Incomplete), (Application, User_11, A_Validating), (Application, User_110, A_Accepted), (Application, User_110, A_Cancelled), (Application, User_110, A_Complete), (Application, User_110, A_Concept), (Application, User_110, A_Create Application), (Application, User_111, A_Accepted), (Application, User_111, A_Cancelled), (Application, User_111, A_Complete), ...]\n\n[2414 rows x 0 columns]",
      "text/html": "<div>\n<style scoped>\n    .dataframe tbody tr th:only-of-type {\n        vertical-align: middle;\n    }\n\n    .dataframe tbody tr th {\n        vertical-align: top;\n    }\n\n    .dataframe thead th {\n        text-align: right;\n    }\n</style>\n<table border=\"1\" class=\"dataframe\">\n  <thead>\n    <tr style=\"text-align: right;\">\n      <th></th>\n      <th></th>\n      <th></th>\n    </tr>\n    <tr>\n      <th>EventOrigin</th>\n      <th>org:resource</th>\n      <th>concept:name</th>\n    </tr>\n  </thead>\n  <tbody>\n    <tr>\n      <th rowspan=\"5\" valign=\"top\">Application</th>\n      <th rowspan=\"4\" valign=\"top\">User_1</th>\n      <th>A_Cancelled</th>\n    </tr>\n    <tr>\n      <th>A_Concept</th>\n    </tr>\n    <tr>\n      <th>A_Create Application</th>\n    </tr>\n    <tr>\n      <th>A_Submitted</th>\n    </tr>\n    <tr>\n      <th>User_10</th>\n      <th>A_Accepted</th>\n    </tr>\n    <tr>\n      <th>...</th>\n      <th>...</th>\n      <th>...</th>\n    </tr>\n    <tr>\n      <th rowspan=\"5\" valign=\"top\">Workflow</th>\n      <th rowspan=\"5\" valign=\"top\">User_99</th>\n      <th>W_Call after offers</th>\n    </tr>\n    <tr>\n      <th>W_Call incomplete files</th>\n    </tr>\n    <tr>\n      <th>W_Complete application</th>\n    </tr>\n    <tr>\n      <th>W_Personal Loan collection</th>\n    </tr>\n    <tr>\n      <th>W_Validate application</th>\n    </tr>\n  </tbody>\n</table>\n<p>2414 rows × 0 columns</p>\n</div>"
     },
     "execution_count": 23,
     "metadata": {},
     "output_type": "execute_result"
    }
   ],
   "source": [
    "bpic17[['EventOrigin','org:resource','concept:name']].groupby(['EventOrigin','org:resource','concept:name']).first()"
   ],
   "metadata": {
    "collapsed": false
   }
  },
  {
   "cell_type": "markdown",
   "source": [
    "# BPIC 17 - Just the Offers (Offer log)"
   ],
   "metadata": {
    "collapsed": false
   }
  },
  {
   "cell_type": "code",
   "execution_count": 17,
   "outputs": [
    {
     "data": {
      "text/plain": "array(['Offer'], dtype=object)"
     },
     "execution_count": 17,
     "metadata": {},
     "output_type": "execute_result"
    }
   ],
   "source": [
    "bpic17_offer = pm4py.read_xes('/home/vco/Datasets/BPI Challenge 2017 - Offer log.xes')\n",
    "print(bpic17_offer['EventOrigin'].unique())"
   ],
   "metadata": {
    "collapsed": false,
    "ExecuteTime": {
     "start_time": "2023-04-21T09:41:11.621669Z",
     "end_time": "2023-04-21T09:41:11.677403Z"
    }
   }
  },
  {
   "cell_type": "markdown",
   "source": [
    "# BPIC 17 - f - TKDE - used by the imperative miners"
   ],
   "metadata": {
    "collapsed": false
   }
  },
  {
   "cell_type": "code",
   "execution_count": 18,
   "outputs": [
    {
     "data": {
      "text/plain": "array(['Application', 'Offer', 'Workflow'], dtype=object)"
     },
     "execution_count": 18,
     "metadata": {},
     "output_type": "execute_result"
    }
   ],
   "source": [
    "bpic17_f = pm4py.read_xes('/home/vco/Datasets/data/TKDE_Benchmark/BPIC17_f.xes')\n",
    "print(bpic17_f['EventOrigin'].unique())"
   ],
   "metadata": {
    "collapsed": false,
    "ExecuteTime": {
     "start_time": "2023-04-21T09:41:27.409048Z",
     "end_time": "2023-04-21T09:41:27.546121Z"
    }
   }
  },
  {
   "cell_type": "code",
   "execution_count": null,
   "outputs": [],
   "source": [
    "accepted_offers = set(bpic12[(bpic12['concept:name']=='ACCEPTED') & (bpic12['EventOrigin']=='O')]['case:concept:name'].unique())\n",
    "declined_offers = set(bpic12[(bpic12['concept:name']=='DECLINED') & (bpic12['EventOrigin']=='O')]['case:concept:name'].unique())\n",
    "check_this = set(bpic12['case:concept:name'].unique()).difference(accepted_offers.union(declined_offers))\n",
    "bpic12[(bpic12['case:concept:name'].isin(check_this)) & (bpic12['concept:name'].isin(['ACCEPTED','DECLINED']))].sort_values(['case:concept:name','time:timestamp'],ascending=True)[['case:concept:name','concept:name','EventOrigin']]"
   ],
   "metadata": {
    "collapsed": false
   }
  },
  {
   "cell_type": "code",
   "execution_count": 109,
   "outputs": [
    {
     "name": "stderr",
     "output_type": "stream",
     "text": [
      "/home/vco/Projects/pm4py-dcr/pm4py/utils.py:486: UserWarning: the EventLog class has been deprecated and will be removed in a future release.\n",
      "  warnings.warn(\"the EventLog class has been deprecated and will be removed in a future release.\")\n"
     ]
    }
   ],
   "source": [
    "bpic17_eo = bpic17[['case:concept:name', 'EventOrigin', 'time:timestamp', 'lifecycle:transition']].sort_values(\n",
    "    ['case:concept:name', 'EventOrigin'])\n",
    "bpic17_eo.rename({'EventOrigin': 'concept:name'}, axis=1, inplace=True)\n",
    "dcr_eo17, la17 = alg.apply(bpic17_eo, alg.DCR_BASIC,timed=True)\n",
    "dcr_exporter.apply(dcr_eo17, path=\"models/bpi17_event_origin.xml\", dcr_title=\"\", dcr_description=\"\")"
   ],
   "metadata": {
    "collapsed": false,
    "ExecuteTime": {
     "start_time": "2023-04-21T12:30:16.446690Z",
     "end_time": "2023-04-21T12:35:37.290130Z"
    }
   }
  },
  {
   "cell_type": "markdown",
   "source": [
    "# Playground stuff from notebook 7"
   ],
   "metadata": {
    "collapsed": false
   }
  },
  {
   "cell_type": "code",
   "execution_count": null,
   "outputs": [],
   "source": [
    "#test trace to test timings\n",
    "cids = [1,1,1,1,1,1,\n",
    "        2,2,2,2,2,\n",
    "        3,3,3,3,3,3,3,3,3,3,\n",
    "        4,4,4,4,4,4,4,4,4,4,4,4,4,4,4]\n",
    "events = ['B','B','C','D','E','F',\n",
    "          'A', 'B', 'E', 'F' ,'C',\n",
    "          'A', 'B', 'F', 'C', 'B', 'C', 'B', 'E', 'F', 'C',\n",
    "          'B','B','B','Z','B','C','B','A','C','Z','C','C','B','B','C']\n",
    "timestamps = [pd.to_datetime('2021-8-02'),pd.to_datetime('2021-10-02'),pd.to_datetime('2021-10-03'),\n",
    "                      pd.to_datetime('2021-10-04'),pd.to_datetime('2021-10-05'),pd.to_datetime('2021-10-06'),\n",
    "                     pd.to_datetime('2021-10-01'),pd.to_datetime('2021-10-02'),pd.to_datetime('2021-10-03'),\n",
    "                      pd.to_datetime('2021-10-04'),pd.to_datetime('2021-10-05'),\n",
    "                     pd.to_datetime('2021-10-01'),pd.to_datetime('2021-10-02'),pd.to_datetime('2021-10-03'),\n",
    "                      pd.to_datetime('2021-10-04'),pd.to_datetime('2021-10-05'),pd.to_datetime('2021-10-06'),pd.to_datetime('2021-10-07'),\n",
    "                      pd.to_datetime('2021-10-08'),pd.to_datetime('2021-10-09'),pd.to_datetime('2021-10-10'),\n",
    "                     pd.to_datetime('2021-9-01'),pd.to_datetime('2021-10-01'),pd.to_datetime('2021-10-03'),\n",
    "                      pd.to_datetime('2021-10-04'),pd.to_datetime('2021-10-05'),pd.to_datetime('2021-10-06'),\n",
    "                      pd.to_datetime('2021-10-07'),pd.to_datetime('2021-10-08'),pd.to_datetime('2021-10-09'),\n",
    "                      pd.to_datetime('2021-10-10'),pd.to_datetime('2021-10-11'),pd.to_datetime('2025-10-11'),\n",
    "                      pd.to_datetime('2025-10-12'),pd.to_datetime('2025-10-13'),pd.to_datetime('2025-10-14')]\n",
    "test_log_dict = {\n",
    "    'case:concept:name':cids,\n",
    "    'concept:name':events,\n",
    "    'time:timestamp':timestamps\n",
    "}\n",
    "\n",
    "test_tid = {\n",
    "    'CONDITION': [['B','C']],\n",
    "    'RESPONSE': [['B','C']]\n",
    "}\n",
    "\n",
    "test_log_df = pd.DataFrame(test_log_dict)\n",
    "test_event_log = deepcopy(test_log_df)"
   ],
   "metadata": {
    "collapsed": false
   }
  },
  {
   "cell_type": "code",
   "execution_count": 10,
   "outputs": [],
   "source": [
    "#test traces for subproceses\n",
    "dict_keys = ['case:concept:name','concept:name','time:timestamp']\n",
    "\n",
    "def create_test_traces(ordered_event_matrix):\n",
    "    start_date = dt.date(2023,1,1)\n",
    "    case_id = 1\n",
    "    test_el = []\n",
    "    for i, trace in enumerate(ordered_event_matrix):\n",
    "        date = start_date\n",
    "        for j, event in enumerate(trace):\n",
    "            test_el.append({dict_keys[0]:str(case_id),dict_keys[1]:str(event),dict_keys[2]:date})\n",
    "            date = date + dt.timedelta(days=np.random.randint(1, 10)) # TODO: there could be a random sample from a distribution here\n",
    "        case_id = case_id + 1\n",
    "    df_test = pd.DataFrame(test_el,columns=['case:concept:name','concept:name','time:timestamp'],dtype=str)\n",
    "    df_test['time:timestamp'] = pd.to_datetime(df_test['time:timestamp'])\n",
    "    return pm4py.convert_to_event_log(df_test)\n",
    "\n",
    "def create_test_traces_with_dates(ordered_event_matrix, ordered_dates_matrix):\n",
    "    case_id = 1\n",
    "    test_el = []\n",
    "    for i, trace in enumerate(ordered_event_matrix):\n",
    "        for j, event in enumerate(trace):\n",
    "            date = pd.to_datetime(ordered_dates_matrix[i][j])\n",
    "            test_el.append({dict_keys[0]:str(case_id),dict_keys[1]:str(event),dict_keys[2]:date})\n",
    "        case_id = case_id + 1\n",
    "    df_test = pd.DataFrame(test_el,columns=['case:concept:name','concept:name','time:timestamp'],dtype=str)\n",
    "    df_test['time:timestamp'] = pd.to_datetime(df_test['time:timestamp'])\n",
    "    return pm4py.convert_to_event_log(df_test)"
   ],
   "metadata": {
    "collapsed": false,
    "ExecuteTime": {
     "end_time": "2023-11-19T18:17:07.315578506Z",
     "start_time": "2023-11-19T18:17:07.273151560Z"
    }
   }
  },
  {
   "cell_type": "code",
   "execution_count": null,
   "outputs": [],
   "source": [
    "A,B,C,D,E,F = 'A','B','C','D','E','F'\n",
    "event_log = create_test_traces([[A,C,C,B,D],[A,B,C,C,D],[A,E,F,D],[A,F,E,D],[A,B,C,D,A,E,F,D],[A,C,B,C,D,A,F,E,D]])"
   ],
   "metadata": {
    "collapsed": false
   }
  },
  {
   "cell_type": "markdown",
   "source": [
    "# Choose your doctor trace"
   ],
   "metadata": {
    "collapsed": false
   }
  },
  {
   "cell_type": "code",
   "execution_count": 5,
   "outputs": [
    {
     "name": "stderr",
     "output_type": "stream",
     "text": [
      "/home/vco/Projects/pm4py-dcr/pm4py/utils.py:494: UserWarning: the EventLog class has been deprecated and will be removed in a future release.\n",
      "  warnings.warn(\"the EventLog class has been deprecated and will be removed in a future release.\")\n"
     ]
    },
    {
     "data": {
      "text/plain": "exporting log, completed traces ::   0%|          | 0/4 [00:00<?, ?it/s]",
      "application/vnd.jupyter.widget-view+json": {
       "version_major": 2,
       "version_minor": 0,
       "model_id": "bb48322ca2e044a69509b138fe600aff"
      }
     },
     "metadata": {},
     "output_type": "display_data"
    }
   ],
   "source": [
    "A,B,C,D = 'System Choose doctor','Citizen Choose doctor','Family Doctor 1','Family Doctor 2'\n",
    "E = 'Consent to transfer medical history'\n",
    "F = 'Transfer medical history'\n",
    "G = 'Send mail to citizen'\n",
    "events = [[A,C,G,E,F],\n",
    "          [A,D,G,E,F],\n",
    "          [B,E,C,F],\n",
    "          [B,E,D,F]]\n",
    "dates = [['2023-01-01','2023-01-08','2023-01-09','2023-01-10','2023-01-11'],\n",
    "         ['2023-01-01','2023-01-08','2023-01-09','2023-04-01','2023-04-02'],\n",
    "         ['2023-01-01','2023-01-02','2023-01-04','2023-01-05'],\n",
    "         ['2023-01-01','2023-01-06','2023-01-07','2023-01-08']]\n",
    "running_example_trace = create_test_traces_with_dates(events,dates)\n",
    "tt = pm4py.convert_to_event_log(running_example_trace)\n",
    "pm4py.write_xes(tt,file_path='/home/vco/Projects/pm4py-dcr/models/running_example_trace_doctor.xes')"
   ],
   "metadata": {
    "collapsed": false,
    "ExecuteTime": {
     "end_time": "2023-11-19T18:14:49.715478326Z",
     "start_time": "2023-11-19T18:14:49.601629295Z"
    }
   }
  },
  {
   "cell_type": "code",
   "execution_count": 6,
   "outputs": [
    {
     "data": {
      "text/plain": "                           concept:name            time:timestamp  \\\n0                  System Choose doctor 2023-01-01 00:00:00+00:00   \n1                       Family Doctor 1 2023-01-08 00:00:00+00:00   \n2                  Send mail to citizen 2023-01-09 00:00:00+00:00   \n3   Consent to transfer medical history 2023-01-10 00:00:00+00:00   \n4              Transfer medical history 2023-01-11 00:00:00+00:00   \n5                  System Choose doctor 2023-01-01 00:00:00+00:00   \n6                       Family Doctor 2 2023-01-08 00:00:00+00:00   \n7                  Send mail to citizen 2023-01-09 00:00:00+00:00   \n8   Consent to transfer medical history 2023-04-01 00:00:00+00:00   \n9              Transfer medical history 2023-04-02 00:00:00+00:00   \n10                Citizen Choose doctor 2023-01-01 00:00:00+00:00   \n11  Consent to transfer medical history 2023-01-02 00:00:00+00:00   \n12                      Family Doctor 1 2023-01-04 00:00:00+00:00   \n13             Transfer medical history 2023-01-05 00:00:00+00:00   \n14                Citizen Choose doctor 2023-01-01 00:00:00+00:00   \n15  Consent to transfer medical history 2023-01-06 00:00:00+00:00   \n16                      Family Doctor 2 2023-01-07 00:00:00+00:00   \n17             Transfer medical history 2023-01-08 00:00:00+00:00   \n\n   case:concept:name  \n0                  1  \n1                  1  \n2                  1  \n3                  1  \n4                  1  \n5                  2  \n6                  2  \n7                  2  \n8                  2  \n9                  2  \n10                 3  \n11                 3  \n12                 3  \n13                 3  \n14                 4  \n15                 4  \n16                 4  \n17                 4  ",
      "text/html": "<div>\n<style scoped>\n    .dataframe tbody tr th:only-of-type {\n        vertical-align: middle;\n    }\n\n    .dataframe tbody tr th {\n        vertical-align: top;\n    }\n\n    .dataframe thead th {\n        text-align: right;\n    }\n</style>\n<table border=\"1\" class=\"dataframe\">\n  <thead>\n    <tr style=\"text-align: right;\">\n      <th></th>\n      <th>concept:name</th>\n      <th>time:timestamp</th>\n      <th>case:concept:name</th>\n    </tr>\n  </thead>\n  <tbody>\n    <tr>\n      <th>0</th>\n      <td>System Choose doctor</td>\n      <td>2023-01-01 00:00:00+00:00</td>\n      <td>1</td>\n    </tr>\n    <tr>\n      <th>1</th>\n      <td>Family Doctor 1</td>\n      <td>2023-01-08 00:00:00+00:00</td>\n      <td>1</td>\n    </tr>\n    <tr>\n      <th>2</th>\n      <td>Send mail to citizen</td>\n      <td>2023-01-09 00:00:00+00:00</td>\n      <td>1</td>\n    </tr>\n    <tr>\n      <th>3</th>\n      <td>Consent to transfer medical history</td>\n      <td>2023-01-10 00:00:00+00:00</td>\n      <td>1</td>\n    </tr>\n    <tr>\n      <th>4</th>\n      <td>Transfer medical history</td>\n      <td>2023-01-11 00:00:00+00:00</td>\n      <td>1</td>\n    </tr>\n    <tr>\n      <th>5</th>\n      <td>System Choose doctor</td>\n      <td>2023-01-01 00:00:00+00:00</td>\n      <td>2</td>\n    </tr>\n    <tr>\n      <th>6</th>\n      <td>Family Doctor 2</td>\n      <td>2023-01-08 00:00:00+00:00</td>\n      <td>2</td>\n    </tr>\n    <tr>\n      <th>7</th>\n      <td>Send mail to citizen</td>\n      <td>2023-01-09 00:00:00+00:00</td>\n      <td>2</td>\n    </tr>\n    <tr>\n      <th>8</th>\n      <td>Consent to transfer medical history</td>\n      <td>2023-04-01 00:00:00+00:00</td>\n      <td>2</td>\n    </tr>\n    <tr>\n      <th>9</th>\n      <td>Transfer medical history</td>\n      <td>2023-04-02 00:00:00+00:00</td>\n      <td>2</td>\n    </tr>\n    <tr>\n      <th>10</th>\n      <td>Citizen Choose doctor</td>\n      <td>2023-01-01 00:00:00+00:00</td>\n      <td>3</td>\n    </tr>\n    <tr>\n      <th>11</th>\n      <td>Consent to transfer medical history</td>\n      <td>2023-01-02 00:00:00+00:00</td>\n      <td>3</td>\n    </tr>\n    <tr>\n      <th>12</th>\n      <td>Family Doctor 1</td>\n      <td>2023-01-04 00:00:00+00:00</td>\n      <td>3</td>\n    </tr>\n    <tr>\n      <th>13</th>\n      <td>Transfer medical history</td>\n      <td>2023-01-05 00:00:00+00:00</td>\n      <td>3</td>\n    </tr>\n    <tr>\n      <th>14</th>\n      <td>Citizen Choose doctor</td>\n      <td>2023-01-01 00:00:00+00:00</td>\n      <td>4</td>\n    </tr>\n    <tr>\n      <th>15</th>\n      <td>Consent to transfer medical history</td>\n      <td>2023-01-06 00:00:00+00:00</td>\n      <td>4</td>\n    </tr>\n    <tr>\n      <th>16</th>\n      <td>Family Doctor 2</td>\n      <td>2023-01-07 00:00:00+00:00</td>\n      <td>4</td>\n    </tr>\n    <tr>\n      <th>17</th>\n      <td>Transfer medical history</td>\n      <td>2023-01-08 00:00:00+00:00</td>\n      <td>4</td>\n    </tr>\n  </tbody>\n</table>\n</div>"
     },
     "execution_count": 6,
     "metadata": {},
     "output_type": "execute_result"
    }
   ],
   "source": [
    "pm4py.convert_to_dataframe(tt)"
   ],
   "metadata": {
    "collapsed": false,
    "ExecuteTime": {
     "end_time": "2023-11-19T18:14:51.696132999Z",
     "start_time": "2023-11-19T18:14:51.672211377Z"
    }
   }
  },
  {
   "cell_type": "markdown",
   "source": [
    "# I1 I2 F1 F2 example"
   ],
   "metadata": {
    "collapsed": false
   }
  },
  {
   "cell_type": "code",
   "execution_count": 64,
   "outputs": [
    {
     "name": "stderr",
     "output_type": "stream",
     "text": [
      "/home/vco/Projects/pm4py-dcr/pm4py/utils.py:486: UserWarning: the EventLog class has been deprecated and will be removed in a future release.\n",
      "  warnings.warn(\"the EventLog class has been deprecated and will be removed in a future release.\")\n"
     ]
    },
    {
     "name": "stdout",
     "output_type": "stream",
     "text": [
      "2023-01-08\n",
      "2023-01-11\n",
      "2023-01-08\n",
      "2023-01-15\n",
      "2023-01-02\n",
      "2023-01-05\n",
      "2023-01-04\n",
      "2023-01-10\n"
     ]
    },
    {
     "name": "stderr",
     "output_type": "stream",
     "text": [
      "exporting log, completed traces :: 100%|██████████| 4/4 [00:00<00:00, 23109.11it/s]\n"
     ]
    }
   ],
   "source": [
    "A,B,C,D = 'I1','I2','F1','F2'\n",
    "running_example_trace = create_test_traces([[A,C],[A,D],[B,C],[B,D]])\n",
    "tt = pm4py.convert_to_event_log(running_example_trace)\n",
    "pm4py.write_xes(tt,file_path='/home/vco/Downloads/running_example_trace.xes')"
   ],
   "metadata": {
    "collapsed": false
   }
  },
  {
   "cell_type": "code",
   "execution_count": 7,
   "outputs": [
    {
     "data": {
      "text/plain": "[{'attributes': {'concept:name': '1'}, 'events': [{'concept:name': 'System Choose doctor', 'time:timestamp': Timestamp('2023-01-01 00:00:00'), 'case:concept:name': '1'}, '..', {'concept:name': 'Transfer medical history', 'time:timestamp': Timestamp('2023-01-11 00:00:00'), 'case:concept:name': '1'}]}, '....', {'attributes': {'concept:name': '4'}, 'events': [{'concept:name': 'Citizen Choose doctor', 'time:timestamp': Timestamp('2023-01-01 00:00:00'), 'case:concept:name': '4'}, '..', {'concept:name': 'Transfer medical history', 'time:timestamp': Timestamp('2023-01-08 00:00:00'), 'case:concept:name': '4'}]}]"
     },
     "execution_count": 7,
     "metadata": {},
     "output_type": "execute_result"
    }
   ],
   "source": [
    "running_example_trace"
   ],
   "metadata": {
    "collapsed": false,
    "ExecuteTime": {
     "end_time": "2023-11-19T18:15:19.894046759Z",
     "start_time": "2023-11-19T18:15:19.851845718Z"
    }
   }
  },
  {
   "cell_type": "code",
   "execution_count": 15,
   "outputs": [
    {
     "name": "stdout",
     "output_type": "stream",
     "text": [
      "[i] Started with config: {'variant': <Variants.DCR_BASIC: <module 'pm4py.algo.discovery.dcr_discover.variants.dcr_discover' from '/home/vco/Projects/pm4py-dcr/pm4py/algo/discovery/dcr_discover/variants/dcr_discover.py'>>}\n",
      "[i] Mining with basic DisCoveR\n",
      "[!] Model saved in models/running_example_doctor__config0.xml\n",
      "[i] Started with config: {'variant': <Variants.DCR_ME: <module 'pm4py.algo.discovery.dcr_discover.extenstions.mutual_exclusion' from '/home/vco/Projects/pm4py-dcr/pm4py/algo/discovery/dcr_discover/extenstions/mutual_exclusion.py'>>}\n",
      "[i] Mining with ME-DisCoveR\n",
      "[!] Model saved in models/running_example_doctor__config1.xml\n",
      "[i] Started with config: {'variant': <Variants.DCR_N: <module 'pm4py.algo.discovery.dcr_discover.extenstions.nesting' from '/home/vco/Projects/pm4py-dcr/pm4py/algo/discovery/dcr_discover/extenstions/nesting.py'>>}\n",
      "[i] Mining with N-DisCoveR\n",
      "[!] Model saved in models/running_example_doctor__config2.xml\n",
      "[i] Started with config: {'variant': <Variants.DCR_NME: [<module 'pm4py.algo.discovery.dcr_discover.extenstions.nesting' from '/home/vco/Projects/pm4py-dcr/pm4py/algo/discovery/dcr_discover/extenstions/nesting.py'>, <module 'pm4py.algo.discovery.dcr_discover.extenstions.mutual_exclusion' from '/home/vco/Projects/pm4py-dcr/pm4py/algo/discovery/dcr_discover/extenstions/mutual_exclusion.py'>]>}\n",
      "[i] Mining with NME-DisCoveR\n",
      "[!] Model saved in models/running_example_doctor__config3.xml\n"
     ]
    }
   ],
   "source": [
    "configs = [{'variant': Variants.DCR_BASIC },{ 'variant': Variants.DCR_ME },{'variant': Variants.DCR_N,},{'variant': Variants.DCR_NME,}]\n",
    "dcrs = benchmark_event_log_from_configs(tt,dcr_title=\"running_example\",result_file_prefix=\"running_example_doctor\",configs=configs)"
   ],
   "metadata": {
    "collapsed": false,
    "ExecuteTime": {
     "end_time": "2023-11-19T18:23:19.273906413Z",
     "start_time": "2023-11-19T18:23:19.220696269Z"
    }
   }
  },
  {
   "cell_type": "code",
   "execution_count": 16,
   "outputs": [
    {
     "data": {
      "text/plain": "{'events': {'Citizen Choose doctor',\n  'Consent to transfer medical history',\n  'Family Doctor 1',\n  'Family Doctor 2',\n  'ME0',\n  'ME1',\n  'N1',\n  'N2',\n  'N3',\n  'N4',\n  'Send mail to citizen',\n  'System Choose doctor',\n  'Transfer medical history'},\n 'conditionsFor': {'Transfer medical history': {'Consent to transfer medical history'},\n  'Consent to transfer medical history': {'N3', 'Send mail to citizen'},\n  'Send mail to citizen': {'N1'},\n  'N1': {'N3'}},\n 'milestonesFor': {},\n 'responseTo': {'System Choose doctor': {'Send mail to citizen'},\n  'Consent to transfer medical history': {'Transfer medical history'},\n  'Send mail to citizen': {'Consent to transfer medical history'},\n  'Citizen Choose doctor': {'Consent to transfer medical history'},\n  'N1': {'Transfer medical history'}},\n 'noResponseTo': {},\n 'includesTo': {},\n 'excludesTo': {'Transfer medical history': {'Transfer medical history'},\n  'Consent to transfer medical history': {'Consent to transfer medical history'},\n  'Send mail to citizen': {'Send mail to citizen'},\n  'Citizen Choose doctor': {'Send mail to citizen'},\n  'N1': {'N2'},\n  'N2': {'N1'},\n  'N3': {'N4'},\n  'N4': {'N3'}},\n 'marking': {'executed': set(),\n  'included': {'Citizen Choose doctor',\n   'Consent to transfer medical history',\n   'Family Doctor 1',\n   'Family Doctor 2',\n   'ME0',\n   'ME1',\n   'N1',\n   'N2',\n   'N3',\n   'N4',\n   'Send mail to citizen',\n   'System Choose doctor',\n   'Transfer medical history'},\n  'pending': set(),\n  'executedTime': {},\n  'pendingDeadline': {}},\n 'conditionsForDelays': {},\n 'responseToDeadlines': {},\n 'subprocesses': {},\n 'nestings': {'N1': {'N2'},\n  'N4': {'Citizen Choose doctor', 'System Choose doctor'},\n  'N3': {'N4'},\n  'N2': {'Family Doctor 1', 'Family Doctor 2'},\n  'ME0': {'N1'},\n  'ME1': {'N3'}},\n 'nestingsMap': {'Family Doctor 1': 'ME0',\n  'Family Doctor 2': 'ME0',\n  'N2': 'N1',\n  'Citizen Choose doctor': 'ME1',\n  'System Choose doctor': 'ME1',\n  'N4': 'N3'},\n 'labels': set(),\n 'labelMapping': {},\n 'roles': set(),\n 'roleAssignments': {},\n 'readRoleAssignments': {}}"
     },
     "execution_count": 16,
     "metadata": {},
     "output_type": "execute_result"
    }
   ],
   "source": [
    "dcrs[3]"
   ],
   "metadata": {
    "collapsed": false,
    "ExecuteTime": {
     "end_time": "2023-11-19T18:23:22.780024589Z",
     "start_time": "2023-11-19T18:23:22.761767720Z"
    }
   }
  },
  {
   "cell_type": "code",
   "execution_count": 1,
   "outputs": [],
   "source": [
    "def get_mutual_exclusions(dcr, i=0):\n",
    "    \"\"\"\n",
    "    Get subprocesses based on cliques. Now we naively get the largest clique.\n",
    "    TODO: Get cliques smartly by taking the cliques that jointly use the highest number of events.\n",
    "    It should be solved as a search space problem.\n",
    "    Parameters\n",
    "    ----------\n",
    "    dcr\n",
    "    i\n",
    "\n",
    "    Returns\n",
    "    -------\n",
    "\n",
    "    \"\"\"\n",
    "\n",
    "    graph = get_mutually_excluding_graph(dcr)\n",
    "    cliques = list(frozenset(s) for s in nx.enumerate_all_cliques(graph) if len(s) > 1)\n",
    "    cliques = sorted(cliques, key=len, reverse=True)\n",
    "    sps = {}\n",
    "    used_cliques = {}\n",
    "    for c in cliques:\n",
    "        used_cliques[c] = False\n",
    "\n",
    "    used_events = set()\n",
    "    for clique in cliques:\n",
    "        if not used_cliques[clique]:\n",
    "            if len(clique.intersection(used_events)) == 0:\n",
    "                # any new mutually exclusive subprocess must be disjoint from all existing ones\n",
    "                sps[f'ME{i}'] = clique\n",
    "                i += 1\n",
    "                used_cliques[clique] = True\n",
    "                used_events = used_events.union(clique)\n",
    "    return sps\n",
    "\n",
    "\n",
    "def get_mutually_excluding_graph(dcr):\n",
    "    rel_matrices = {}\n",
    "    for rel in ['excludesTo']:\n",
    "        ind = pd.Index(sorted(dcr['events']), dtype=str)\n",
    "        rel_matrix = pd.DataFrame(0, columns=ind, index=ind, dtype=int)\n",
    "        for e in dcr['events']:\n",
    "            for e_prime in dcr['events']:\n",
    "                if e in dcr[rel] and e_prime in dcr[rel][e]:\n",
    "                    rel_matrix.at[e, e_prime] = 1\n",
    "        rel_matrices[rel] = rel_matrix\n",
    "\n",
    "    self_excluding = set()\n",
    "    for e in dcr['events']:\n",
    "        if rel_matrices['excludesTo'].at[e, e] == 1:\n",
    "            self_excluding.add(e)\n",
    "    mutually_excluding = []\n",
    "    for e in self_excluding:\n",
    "        for e_prime in self_excluding:\n",
    "            if e != e_prime and \\\n",
    "                    rel_matrices['excludesTo'].at[e, e_prime] == 1 and \\\n",
    "                    rel_matrices['excludesTo'].at[e_prime, e] == 1:\n",
    "                if (e, e_prime) not in mutually_excluding and (e_prime, e) not in mutually_excluding:\n",
    "                    mutually_excluding.append((e, e_prime))\n",
    "\n",
    "    return nx.from_edgelist(mutually_excluding)"
   ],
   "metadata": {
    "collapsed": false,
    "ExecuteTime": {
     "end_time": "2023-11-20T09:38:08.551288110Z",
     "start_time": "2023-11-20T09:38:08.543926890Z"
    }
   }
  },
  {
   "cell_type": "code",
   "execution_count": 12,
   "outputs": [],
   "source": [
    "def get_mutual_exclusions2(dcr, i=0):\n",
    "    \"\"\"\n",
    "    Get subprocesses based on cliques. Now we naively get the largest clique.\n",
    "    TODO: Get cliques smartly by taking the cliques that jointly use the highest number of events.\n",
    "    It should be solved as a search space problem.\n",
    "    Parameters\n",
    "    ----------\n",
    "    dcr\n",
    "    i\n",
    "\n",
    "    Returns\n",
    "    -------\n",
    "\n",
    "    \"\"\"\n",
    "\n",
    "    graph = get_mutually_excluding_graph2(dcr)\n",
    "    cliques = list(frozenset(s) for s in nx.enumerate_all_cliques(graph) if len(s) > 1)\n",
    "    cliques = sorted(cliques, key=len, reverse=True)\n",
    "    sps = {}\n",
    "\n",
    "    used_events = set()\n",
    "    for clique in cliques:\n",
    "        if len(clique.intersection(used_events)) == 0:\n",
    "            # any new mutually exclusive subprocess must be disjoint from all existing ones\n",
    "            sps[f'ME{i}'] = clique\n",
    "            i += 1\n",
    "            used_events = used_events.union(clique)\n",
    "    return sps\n",
    "\n",
    "\n",
    "def get_mutually_excluding_graph2(dcr):\n",
    "    self_excluded = set()\n",
    "    for e in dcr['events']:\n",
    "        if e in dcr['excludesTo'] and e in dcr['excludesTo'][e]:\n",
    "            self_excluded.add(e)\n",
    "    visited = set()\n",
    "    mutually_excluded = set()\n",
    "    for e in self_excluded:\n",
    "        for e_prime in self_excluded.difference(visited):\n",
    "            if e != e_prime and (e in dcr['excludesTo'] and e_prime in dcr['excludesTo'][e]) or (e_prime in dcr['excludesTo'] and e in dcr['excludesTo'][e_prime]):\n",
    "                mutually_excluded.add((e,e_prime))\n",
    "            visited.add(e)\n",
    "\n",
    "    return nx.from_edgelist(mutually_excluded)"
   ],
   "metadata": {
    "collapsed": false,
    "ExecuteTime": {
     "end_time": "2023-11-20T10:12:43.817860683Z",
     "start_time": "2023-11-20T10:12:43.773058944Z"
    }
   }
  },
  {
   "cell_type": "code",
   "execution_count": 3,
   "outputs": [],
   "source": [
    "config = [{'variant': Variants.DCR_BASIC }]"
   ],
   "metadata": {
    "collapsed": false,
    "ExecuteTime": {
     "end_time": "2023-11-20T09:47:31.930214223Z",
     "start_time": "2023-11-20T09:47:31.914064575Z"
    }
   }
  },
  {
   "cell_type": "code",
   "execution_count": 4,
   "outputs": [
    {
     "data": {
      "text/plain": "parsing log, completed traces ::   0%|          | 0/1050 [00:00<?, ?it/s]",
      "application/vnd.jupyter.widget-view+json": {
       "version_major": 2,
       "version_minor": 0,
       "model_id": "d6d113d8dcfb494883aac501365fd57d"
      }
     },
     "metadata": {},
     "output_type": "display_data"
    },
    {
     "name": "stdout",
     "output_type": "stream",
     "text": [
      "[i] Started with config: {'variant': <Variants.DCR_BASIC: <module 'pm4py.algo.discovery.dcr_discover.variants.dcr_discover' from '/home/vco/Projects/pm4py-dcr/pm4py/algo/discovery/dcr_discover/variants/dcr_discover.py'>>}\n",
      "[i] Mining with basic DisCoveR\n",
      "[!] Model saved in models/sepsis__config0.xml\n"
     ]
    }
   ],
   "source": [
    "event_log_file = '/home/vco/Datasets/Sepsis Cases - Event Log.xes'\n",
    "dcr_title = 'Sepsis Cases'\n",
    "result_file_prefix = 'sepsis'\n",
    "\n",
    "sepsis_dcrs = benchmark_event_log_from_configs(event_log_file,result_file_prefix,dcr_title,config)"
   ],
   "metadata": {
    "collapsed": false,
    "ExecuteTime": {
     "end_time": "2023-11-20T09:47:35.669780988Z",
     "start_time": "2023-11-20T09:47:34.677230648Z"
    }
   }
  },
  {
   "cell_type": "code",
   "execution_count": 7,
   "outputs": [],
   "source": [
    "dcr = sepsis_dcrs[0]"
   ],
   "metadata": {
    "collapsed": false,
    "ExecuteTime": {
     "end_time": "2023-11-20T09:47:47.297352818Z",
     "start_time": "2023-11-20T09:47:47.264227062Z"
    }
   }
  },
  {
   "cell_type": "code",
   "execution_count": 14,
   "outputs": [
    {
     "data": {
      "text/plain": "{'ME0': frozenset({'Release A',\n            'Release B',\n            'Release C',\n            'Release D',\n            'Release E'})}"
     },
     "execution_count": 14,
     "metadata": {},
     "output_type": "execute_result"
    }
   ],
   "source": [
    "get_mutual_exclusions(dcr)"
   ],
   "metadata": {
    "collapsed": false,
    "ExecuteTime": {
     "end_time": "2023-11-20T10:12:48.835104352Z",
     "start_time": "2023-11-20T10:12:48.813775824Z"
    }
   }
  },
  {
   "cell_type": "code",
   "execution_count": 15,
   "outputs": [
    {
     "data": {
      "text/plain": "{'ME0': frozenset({'Release A',\n            'Release B',\n            'Release C',\n            'Release D',\n            'Release E'})}"
     },
     "execution_count": 15,
     "metadata": {},
     "output_type": "execute_result"
    }
   ],
   "source": [
    "get_mutual_exclusions2(dcr)"
   ],
   "metadata": {
    "collapsed": false,
    "ExecuteTime": {
     "end_time": "2023-11-20T10:12:49.533993747Z",
     "start_time": "2023-11-20T10:12:49.471478589Z"
    }
   }
  },
  {
   "cell_type": "code",
   "execution_count": 17,
   "outputs": [],
   "source": [
    "from math import comb"
   ],
   "metadata": {
    "collapsed": false,
    "ExecuteTime": {
     "end_time": "2023-11-20T12:51:20.352922521Z",
     "start_time": "2023-11-20T12:51:20.319177815Z"
    }
   }
  },
  {
   "cell_type": "code",
   "execution_count": 34,
   "outputs": [
    {
     "data": {
      "text/plain": "35"
     },
     "execution_count": 34,
     "metadata": {},
     "output_type": "execute_result"
    }
   ],
   "source": [
    "n = 6\n",
    "n + n*(n-1) - 1"
   ],
   "metadata": {
    "collapsed": false,
    "ExecuteTime": {
     "end_time": "2023-11-20T13:09:50.342056596Z",
     "start_time": "2023-11-20T13:09:50.299309015Z"
    }
   }
  }
 ],
 "metadata": {
  "kernelspec": {
   "display_name": "Python 3",
   "language": "python",
   "name": "python3"
  },
  "language_info": {
   "codemirror_mode": {
    "name": "ipython",
    "version": 2
   },
   "file_extension": ".py",
   "mimetype": "text/x-python",
   "name": "python",
   "nbconvert_exporter": "python",
   "pygments_lexer": "ipython2",
   "version": "2.7.6"
  }
 },
 "nbformat": 4,
 "nbformat_minor": 0
}
