{
 "cells": [
  {
   "cell_type": "code",
   "execution_count": 9,
   "outputs": [
    {
     "name": "stdout",
     "output_type": "stream",
     "text": [
      "The autoreload extension is already loaded. To reload it, use:\n",
      "  %reload_ext autoreload\n"
     ]
    }
   ],
   "source": [
    "%load_ext autoreload\n",
    "%autoreload 2\n",
    "\n",
    "from pm4py.objects.dcr.exporter import exporter\n",
    "from pm4py.algo.evaluation.dcr.algorithm import *\n",
    "from pm4py.algo.discovery.dcr_discover import algorithm\n",
    "from pm4py.objects.dcr.obj import dcr_template"
   ],
   "metadata": {
    "collapsed": false,
    "ExecuteTime": {
     "end_time": "2023-12-07T22:21:06.234133253Z",
     "start_time": "2023-12-07T22:21:06.186472166Z"
    }
   },
   "id": "3e63406cc0f0e8b9"
  },
  {
   "cell_type": "markdown",
   "source": [
    "# Collect datasets"
   ],
   "metadata": {
    "collapsed": false
   },
   "id": "9fd95c328cac9a86"
  },
  {
   "cell_type": "code",
   "execution_count": 10,
   "outputs": [
    {
     "name": "stdout",
     "output_type": "stream",
     "text": [
      "[i] Started benchmarking on 14 logs\n",
      "{'Dreyers': '/home/vco/Datasets/Dreyers Foundation.xes', 'BPIC19': '/home/vco/Datasets/BPI_Challenge_2019.xes', 'RTFMP': '/home/vco/Datasets/data/TKDE_Benchmark/RTFMP.xes', 'BPIC17_f': '/home/vco/Datasets/data/TKDE_Benchmark/BPIC17_f.xes', 'BPIC13_i': '/home/vco/Datasets/data/TKDE_Benchmark/BPIC13_i.xes', 'BPIC15_1f': '/home/vco/Datasets/data/TKDE_Benchmark/BPIC15_1f.xes', 'BPIC15_3f': '/home/vco/Datasets/data/TKDE_Benchmark/BPIC15_3f.xes', 'BPIC15_4f': '/home/vco/Datasets/data/TKDE_Benchmark/BPIC15_4f.xes', 'BPIC14_f': '/home/vco/Datasets/data/TKDE_Benchmark/BPIC14_f.xes', 'BPIC15_5f': '/home/vco/Datasets/data/TKDE_Benchmark/BPIC15_5f.xes', 'BPIC12': '/home/vco/Datasets/data/TKDE_Benchmark/BPIC12.xes', 'BPIC15_2f': '/home/vco/Datasets/data/TKDE_Benchmark/BPIC15_2f.xes', 'SEPSIS': '/home/vco/Datasets/data/TKDE_Benchmark/SEPSIS.xes', 'BPIC13_cp': '/home/vco/Datasets/data/TKDE_Benchmark/BPIC13_cp.xes'}\n"
     ]
    }
   ],
   "source": [
    "# all bpi + sepsis + rtfmp + dreyers\n",
    "logs_list = { 'Dreyers':'/home/vco/Datasets/Dreyers Foundation.xes',\n",
    "              'BPIC19' :'/home/vco/Datasets/BPI_Challenge_2019.xes'}\n",
    "logs_folder = '/home/vco/Datasets/data/TKDE_Benchmark'\n",
    "for file in os.listdir(logs_folder):\n",
    "    if file.endswith(\".xes\"):\n",
    "        name = os.path.basename(file.split('.')[0])\n",
    "        logs_list[name] = os.path.join(logs_folder, file)\n",
    "print(f'[i] Started benchmarking on {len(logs_list)} logs')\n",
    "print(logs_list)"
   ],
   "metadata": {
    "collapsed": false,
    "ExecuteTime": {
     "end_time": "2023-12-07T22:21:06.608067765Z",
     "start_time": "2023-12-07T22:21:06.590020799Z"
    }
   },
   "id": "37998c1be1596554"
  },
  {
   "cell_type": "code",
   "execution_count": 11,
   "outputs": [],
   "source": [
    "# all pdc\n"
   ],
   "metadata": {
    "collapsed": false,
    "ExecuteTime": {
     "end_time": "2023-12-07T22:21:06.840643141Z",
     "start_time": "2023-12-07T22:21:06.814379895Z"
    }
   },
   "id": "e709dd163b785aeb"
  },
  {
   "cell_type": "markdown",
   "source": [
    "# Amines metrics\n",
    "https://www.sciencedirect.com/science/article/pii/S0957417423014264"
   ],
   "metadata": {
    "collapsed": false
   },
   "id": "6b7c423f18d6f7cc"
  },
  {
   "cell_type": "code",
   "execution_count": 12,
   "outputs": [
    {
     "name": "stdout",
     "output_type": "stream",
     "text": [
      "[i] Size: 15\n",
      "[i] Density: 1.2\n",
      "[i] Separability: 0.2\n",
      "[i] Constraint Variability: 0.9999999999999999\n",
      "{'size': 15, 'density': 1.2, 'separability': 0.2, 'constraint_variability': 0.9999999999999999}\n"
     ]
    },
    {
     "name": "stderr",
     "output_type": "stream",
     "text": [
      "/home/vco/.pyenv/versions/3.11.0/envs/pm4py-dcr/lib/python3.11/site-packages/numpy/lib/scimath.py:386: RuntimeWarning: divide by zero encountered in log\n",
      "  return nx.log(x)/nx.log(n)\n",
      "/home/vco/Projects/pm4py-dcr/pm4py/algo/evaluation/dcr/algorithm.py:85: RuntimeWarning: invalid value encountered in scalar multiply\n",
      "  cv_sum += pct[rel.value] * np.emath.logn(rels_in_comp, pct[rel.value])\n",
      "/home/vco/.pyenv/versions/3.11.0/envs/pm4py-dcr/lib/python3.11/site-packages/numpy/lib/scimath.py:386: RuntimeWarning: invalid value encountered in scalar divide\n",
      "  return nx.log(x)/nx.log(n)\n"
     ]
    }
   ],
   "source": [
    "G = {\n",
    "    'events': set(['Co','Wr','Ch','Ap','Su','Do','Ex','No']),\n",
    "    'conditionsFor': {'Wr':{'Co'}},\n",
    "    'milestonesFor': {'Su':{'Wr'}},\n",
    "    'responseTo': {'Co':{'Wr'},'Ex':{'No'}},\n",
    "    'noResponseTo': {'Ap':{'Wr'}},\n",
    "    'includesTo': {'Wr':{'Ch'}},\n",
    "    'excludesTo': {'Su':{'Su'}},\n",
    "    'marking': {'executed': set(['Do']),\n",
    "                'included': set(['Co','Wr','Ap','Su','Do','Ex','No']),\n",
    "                'pending': set(['Wr']),\n",
    "                'executedTime': {},  # Gives the time since a event was executed\n",
    "                'pendingDeadline': {}  # The deadline until an event must be executed\n",
    "                },\n",
    "    'conditionsForDelays': {},\n",
    "    'responseToDeadlines': {},\n",
    "    'subprocesses': {},\n",
    "    'nestings': {},\n",
    "    'labels': set(),\n",
    "    'labelMapping': {},\n",
    "    'roles': set(),\n",
    "    'roleAssignments': {},\n",
    "    'readRoleAssignments': {}\n",
    "}\n",
    "print(f'[i] Size: {dcr_size(G)}')\n",
    "print(f'[i] Density: {dcr_density(G)}')\n",
    "print(f'[i] Separability: {dcr_separability(G)}')\n",
    "print(f'[i] Constraint Variability: {dcr_constraint_variablity_metric(G)}')\n",
    "print(run_all_dcr_metrics(G))"
   ],
   "metadata": {
    "collapsed": false,
    "ExecuteTime": {
     "end_time": "2023-12-07T22:21:07.160990188Z",
     "start_time": "2023-12-07T22:21:07.140543422Z"
    }
   },
   "id": "18c9b5bb798451ad"
  },
  {
   "cell_type": "code",
   "execution_count": 13,
   "outputs": [],
   "source": [
    "G = {\n",
    "    'events': set(['A','B','C','D','E','F']),\n",
    "    'conditionsFor': {'A':{'B'},'C':{'B'}},\n",
    "    'milestonesFor': {},\n",
    "    'responseTo': {},\n",
    "    'noResponseTo': {},\n",
    "    'includesTo': {'A':{'D','E','F'},'B':{'D','E','F'}},\n",
    "    'excludesTo': {'C':{'D','E','F'}},\n",
    "    'marking': {'executed': set(),\n",
    "                'included': set(['A','B','C','D','E','F']),\n",
    "                'pending': set(),\n",
    "                'executedTime': {},  # Gives the time since a event was executed\n",
    "                'pendingDeadline': {}  # The deadline until an event must be executed\n",
    "                },\n",
    "    'conditionsForDelays': {},\n",
    "    'responseToDeadlines': {},\n",
    "    'subprocesses': {},\n",
    "    'nestings': {},\n",
    "    'labels': set(),\n",
    "    'labelMapping': {},\n",
    "    'roles': set(),\n",
    "    'roleAssignments': {},\n",
    "    'readRoleAssignments': {}\n",
    "}"
   ],
   "metadata": {
    "collapsed": false,
    "ExecuteTime": {
     "end_time": "2023-12-07T22:21:07.365504770Z",
     "start_time": "2023-12-07T22:21:07.342211589Z"
    }
   },
   "id": "59354cb4757bf7b1"
  },
  {
   "cell_type": "markdown",
   "source": [
    "# Based on pseudocode"
   ],
   "metadata": {
    "collapsed": false
   },
   "id": "4b15a125a23d846a"
  },
  {
   "cell_type": "code",
   "execution_count": 14,
   "outputs": [
    {
     "name": "stdout",
     "output_type": "stream",
     "text": [
      "     [events] {'A', 'F', 'E', 'B', 'D', 'C'} \n",
      "[cands[best]] {'F', 'E', 'D'} \n",
      "       [best] frozenset({('A', 'includesTo', 'in'), ('B', 'includesTo', 'in'), ('C', 'excludesTo', 'in')}) \n",
      "        [enc] {'A': {('B', 'conditionsFor', 'in'), ('D', 'includesTo', 'out'), ('E', 'includesTo', 'out'), ('F', 'includesTo', 'out')}, 'F': {('A', 'includesTo', 'in'), ('B', 'includesTo', 'in'), ('C', 'excludesTo', 'in')}, 'E': {('A', 'includesTo', 'in'), ('B', 'includesTo', 'in'), ('C', 'excludesTo', 'in')}, 'B': {('F', 'includesTo', 'out'), ('C', 'conditionsFor', 'out'), ('E', 'includesTo', 'out'), ('D', 'includesTo', 'out'), ('A', 'conditionsFor', 'out')}, 'D': {('A', 'includesTo', 'in'), ('B', 'includesTo', 'in'), ('C', 'excludesTo', 'in')}, 'C': {('B', 'conditionsFor', 'in'), ('F', 'excludesTo', 'out'), ('D', 'excludesTo', 'out'), ('E', 'excludesTo', 'out')}} \n",
      "       [cands] {frozenset({('B', 'conditionsFor', 'in'), ('D', 'includesTo', 'out'), ('E', 'includesTo', 'out'), ('F', 'includesTo', 'out')}): {'A'}, frozenset({('D', 'includesTo', 'out'), ('E', 'includesTo', 'out'), ('F', 'includesTo', 'out')}): {'B', 'A'}, frozenset({('B', 'conditionsFor', 'in')}): {'A', 'C'}, frozenset({('A', 'includesTo', 'in'), ('B', 'includesTo', 'in'), ('C', 'excludesTo', 'in')}): {'F', 'E', 'D'}, frozenset({('F', 'includesTo', 'out'), ('C', 'conditionsFor', 'out'), ('D', 'includesTo', 'out'), ('E', 'includesTo', 'out'), ('A', 'conditionsFor', 'out')}): {'B'}, frozenset({('B', 'conditionsFor', 'in'), ('F', 'excludesTo', 'out'), ('D', 'excludesTo', 'out'), ('E', 'excludesTo', 'out')}): {'C'}} \n",
      "\n",
      "     [events] {'B', 'A', 'C'} \n",
      "[cands[best]] {'B', 'A'} \n",
      "       [best] frozenset({('N1', 'includesTo', 'out')}) \n",
      "        [enc] {'A': {('B', 'conditionsFor', 'in'), ('N1', 'includesTo', 'out')}, 'F': set(), 'E': set(), 'B': {('C', 'conditionsFor', 'out'), ('N1', 'includesTo', 'out'), ('A', 'conditionsFor', 'out')}, 'D': set(), 'C': {('B', 'conditionsFor', 'in'), ('N1', 'excludesTo', 'out')}, 'N1': {('A', 'includesTo', 'in'), ('B', 'includesTo', 'in'), ('C', 'excludesTo', 'in')}} \n",
      "       [cands] {frozenset({('C', 'conditionsFor', 'out'), ('A', 'conditionsFor', 'out'), ('N1', 'includesTo', 'out')}): {'B'}, frozenset({('N1', 'includesTo', 'out')}): {'B', 'A'}, frozenset({('B', 'conditionsFor', 'in'), ('N1', 'includesTo', 'out')}): {'A'}, frozenset({('B', 'conditionsFor', 'in')}): {'A', 'C'}, frozenset({('B', 'conditionsFor', 'in'), ('N1', 'excludesTo', 'out')}): {'C'}} \n",
      "\n",
      "     [events] {'B', 'A'} \n",
      "[cands[best]] {'A', 'C'} \n",
      "       [best] frozenset({('B', 'conditionsFor', 'in')}) \n",
      "        [enc] {'A': {('B', 'conditionsFor', 'in')}, 'F': set(), 'E': set(), 'B': {('C', 'conditionsFor', 'out'), ('A', 'conditionsFor', 'out')}, 'D': set(), 'C': {('B', 'conditionsFor', 'in'), ('N1', 'excludesTo', 'out')}, 'N1': {('N2', 'includesTo', 'in'), ('C', 'excludesTo', 'in')}, 'N2': {('N1', 'includesTo', 'out')}} \n",
      "       [cands] {frozenset({('C', 'conditionsFor', 'out'), ('A', 'conditionsFor', 'out')}): {'B'}, frozenset({('B', 'conditionsFor', 'in')}): {'A', 'C'}} \n",
      "\n",
      "{'N3', 'N1', 'N2'} {'F': 'N1', 'E': 'N1', 'D': 'N1', 'B': 'N2', 'A': 'N3', 'C': 'N3'}\n"
     ]
    }
   ],
   "source": [
    "def encode(G):\n",
    "    enc = {}\n",
    "    for e in G['events']:\n",
    "        enc[e] = set()\n",
    "    for e in G['events']:\n",
    "        for e_prime in G['events']:\n",
    "            for rel in Relations:\n",
    "                if e in G[rel.value] and e_prime in G[rel.value][e]:\n",
    "                    if rel in [Relations.C,Relations.M]:\n",
    "                        enc[e].add((e_prime,rel.value,'in'))\n",
    "                    else:\n",
    "                        enc[e].add((e_prime,rel.value,'out'))\n",
    "                if e_prime in G[rel.value] and e in G[rel.value][e_prime]:\n",
    "                    if rel in [Relations.C,Relations.M]:\n",
    "                        enc[e].add((e_prime,rel.value,'out'))\n",
    "                    else:\n",
    "                        enc[e].add((e_prime,rel.value,'in'))\n",
    "    return enc\n",
    "\n",
    "def getOppositeRelDictStr(relStr,direction, event, nestingId):\n",
    "    relationDictStrDel = (event,relStr,\"out\" if direction == \"in\" else \"in\")\n",
    "    relationDictStrAdd = (nestingId,relStr,\"out\"  if direction == \"in\" else \"in\")\n",
    "    \n",
    "    return relationDictStrDel, relationDictStrAdd\n",
    "\n",
    "\n",
    "def nest(enc, events_source, nest_id = 0):\n",
    "    nesting_map = {}\n",
    "    nesting_ids = set()\n",
    "    events = deepcopy(events_source)\n",
    "    while True:\n",
    "        cands = {}\n",
    "        for e in events:\n",
    "            for j in events:\n",
    "                arrow_s = frozenset(enc[e].intersection(enc[j]))\n",
    "                if len(arrow_s)>0:\n",
    "                    cands[arrow_s] = set([e, j])\n",
    "        \n",
    "        for arrow_s in cands.keys():\n",
    "            for e in G['events']:\n",
    "                if len(arrow_s)>0 and arrow_s.issubset(enc[e]):\n",
    "                    cands[arrow_s].add(e)\n",
    "        \n",
    "        best_score = 0\n",
    "        best = None\n",
    "        for arrow_s in cands.keys():\n",
    "            cand_score = (len(cands[arrow_s])-1)*len(arrow_s)\n",
    "            if cand_score>best_score:\n",
    "                best_score = cand_score\n",
    "                best = arrow_s\n",
    "                \n",
    "        if best_score == 0:\n",
    "            break\n",
    "        print(f'     [events] {events} \\n'\n",
    "              f'[cands[best]] {cands[best]} \\n'\n",
    "              f'       [best] {best} \\n'\n",
    "              f'        [enc] {enc} \\n '\n",
    "              f'      [cands] {cands} \\n')\n",
    "        nest_id += 1\n",
    "        nesting_ids.add(f'N{nest_id}')\n",
    "        enc[f'N{nest_id}'] = set(best)\n",
    "        for e in cands[best]:\n",
    "            nesting_map[e] = f'N{nest_id}'\n",
    "            enc[e] = enc[e].difference(best)\n",
    "            for (e_prime,rel,direction) in best:\n",
    "                opRelDel, opRelAdd = getOppositeRelDictStr(rel,direction,e,f'N{nest_id}')\n",
    "                enc[e_prime].remove(opRelDel)\n",
    "                enc[e_prime].add(opRelAdd)\n",
    "        \n",
    "        # nestings inside nestings\n",
    "        found = True\n",
    "        temp_events = deepcopy(cands[best])\n",
    "        while found:\n",
    "            enc_prime, nesting_ids_prime, nesting_map_prime = nest(enc, temp_events, nest_id) # replace with find_largest_nesting()\n",
    "            if len(nesting_ids_prime)>0:\n",
    "                enc = enc_prime\n",
    "                nesting_ids = nesting_ids.union(nesting_ids_prime)\n",
    "                nesting_map = nesting_map | nesting_map_prime\n",
    "                temp_events = temp_events.difference(cands[best])\n",
    "            else:\n",
    "                found = False\n",
    "            \n",
    "        events = events.difference(cands[best])\n",
    "        enc_prime, nesting_ids_prime, nesting_map_prime = nest(enc, events, nest_id) # replace with find_largest_nesting()\n",
    "        enc = enc_prime\n",
    "        nesting_ids = nesting_ids.union(nesting_ids_prime)\n",
    "        # print(f'[nesting_map] {nesting_map}')\n",
    "        # print(f'[nesting_map_prime] {nesting_map_prime}')\n",
    "        nesting_map = nesting_map | nesting_map_prime\n",
    "        # add a second while loop that recursively calls nest()\n",
    "    return enc, nesting_ids, nesting_map\n",
    "\n",
    "\n",
    "nest_id = 0\n",
    "enc = encode(G)\n",
    "events = G['events']\n",
    "enc, nesting_ids, nesting_map = nest(enc, events)\n",
    "print(nesting_ids,nesting_map)"
   ],
   "metadata": {
    "collapsed": false,
    "ExecuteTime": {
     "end_time": "2023-12-07T22:21:07.692058813Z",
     "start_time": "2023-12-07T22:21:07.670833030Z"
    }
   },
   "id": "4d47e73142f54250"
  },
  {
   "cell_type": "markdown",
   "source": [
    "# Object oriented code"
   ],
   "metadata": {
    "collapsed": false
   },
   "id": "434832d84396c5a6"
  },
  {
   "cell_type": "code",
   "execution_count": 15,
   "outputs": [],
   "source": [
    "class Nesting(object):\n",
    "\n",
    "    def __init__(self):\n",
    "        self.nesting_ids = set()\n",
    "        self.nesting_map = {}\n",
    "        self.nest_id = 0\n",
    "        self.enc = None\n",
    "        self.in_rec_step = 0\n",
    "        self.out_rec_step = 0\n",
    "        self.debug = False\n",
    "        \n",
    "    def create_encoding(self,dcr_graph):\n",
    "        self.enc = encode(dcr_graph)\n",
    "\n",
    "    def find_largest_nesting(self, events_source, parent_nesting=None, inrec=False):\n",
    "        cands = {}\n",
    "        events = deepcopy(events_source)\n",
    "        for e in events:\n",
    "            for j in events:\n",
    "                arrow_s = frozenset(self.enc[e].intersection(self.enc[j]))\n",
    "                if len(arrow_s)>0:\n",
    "                    cands[arrow_s] = set([e, j])\n",
    "        \n",
    "        for arrow_s in cands.keys():\n",
    "            for e in events:\n",
    "                if len(arrow_s)>0 and arrow_s.issubset(self.enc[e]):\n",
    "                    cands[arrow_s].add(e)\n",
    "        \n",
    "        best_score = 0\n",
    "        best = None\n",
    "        for arrow_s in cands.keys():\n",
    "            cand_score = (len(cands[arrow_s])-1)*len(arrow_s)\n",
    "            if cand_score>best_score:\n",
    "                best_score = cand_score\n",
    "                best = arrow_s\n",
    "        if best and len(cands[best])>1 and len(best)>= 1:\n",
    "            if self.debug:\n",
    "                print(f'[out]:{self.out_rec_step} [in]:{self.in_rec_step} \\n'\n",
    "                      f'     [events] {events} \\n'\n",
    "                      f'[cands[best]] {cands[best]} \\n'\n",
    "                      f'       [best] {best} \\n'\n",
    "                      f'        [enc] {enc} \\n '\n",
    "                      f'      [cands] {cands} \\n')\n",
    "            \n",
    "            self.nest_id += 1\n",
    "            self.nesting_ids.add(f'N{self.nest_id}')\n",
    "            self.enc[f'N{self.nest_id}'] = set(best)\n",
    "            if parent_nesting:\n",
    "                parent_nesting['events'] = parent_nesting['events'].difference(cands[best])\n",
    "                parent_nesting['events'].add(f'N{self.nest_id}')\n",
    "                self.nesting_map[f'N{self.nest_id}'] = parent_nesting['id']\n",
    "            \n",
    "            for e in cands[best]:\n",
    "                self.nesting_map[e] = f'N{self.nest_id}'\n",
    "                self.enc[e] = self.enc[e].difference(best)\n",
    "                for (e_prime,rel,direction) in best:\n",
    "                    opRelDel, opRelAdd = getOppositeRelDictStr(rel,direction,e,f'N{self.nest_id}')\n",
    "                    self.enc[e_prime].discard(opRelDel)#.remove(opRelDel)\n",
    "                    self.enc[e_prime].add(opRelAdd)\n",
    "            \n",
    "            self.enc[f'N{self.nest_id}'] = set(best)\n",
    "            \n",
    "            retval = [{'nestingEvents': cands[best], 'sharedRels': best}]\n",
    "            found = True\n",
    "            while found:\n",
    "                temp_retval = self.find_largest_nesting(events_source=cands[best], parent_nesting={'id': f'N{self.nest_id}','events': cands[best]}, inrec=True)\n",
    "                if temp_retval and len(temp_retval)>0:\n",
    "                    retval.extend(temp_retval)\n",
    "                    for tmp in temp_retval:\n",
    "                        events = events.difference(tmp['nestingEvents'])\n",
    "                else:\n",
    "                    found = False\n",
    "                self.in_rec_step += 1\n",
    "            return retval\n",
    "    \n",
    "    def nest(self, events_source):\n",
    "        nestingsArr = [{'nestingEvents': set(), 'sharedRels': set()}]\n",
    "        events = deepcopy(events_source)\n",
    "        while True:\n",
    "            temp_retval = self.find_largest_nesting(events)\n",
    "            if temp_retval and len(temp_retval)>0:\n",
    "                nestingsArr.extend(temp_retval)\n",
    "                for tmp in temp_retval:\n",
    "                    events = events.difference(tmp['nestingEvents'])\n",
    "            else:\n",
    "                break\n",
    "            self.out_rec_step += 1\n",
    "        return self.nesting_map, self.nesting_ids\n",
    "\n",
    "    def get_nested_dcr_graph(self):\n",
    "        res_dcr = deepcopy(dcr_template)\n",
    "        events = set(self.enc.keys())\n",
    "        res_dcr['events'] = events\n",
    "        res_dcr['marking']['included'] = events\n",
    "        \n",
    "        for n in self.nesting_ids:\n",
    "            res_dcr['nestings'][n] = set()\n",
    "        for k,v in self.nesting_map.items():\n",
    "            res_dcr['nestings'][v].add(k)\n",
    "        \n",
    "        def shouldAdd(rel,direction):\n",
    "            return direction == 'in' if rel in [Relations.C.value,Relations.M.value] else direction == 'out'\n",
    "        \n",
    "        for e, v in self.enc.items():\n",
    "            for e_prime, rel, direction in v:\n",
    "                if shouldAdd(rel,direction):\n",
    "                    if e not in res_dcr[rel]:\n",
    "                        res_dcr[rel][e] = set()\n",
    "                    res_dcr[rel][e].add(e_prime)\n",
    "        return res_dcr"
   ],
   "metadata": {
    "collapsed": false,
    "ExecuteTime": {
     "end_time": "2023-12-07T22:21:08.065516072Z",
     "start_time": "2023-12-07T22:21:08.031597607Z"
    }
   },
   "id": "32f93d56782bbbfe"
  },
  {
   "cell_type": "code",
   "execution_count": 16,
   "outputs": [
    {
     "data": {
      "text/plain": "({'F': 'N1', 'E': 'N1', 'D': 'N1', 'B': 'N2', 'A': 'N2'}, {'N1', 'N2'})"
     },
     "execution_count": 16,
     "metadata": {},
     "output_type": "execute_result"
    }
   ],
   "source": [
    "n = Nesting()  \n",
    "n.create_encoding(G)\n",
    "n.nest(G['events'])"
   ],
   "metadata": {
    "collapsed": false,
    "ExecuteTime": {
     "end_time": "2023-12-07T22:21:08.230656569Z",
     "start_time": "2023-12-07T22:21:08.213931538Z"
    }
   },
   "id": "982d582833aa1850"
  },
  {
   "cell_type": "code",
   "execution_count": 17,
   "outputs": [
    {
     "data": {
      "text/plain": "{'events': {'A', 'B', 'C', 'D', 'E', 'F', 'N1', 'N2'},\n 'conditionsFor': {'A': {'B'}, 'C': {'B'}},\n 'milestonesFor': {},\n 'responseTo': {},\n 'noResponseTo': {},\n 'includesTo': {'N2': {'N1'}},\n 'excludesTo': {'C': {'N1'}},\n 'marking': {'executed': set(),\n  'included': {'A', 'B', 'C', 'D', 'E', 'F', 'N1', 'N2'},\n  'pending': set(),\n  'executedTime': {},\n  'pendingDeadline': {}},\n 'conditionsForDelays': {},\n 'responseToDeadlines': {},\n 'subprocesses': {},\n 'nestings': {'N1': {'D', 'E', 'F'}, 'N2': {'A', 'B'}},\n 'nestingsMap': {},\n 'labels': set(),\n 'labelMapping': {},\n 'roles': set(),\n 'roleAssignments': {},\n 'readRoleAssignments': {}}"
     },
     "execution_count": 17,
     "metadata": {},
     "output_type": "execute_result"
    }
   ],
   "source": [
    "n.get_nested_dcr_graph()"
   ],
   "metadata": {
    "collapsed": false,
    "ExecuteTime": {
     "end_time": "2023-12-07T22:21:08.401396728Z",
     "start_time": "2023-12-07T22:21:08.380582238Z"
    }
   },
   "id": "23a48ae1280d0ffd"
  },
  {
   "cell_type": "code",
   "execution_count": 35,
   "outputs": [
    {
     "data": {
      "text/plain": "{'Payment': 'N1',\n 'Send Appeal to Prefecture': 'N1',\n 'Insert Date Appeal to Prefecture': 'N1',\n 'Appeal to Judge': 'N1',\n 'Send Fine': 'N1',\n 'Insert Fine Notification': 'N2',\n 'Receive Result Appeal from Prefecture': 'N2',\n 'Notify Result Appeal to Offender': 'N3',\n 'Add penalty': 'N3'}"
     },
     "execution_count": 35,
     "metadata": {},
     "output_type": "execute_result"
    }
   ],
   "source": [
    "n.nesting_map"
   ],
   "metadata": {
    "collapsed": false,
    "ExecuteTime": {
     "end_time": "2023-12-07T22:23:56.606333590Z",
     "start_time": "2023-12-07T22:23:56.563183266Z"
    }
   },
   "id": "653cbfc3582f829a"
  },
  {
   "cell_type": "code",
   "execution_count": 19,
   "outputs": [],
   "source": [
    "G_copy = deepcopy(G)"
   ],
   "metadata": {
    "collapsed": false,
    "ExecuteTime": {
     "end_time": "2023-12-07T22:21:08.760955155Z",
     "start_time": "2023-12-07T22:21:08.744720722Z"
    }
   },
   "id": "4ec5c72a1b610fa4"
  },
  {
   "cell_type": "code",
   "execution_count": 20,
   "outputs": [],
   "source": [
    "import pm4py"
   ],
   "metadata": {
    "collapsed": false,
    "ExecuteTime": {
     "end_time": "2023-12-07T22:21:09.017252705Z",
     "start_time": "2023-12-07T22:21:08.982765500Z"
    }
   },
   "id": "a899bb1af27f88e8"
  },
  {
   "cell_type": "code",
   "execution_count": 21,
   "outputs": [
    {
     "data": {
      "text/plain": "parsing log, completed traces ::   0%|          | 0/1050 [00:00<?, ?it/s]",
      "application/vnd.jupyter.widget-view+json": {
       "version_major": 2,
       "version_minor": 0,
       "model_id": "e24ed36b203c49328b67295bc5cde950"
      }
     },
     "metadata": {},
     "output_type": "display_data"
    },
    {
     "name": "stdout",
     "output_type": "stream",
     "text": [
      "[i] Mining with basic DisCoveR\n"
     ]
    }
   ],
   "source": [
    "sepsis_log = pm4py.read_xes('/home/vco/Datasets/Sepsis Cases - Event Log.xes',return_legacy_log_object=True)\n",
    "sepsis_reference_dcr, _ = algorithm.apply(sepsis_log)"
   ],
   "metadata": {
    "collapsed": false,
    "ExecuteTime": {
     "end_time": "2023-12-07T22:21:10.079049269Z",
     "start_time": "2023-12-07T22:21:09.181262400Z"
    }
   },
   "id": "1cf6da1e7f6ec87a"
  },
  {
   "cell_type": "code",
   "execution_count": 40,
   "outputs": [],
   "source": [
    "n = Nesting()\n",
    "n.create_encoding(sepsis_reference_dcr)\n",
    "n.nest(sepsis_reference_dcr['events'])\n",
    "nested_sepsis = n.get_nested_dcr_graph()"
   ],
   "metadata": {
    "collapsed": false,
    "ExecuteTime": {
     "end_time": "2023-12-07T22:25:08.041007352Z",
     "start_time": "2023-12-07T22:25:07.991553292Z"
    }
   },
   "id": "2c5699b2af05a789"
  },
  {
   "cell_type": "code",
   "execution_count": 41,
   "outputs": [
    {
     "data": {
      "text/plain": "{'events': {'Admission IC',\n  'Admission NC',\n  'CRP',\n  'ER Registration',\n  'ER Sepsis Triage',\n  'ER Triage',\n  'IV Antibiotics',\n  'IV Liquid',\n  'LacticAcid',\n  'Leucocytes',\n  'N1',\n  'N2',\n  'N3',\n  'N4',\n  'N5',\n  'N6',\n  'Release A',\n  'Release B',\n  'Release C',\n  'Release D',\n  'Release E',\n  'Return ER'},\n 'conditionsFor': {'IV Antibiotics': {'ER Sepsis Triage'},\n  'Return ER': {'N2', 'N3'},\n  'Release B': {'ER Registration', 'ER Triage'},\n  'Admission NC': {'ER Registration', 'ER Triage'},\n  'N1': {'ER Sepsis Triage', 'N5'},\n  'N2': {'Admission NC'},\n  'N3': {'ER Registration', 'ER Triage'}},\n 'milestonesFor': {},\n 'responseTo': {},\n 'noResponseTo': {},\n 'includesTo': {},\n 'excludesTo': {'IV Antibiotics': {'IV Antibiotics'},\n  'Release A': {'Admission NC', 'N1', 'N3'},\n  'ER Registration': {'ER Registration'},\n  'IV Liquid': {'IV Liquid'},\n  'Return ER': {'Admission IC', 'ER Triage', 'N6', 'Release B'},\n  'ER Sepsis Triage': {'ER Sepsis Triage'},\n  'Release B': {'N1', 'Return ER'},\n  'N1': {'N2', 'N3', 'N4', 'Release B'},\n  'N2': {'Admission NC', 'N1'},\n  'N3': {'ER Triage'}},\n 'marking': {'executed': set(),\n  'included': {'Admission IC',\n   'Admission NC',\n   'CRP',\n   'ER Registration',\n   'ER Sepsis Triage',\n   'ER Triage',\n   'IV Antibiotics',\n   'IV Liquid',\n   'LacticAcid',\n   'Leucocytes',\n   'N1',\n   'N2',\n   'N3',\n   'N4',\n   'N5',\n   'N6',\n   'Release A',\n   'Release B',\n   'Release C',\n   'Release D',\n   'Release E',\n   'Return ER'},\n  'pending': set(),\n  'executedTime': {},\n  'pendingDeadline': {}},\n 'conditionsForDelays': {},\n 'responseToDeadlines': {},\n 'subprocesses': {},\n 'nestings': {'N6': {'Admission NC', 'Return ER'},\n  'N3': {'Admission IC', 'Release A'},\n  'N4': {'ER Triage', 'LacticAcid', 'N5'},\n  'N1': {'N2', 'Release B'},\n  'N2': {'Release C', 'Release D', 'Release E'},\n  'N5': {'CRP', 'Leucocytes'}},\n 'nestingsMap': {},\n 'labels': set(),\n 'labelMapping': {},\n 'roles': set(),\n 'roleAssignments': {},\n 'readRoleAssignments': {}}"
     },
     "execution_count": 41,
     "metadata": {},
     "output_type": "execute_result"
    }
   ],
   "source": [
    "nested_sepsis"
   ],
   "metadata": {
    "collapsed": false,
    "ExecuteTime": {
     "end_time": "2023-12-07T22:25:08.510427570Z",
     "start_time": "2023-12-07T22:25:08.483000072Z"
    }
   },
   "id": "3610357a480d92f6"
  },
  {
   "cell_type": "code",
   "execution_count": 24,
   "outputs": [],
   "source": [
    "exporter.apply(nested_sepsis,'/home/vco/Projects/pm4py-dcr/models/sepsis_nested.xml')"
   ],
   "metadata": {
    "collapsed": false,
    "ExecuteTime": {
     "end_time": "2023-12-07T22:21:10.124251909Z",
     "start_time": "2023-12-07T22:21:10.110029153Z"
    }
   },
   "id": "a9fc6456ee43733d"
  },
  {
   "cell_type": "code",
   "execution_count": 25,
   "outputs": [
    {
     "data": {
      "text/plain": "parsing log, completed traces ::   0%|          | 0/150370 [00:00<?, ?it/s]",
      "application/vnd.jupyter.widget-view+json": {
       "version_major": 2,
       "version_minor": 0,
       "model_id": "ce383014d6c341d19405ed8700c3a451"
      }
     },
     "metadata": {},
     "output_type": "display_data"
    },
    {
     "name": "stdout",
     "output_type": "stream",
     "text": [
      "[i] Mining with basic DisCoveR\n"
     ]
    }
   ],
   "source": [
    "rtfmp_log = pm4py.read_xes('/home/vco/Projects/pm4py-dcr/datasets/rtfmp.xes',return_legacy_log_object=True)\n",
    "rtfmp_reference_dcr, _ = algorithm.apply(rtfmp_log)"
   ],
   "metadata": {
    "collapsed": false,
    "ExecuteTime": {
     "end_time": "2023-12-07T22:21:40.665770988Z",
     "start_time": "2023-12-07T22:21:10.218838554Z"
    }
   },
   "id": "30e0ab43694b6d59"
  },
  {
   "cell_type": "code",
   "execution_count": 36,
   "outputs": [],
   "source": [
    "bpic17_offer = {'events': {'O_Accepted',\n",
    "  'O_Cancelled',\n",
    "  'O_Create Offer',\n",
    "  'O_Created',\n",
    "  'O_Refused',\n",
    "  'O_Returned',\n",
    "  'O_Sent (mail and online)',\n",
    "  'O_Sent (online only)'},\n",
    " 'conditionsFor': {'O_Returned': {'O_Sent (mail and online)',\n",
    "   'O_Sent (online only)'},\n",
    "  'O_Accepted': {'O_Returned'},\n",
    "  'O_Sent (online only)': {'O_Created'},\n",
    "  'O_Sent (mail and online)': {'O_Created'},\n",
    "  'O_Cancelled': {'O_Created'},\n",
    "  'O_Created': {'O_Create Offer'},\n",
    "  'O_Refused': {'O_Created'},\n",
    "  'O_Create Offer': set()},\n",
    " 'milestonesFor': {},\n",
    " 'responseTo': {\n",
    "  'O_Create Offer': {'O_Created'}},\n",
    " 'noResponseTo': {},\n",
    " 'includesTo': {},\n",
    " 'excludesTo': {'O_Returned': {'O_Returned'},\n",
    "  'O_Accepted': {'O_Accepted', 'O_Cancelled', 'O_Refused'},\n",
    "  'O_Sent (online only)': {'O_Sent (mail and online)', 'O_Sent (online only)'},\n",
    "  'O_Sent (mail and online)': {'O_Sent (mail and online)',\n",
    "   'O_Sent (online only)'},\n",
    "  'O_Cancelled': {'O_Accepted', 'O_Cancelled', 'O_Refused'},\n",
    "  'O_Created': {'O_Created'},\n",
    "  'O_Refused': {'O_Accepted', 'O_Cancelled', 'O_Refused'},\n",
    "  'O_Create Offer': {'O_Create Offer'}},\n",
    " 'marking': {'executed': set(),\n",
    "  'included': {'O_Accepted',\n",
    "   'O_Cancelled',\n",
    "   'O_Create Offer',\n",
    "   'O_Created',\n",
    "   'O_Refused',\n",
    "   'O_Returned',\n",
    "   'O_Sent (mail and online)',\n",
    "   'O_Sent (online only)'},\n",
    "  'pending': set(),\n",
    "  'executedTime': {},\n",
    "  'pendingDeadline': {}},\n",
    " 'conditionsForDelays': {},\n",
    " 'responseToDeadlines': {},\n",
    " 'subprocesses': {},\n",
    " 'nestings': {},\n",
    " 'nestingsMap': {},\n",
    " 'labels': set(),\n",
    " 'labelMapping': {},\n",
    " 'roles': set(),\n",
    " 'roleAssignments': {},\n",
    " 'readRoleAssignments': {}}"
   ],
   "metadata": {
    "collapsed": false,
    "ExecuteTime": {
     "end_time": "2023-12-07T22:24:08.955408203Z",
     "start_time": "2023-12-07T22:24:08.936114771Z"
    }
   },
   "id": "94de3fab226ee379"
  },
  {
   "cell_type": "code",
   "execution_count": 42,
   "outputs": [],
   "source": [
    "n = Nesting()\n",
    "n.create_encoding(bpic17_offer)\n",
    "n.nest(bpic17_offer['events'])\n",
    "nested_bpicoffer = n.get_nested_dcr_graph()"
   ],
   "metadata": {
    "collapsed": false,
    "ExecuteTime": {
     "end_time": "2023-12-07T22:25:35.510315358Z",
     "start_time": "2023-12-07T22:25:35.469262357Z"
    }
   },
   "id": "f833ccfd3f71baa9"
  },
  {
   "cell_type": "code",
   "execution_count": 43,
   "outputs": [
    {
     "data": {
      "text/plain": "{'events': {'N1',\n  'N2',\n  'N3',\n  'N4',\n  'N5',\n  'O_Accepted',\n  'O_Cancelled',\n  'O_Create Offer',\n  'O_Created',\n  'O_Refused',\n  'O_Returned',\n  'O_Sent (mail and online)',\n  'O_Sent (online only)'},\n 'conditionsFor': {'O_Returned': {'N4'},\n  'O_Created': {'O_Create Offer'},\n  'O_Accepted': {'O_Returned'},\n  'N3': {'O_Created'},\n  'N4': {'O_Created'}},\n 'milestonesFor': {},\n 'responseTo': {'O_Create Offer': {'O_Created'}},\n 'noResponseTo': {},\n 'includesTo': {},\n 'excludesTo': {'O_Returned': {'O_Returned'},\n  'O_Created': {'O_Created'},\n  'O_Create Offer': {'O_Create Offer'},\n  'N1': {'N2'},\n  'N2': {'N1'},\n  'N4': {'N5'},\n  'N5': {'N4'}},\n 'marking': {'executed': set(),\n  'included': {'N1',\n   'N2',\n   'N3',\n   'N4',\n   'N5',\n   'O_Accepted',\n   'O_Cancelled',\n   'O_Create Offer',\n   'O_Created',\n   'O_Refused',\n   'O_Returned',\n   'O_Sent (mail and online)',\n   'O_Sent (online only)'},\n  'pending': set(),\n  'executedTime': {},\n  'pendingDeadline': {}},\n 'conditionsForDelays': {},\n 'responseToDeadlines': {},\n 'subprocesses': {},\n 'nestings': {'N3': {'O_Cancelled', 'O_Refused'},\n  'N4': {'N5'},\n  'N1': {'N2'},\n  'N2': {'N3', 'O_Accepted'},\n  'N5': {'O_Sent (mail and online)', 'O_Sent (online only)'}},\n 'nestingsMap': {},\n 'labels': set(),\n 'labelMapping': {},\n 'roles': set(),\n 'roleAssignments': {},\n 'readRoleAssignments': {}}"
     },
     "execution_count": 43,
     "metadata": {},
     "output_type": "execute_result"
    }
   ],
   "source": [
    "nested_bpicoffer"
   ],
   "metadata": {
    "collapsed": false,
    "ExecuteTime": {
     "end_time": "2023-12-07T22:25:35.979444404Z",
     "start_time": "2023-12-07T22:25:35.958996143Z"
    }
   },
   "id": "960ad639dc04a156"
  },
  {
   "cell_type": "code",
   "execution_count": 26,
   "outputs": [],
   "source": [
    "exporter.apply(rtfmp_reference_dcr,'/home/vco/Projects/pm4py-dcr/models/rtfmp.xml')"
   ],
   "metadata": {
    "collapsed": false,
    "ExecuteTime": {
     "end_time": "2023-12-07T22:21:40.710039555Z",
     "start_time": "2023-12-07T22:21:40.667672735Z"
    }
   },
   "id": "53af744e343d9629"
  },
  {
   "cell_type": "code",
   "execution_count": 27,
   "outputs": [],
   "source": [
    "n = Nesting()\n",
    "n.create_encoding(rtfmp_reference_dcr)\n",
    "n.nest(rtfmp_reference_dcr['events'])\n",
    "nested_rtfmp = n.get_nested_dcr_graph()"
   ],
   "metadata": {
    "collapsed": false,
    "ExecuteTime": {
     "end_time": "2023-12-07T22:21:40.710916661Z",
     "start_time": "2023-12-07T22:21:40.709961979Z"
    }
   },
   "id": "48cfcee47877f62b"
  },
  {
   "cell_type": "code",
   "execution_count": 28,
   "outputs": [
    {
     "data": {
      "text/plain": "{'events': {'Add penalty',\n  'Appeal to Judge',\n  'Create Fine',\n  'Insert Date Appeal to Prefecture',\n  'Insert Fine Notification',\n  'N1',\n  'N2',\n  'N3',\n  'Notify Result Appeal to Offender',\n  'Payment',\n  'Receive Result Appeal from Prefecture',\n  'Send Appeal to Prefecture',\n  'Send Fine',\n  'Send for Credit Collection'},\n 'conditionsFor': {'Send for Credit Collection': {'Add penalty'},\n  'N1': {'Create Fine'},\n  'N2': {'Send Fine'},\n  'N3': {'Insert Fine Notification'}},\n 'milestonesFor': {},\n 'responseTo': {'Insert Fine Notification': {'Add penalty'}},\n 'noResponseTo': {},\n 'includesTo': {},\n 'excludesTo': {'Receive Result Appeal from Prefecture': {'Receive Result Appeal from Prefecture'},\n  'Add penalty': {'Add penalty'},\n  'Insert Fine Notification': {'Insert Fine Notification'},\n  'Notify Result Appeal to Offender': {'Notify Result Appeal to Offender'},\n  'Send Appeal to Prefecture': {'Send Appeal to Prefecture'},\n  'Create Fine': {'Create Fine'},\n  'Insert Date Appeal to Prefecture': {'Insert Date Appeal to Prefecture'},\n  'Send for Credit Collection': {'Payment', 'Send for Credit Collection'},\n  'Appeal to Judge': {'Appeal to Judge'},\n  'Send Fine': {'Send Fine'}},\n 'marking': {'executed': set(),\n  'included': {'Add penalty',\n   'Appeal to Judge',\n   'Create Fine',\n   'Insert Date Appeal to Prefecture',\n   'Insert Fine Notification',\n   'N1',\n   'N2',\n   'N3',\n   'Notify Result Appeal to Offender',\n   'Payment',\n   'Receive Result Appeal from Prefecture',\n   'Send Appeal to Prefecture',\n   'Send Fine',\n   'Send for Credit Collection'},\n  'pending': set(),\n  'executedTime': {},\n  'pendingDeadline': {}},\n 'conditionsForDelays': {},\n 'responseToDeadlines': {},\n 'subprocesses': {},\n 'nestings': {'N3': {'Add penalty', 'Notify Result Appeal to Offender'},\n  'N1': {'Appeal to Judge',\n   'Insert Date Appeal to Prefecture',\n   'Payment',\n   'Send Appeal to Prefecture',\n   'Send Fine'},\n  'N2': {'Insert Fine Notification', 'Receive Result Appeal from Prefecture'}},\n 'nestingsMap': {},\n 'labels': set(),\n 'labelMapping': {},\n 'roles': set(),\n 'roleAssignments': {},\n 'readRoleAssignments': {}}"
     },
     "execution_count": 28,
     "metadata": {},
     "output_type": "execute_result"
    }
   ],
   "source": [
    "nested_rtfmp"
   ],
   "metadata": {
    "collapsed": false,
    "ExecuteTime": {
     "end_time": "2023-12-07T22:21:40.754351793Z",
     "start_time": "2023-12-07T22:21:40.710077188Z"
    }
   },
   "id": "c0ae759e688917ed"
  },
  {
   "cell_type": "code",
   "execution_count": 29,
   "outputs": [],
   "source": [
    "exporter.apply(nested_rtfmp,'/home/vco/Projects/pm4py-dcr/models/rtfmp_nested.xml')"
   ],
   "metadata": {
    "collapsed": false,
    "ExecuteTime": {
     "end_time": "2023-12-07T22:21:40.755879722Z",
     "start_time": "2023-12-07T22:21:40.754001636Z"
    }
   },
   "id": "c24e4ee2a5da59e"
  },
  {
   "cell_type": "code",
   "execution_count": 30,
   "outputs": [],
   "source": [
    "common_arcs_res = {}\n",
    "\n",
    "cands = {}\n",
    "\n",
    "for e in G['events']:\n",
    "    common_arcs_res[e] = {}\n",
    "    for j in G['events']: \n",
    "        common_arcs = enc[e].intersection(enc[j])\n",
    "        if len(common_arcs)>0 and e != j:\n",
    "            print(f'{e} {j} :{common_arcs}')\n",
    "            common_arcs_res[e][j] = common_arcs\n",
    "            if frozenset(common_arcs) not in cands:\n",
    "                cands[frozenset(common_arcs)] = set()\n",
    "            cands[frozenset(common_arcs)].add(e)\n",
    "            cands[frozenset(common_arcs)].add(j)\n",
    "            "
   ],
   "metadata": {
    "collapsed": false,
    "ExecuteTime": {
     "end_time": "2023-12-07T22:21:40.756579589Z",
     "start_time": "2023-12-07T22:21:40.754094860Z"
    }
   },
   "id": "11776b64c0c16aba"
  },
  {
   "cell_type": "code",
   "execution_count": 31,
   "outputs": [
    {
     "data": {
      "text/plain": "{}"
     },
     "execution_count": 31,
     "metadata": {},
     "output_type": "execute_result"
    }
   ],
   "source": [
    "cands"
   ],
   "metadata": {
    "collapsed": false,
    "ExecuteTime": {
     "end_time": "2023-12-07T22:21:40.811155788Z",
     "start_time": "2023-12-07T22:21:40.754152101Z"
    }
   },
   "id": "f2dac4b1a5f3f87e"
  },
  {
   "cell_type": "markdown",
   "source": [
    "# From colab"
   ],
   "metadata": {
    "collapsed": false
   },
   "id": "62567b8b8becdf64"
  },
  {
   "cell_type": "code",
   "execution_count": 32,
   "outputs": [],
   "source": [
    "G = {\n",
    "    'events': set(['A','B','C','D','E','F', 'G']),\n",
    "    'conditionsFor': {'A':{'B'},'C':{'B'}},\n",
    "    'milestonesFor': {'G': {'D', 'E'}},\n",
    "    'responseTo': {},\n",
    "    'noResponseTo': {},\n",
    "    'includesTo': {'A':{'D','E','F'},'B':{'D','E','F'}},\n",
    "    'excludesTo': {'C':{'D','E','F'}},\n",
    "    'marking': {'executed': set(),\n",
    "                'included': set(['A','B','C','D','E','F']),\n",
    "                'pending': set(),\n",
    "                'executedTime': {},  # Gives the time since a event was executed\n",
    "                'pendingDeadline': {}  # The deadline until an event must be executed\n",
    "                },\n",
    "    'conditionsForDelays': {},\n",
    "    'responseToDeadlines': {},\n",
    "    'subprocesses': {},\n",
    "    'nestings': {},\n",
    "    'labels': set(),\n",
    "    'labelMapping': {},\n",
    "    'roles': set(),\n",
    "    'roleAssignments': {},\n",
    "    'readRoleAssignments': {}\n",
    "}"
   ],
   "metadata": {
    "collapsed": false,
    "ExecuteTime": {
     "end_time": "2023-12-07T22:21:40.811946372Z",
     "start_time": "2023-12-07T22:21:40.798006974Z"
    }
   },
   "id": "c1efd35c209b0016"
  },
  {
   "cell_type": "code",
   "execution_count": 33,
   "outputs": [
    {
     "name": "stdout",
     "output_type": "stream",
     "text": [
      "{'N3', 'N1', 'N2'} {'F': 'N1', 'E': 'N2', 'D': 'N2', 'N2': 'N1', 'B': 'N3', 'A': 'N3'}\n",
      "{'A': {('B', 'conditionsFor', 'in')}, 'G': {('N2', 'milestonesFor', 'in')}, 'F': set(), 'E': set(), 'B': {('C', 'conditionsFor', 'out'), ('A', 'conditionsFor', 'out')}, 'D': set(), 'C': {('B', 'conditionsFor', 'in'), ('N1', 'excludesTo', 'out')}, 'N1': {('N3', 'includesTo', 'in'), ('C', 'excludesTo', 'in')}, 'N2': {('G', 'milestonesFor', 'out')}, 'N3': {('N1', 'includesTo', 'out')}}\n"
     ]
    }
   ],
   "source": [
    "debug = False\n",
    "\n",
    "def encode(G):\n",
    "    enc = {}\n",
    "    for e in G['events']:\n",
    "        enc[e] = set()\n",
    "    for e in G['events']:\n",
    "        for e_prime in G['events']:\n",
    "            for rel in Relations:\n",
    "                if e in G[rel.value] and e_prime in G[rel.value][e]:\n",
    "                    if rel in [Relations.C,Relations.M]:\n",
    "                        enc[e].add((e_prime,rel.value,'in'))\n",
    "                    else:\n",
    "                        enc[e].add((e_prime,rel.value,'out'))\n",
    "                if e_prime in G[rel.value] and e in G[rel.value][e_prime]:\n",
    "                    if rel in [Relations.C,Relations.M]:\n",
    "                        enc[e].add((e_prime,rel.value,'out'))\n",
    "                    else:\n",
    "                        enc[e].add((e_prime,rel.value,'in'))\n",
    "    return enc\n",
    "\n",
    "def getOppositeRelDictStr(relStr, direction, event, nestingId):\n",
    "    relationDictStrDel = (event,relStr,\"out\" if direction == \"in\" else \"in\")\n",
    "    relationDictStrAdd = (nestingId,relStr,\"out\"  if direction == \"in\" else \"in\")\n",
    "\n",
    "    return relationDictStrDel, relationDictStrAdd\n",
    "\n",
    "\n",
    "def nest(G):\n",
    "    nesting_map = {}\n",
    "    nesting_ids = set()\n",
    "\n",
    "    nest_id = 0\n",
    "\n",
    "    enc = encode(G)\n",
    "    events = G['events'].copy()\n",
    "\n",
    "    # Should probably copy enc and events here as these are mutated\n",
    "    def getLargestNesting(events, nesting_map, nesting_ids, nest_id, parentNesting=None):\n",
    "      cands = {}\n",
    "      for e in events:\n",
    "          for j in events:\n",
    "              arrow_s = frozenset(enc[e].intersection(enc[j]))\n",
    "              if len(arrow_s)>0:\n",
    "                  cands[arrow_s] = set([e, j])\n",
    "      for arrow_s in cands.keys():\n",
    "          for e in events:\n",
    "              if len(arrow_s)>0 and arrow_s.issubset(enc[e]):\n",
    "                  cands[arrow_s].add(e)\n",
    "\n",
    "      best_score = 0\n",
    "      best = None\n",
    "      for arrow_s in cands.keys():\n",
    "          cand_score = (len(cands[arrow_s])-1)*len(arrow_s)\n",
    "          if cand_score>best_score:\n",
    "              best_score = cand_score\n",
    "              best = arrow_s\n",
    "\n",
    "      if best_score == 0:\n",
    "          return set(), nest_id\n",
    "      if debug:\n",
    "          print(f'[best] {cands[best]} {best} '\n",
    "                f'\\n [enc] \\n {enc} \\n '\n",
    "                f'\\n [cands] \\n {cands} \\n')\n",
    "\n",
    "      nest_id += 1\n",
    "      if debug:\n",
    "        print(\"[nest id]\", nest_id)\n",
    "      nest_event = f'N{nest_id}'\n",
    "      nesting_ids.add(nest_event)\n",
    "\n",
    "      if (parentNesting != None):\n",
    "        (parentId, nestingEvents) = parentNesting\n",
    "        nestingEvents = nestingEvents.difference(cands[best])\n",
    "        nestingEvents.add(nest_event)\n",
    "        nesting_map[nest_event] = parentId\n",
    "\n",
    "      enc[nest_event] = set(best)\n",
    "      for e in cands[best]:\n",
    "          nesting_map[e] = nest_event\n",
    "          enc[e] = enc[e].difference(best)\n",
    "          for (e_prime,rel,direction) in best:\n",
    "              opRelDel, opRelAdd = getOppositeRelDictStr(rel,direction,e,nest_event)\n",
    "              enc[e_prime].remove(opRelDel)\n",
    "              enc[e_prime].add(opRelAdd)\n",
    "\n",
    "      while True:\n",
    "        foundNesting, nest_id = getLargestNesting(cands[best], nesting_map, nesting_ids, nest_id, parentNesting=(nest_event, cands[best]))\n",
    "        if (len(foundNesting) == 0):\n",
    "          break\n",
    "              \n",
    "      return cands[best], nest_id\n",
    "\n",
    "    while True:\n",
    "        # add a second while loop that recursively calls nest()\n",
    "        foundNesting, nest_id = getLargestNesting(events, nesting_map, nesting_ids, nest_id,)\n",
    "        if (len(foundNesting) == 0):\n",
    "          break\n",
    "        events = events.difference(foundNesting)\n",
    "        if debug:\n",
    "            print(f'[events] {events}')\n",
    "\n",
    "    return enc, nesting_ids, nesting_map\n",
    "\n",
    "\n",
    "enc, nesting_ids, nesting_map = nest(G)\n",
    "print(nesting_ids,nesting_map)\n",
    "print(enc)"
   ],
   "metadata": {
    "collapsed": false,
    "ExecuteTime": {
     "end_time": "2023-12-07T22:21:40.812680418Z",
     "start_time": "2023-12-07T22:21:40.798104075Z"
    }
   },
   "id": "4e629dfacad41141"
  },
  {
   "cell_type": "code",
   "execution_count": 34,
   "outputs": [
    {
     "ename": "KeyError",
     "evalue": "('Release E', 'excludesTo', 'out')",
     "output_type": "error",
     "traceback": [
      "\u001B[0;31m---------------------------------------------------------------------------\u001B[0m",
      "\u001B[0;31mKeyError\u001B[0m                                  Traceback (most recent call last)",
      "Cell \u001B[0;32mIn[34], line 1\u001B[0m\n\u001B[0;32m----> 1\u001B[0m enc, nesting_ids, nesting_map \u001B[38;5;241m=\u001B[39m \u001B[43mnest\u001B[49m\u001B[43m(\u001B[49m\u001B[43msepsis_reference_dcr\u001B[49m\u001B[43m)\u001B[49m\n\u001B[1;32m      2\u001B[0m \u001B[38;5;28mprint\u001B[39m(nesting_ids,nesting_map)\n\u001B[1;32m      3\u001B[0m \u001B[38;5;28mprint\u001B[39m(enc)\n",
      "Cell \u001B[0;32mIn[33], line 96\u001B[0m, in \u001B[0;36mnest\u001B[0;34m(G)\u001B[0m\n\u001B[1;32m     92\u001B[0m   \u001B[38;5;28;01mreturn\u001B[39;00m cands[best], nest_id\n\u001B[1;32m     94\u001B[0m \u001B[38;5;28;01mwhile\u001B[39;00m \u001B[38;5;28;01mTrue\u001B[39;00m:\n\u001B[1;32m     95\u001B[0m     \u001B[38;5;66;03m# add a second while loop that recursively calls nest()\u001B[39;00m\n\u001B[0;32m---> 96\u001B[0m     foundNesting, nest_id \u001B[38;5;241m=\u001B[39m \u001B[43mgetLargestNesting\u001B[49m\u001B[43m(\u001B[49m\u001B[43mevents\u001B[49m\u001B[43m,\u001B[49m\u001B[43m \u001B[49m\u001B[43mnesting_map\u001B[49m\u001B[43m,\u001B[49m\u001B[43m \u001B[49m\u001B[43mnesting_ids\u001B[49m\u001B[43m,\u001B[49m\u001B[43m \u001B[49m\u001B[43mnest_id\u001B[49m\u001B[43m,\u001B[49m\u001B[43m)\u001B[49m\n\u001B[1;32m     97\u001B[0m     \u001B[38;5;28;01mif\u001B[39;00m (\u001B[38;5;28mlen\u001B[39m(foundNesting) \u001B[38;5;241m==\u001B[39m \u001B[38;5;241m0\u001B[39m):\n\u001B[1;32m     98\u001B[0m       \u001B[38;5;28;01mbreak\u001B[39;00m\n",
      "Cell \u001B[0;32mIn[33], line 84\u001B[0m, in \u001B[0;36mnest.<locals>.getLargestNesting\u001B[0;34m(events, nesting_map, nesting_ids, nest_id, parentNesting)\u001B[0m\n\u001B[1;32m     82\u001B[0m     \u001B[38;5;28;01mfor\u001B[39;00m (e_prime,rel,direction) \u001B[38;5;129;01min\u001B[39;00m best:\n\u001B[1;32m     83\u001B[0m         opRelDel, opRelAdd \u001B[38;5;241m=\u001B[39m getOppositeRelDictStr(rel,direction,e,nest_event)\n\u001B[0;32m---> 84\u001B[0m         enc[e_prime]\u001B[38;5;241m.\u001B[39mremove(opRelDel)\n\u001B[1;32m     85\u001B[0m         enc[e_prime]\u001B[38;5;241m.\u001B[39madd(opRelAdd)\n\u001B[1;32m     87\u001B[0m \u001B[38;5;28;01mwhile\u001B[39;00m \u001B[38;5;28;01mTrue\u001B[39;00m:\n",
      "\u001B[0;31mKeyError\u001B[0m: ('Release E', 'excludesTo', 'out')"
     ]
    }
   ],
   "source": [
    "enc, nesting_ids, nesting_map = nest(sepsis_reference_dcr)\n",
    "print(nesting_ids,nesting_map)\n",
    "print(enc)"
   ],
   "metadata": {
    "collapsed": false,
    "ExecuteTime": {
     "end_time": "2023-12-07T22:21:40.852914887Z",
     "start_time": "2023-12-07T22:21:40.805221347Z"
    }
   },
   "id": "ac6306345fa868b8"
  },
  {
   "cell_type": "code",
   "execution_count": null,
   "outputs": [],
   "source": [
    "n = Nesting()\n",
    "n.create_encoding(G)\n",
    "n.nest(G['events'])\n",
    "n.get_nested_dcr_graph()"
   ],
   "metadata": {
    "collapsed": false,
    "ExecuteTime": {
     "start_time": "2023-12-07T22:21:40.849681830Z"
    }
   },
   "id": "d74be4b858562950"
  },
  {
   "cell_type": "markdown",
   "source": [
    "# Based on typescript code"
   ],
   "metadata": {
    "collapsed": false
   },
   "id": "88a461938f39ce6"
  },
  {
   "cell_type": "code",
   "execution_count": null,
   "outputs": [],
   "source": [
    "# import { DCRGraph, DCRSolutionsImport, RelationString, DirectlyFollows, DirectlyFollowsGraph, EventLog, EventMap, FuzzyDCRGraph, FuzzyEventMap, HiDCRGraph, Event, DCRSolutionsImportModel, FuzzyHiDCRGraph } from \"../types\";\n",
    "# import fs from \"fs\";\n",
    "# import { copyDCRGraph, copyEventMap, copyMarking, copySet, DCRSize, flipEventMap, intersect, printFull, setEqual, subset, unionGraphs } from \"./utility\";"
   ],
   "metadata": {
    "collapsed": false,
    "ExecuteTime": {
     "end_time": "2023-12-07T22:21:40.916299869Z",
     "start_time": "2023-12-07T22:21:40.894012493Z"
    }
   },
   "id": "6bdfa794de9aace6"
  },
  {
   "cell_type": "code",
   "execution_count": null,
   "outputs": [],
   "source": [
    "from copy import deepcopy"
   ],
   "metadata": {
    "collapsed": false,
    "ExecuteTime": {
     "start_time": "2023-12-07T22:21:40.894092815Z"
    }
   },
   "id": "e77cd102120b870f"
  },
  {
   "cell_type": "code",
   "execution_count": null,
   "outputs": [],
   "source": [
    "RelationsDict = {}\n",
    "ReturnNesting = {}\n",
    "ReturnNesting['nestedGraph'] = {}\n",
    "ReturnNesting['nestingIds'] = set()\n",
    "ReturnNesting['nestingRelations'] = {}\n",
    "\n",
    "DCRImportOptions = {\n",
    "        'nestingIds': set(),\n",
    "        'nestingRelations': {}\n",
    "    }\n",
    "\n",
    "def relationsDictToDCR(relationsDict):\n",
    "    events = set(relationsDict.keys())\n",
    "    graph = {\n",
    "        'events': set(),\n",
    "        'conditionsFor': {},\n",
    "        'milestonesFor': {},\n",
    "        'responseTo': {},\n",
    "        'noResponseTo': {},\n",
    "        'includesTo': {},\n",
    "        'excludesTo': {},\n",
    "        'marking': {'executed': set(),\n",
    "                    'included': set(),\n",
    "                    'pending': set()\n",
    "                    }\n",
    "    }\n",
    "\n",
    "    def stringToRelation(strr):\n",
    "        match strr:\n",
    "            case \"condition\": return graph['conditionsFor']\n",
    "            case \"exclude\": return graph['excludesTo']\n",
    "            case \"response\": return graph['responseTo']\n",
    "            case \"include\": return graph['includesTo']\n",
    "            case \"milestone\": return graph['milestonesFor']\n",
    "\n",
    "    def shouldAdd(str, direction):\n",
    "        if str == \"condition\" or str == \"milestone\": \n",
    "            return direction == \"in\"\n",
    "        else: \n",
    "            return direction == \"out\"\n",
    "\n",
    "    for event in events:\n",
    "        graph['conditionsFor'][event] = set()\n",
    "        graph['responseTo'][event] = set()\n",
    "        graph['includesTo'][event] = set()\n",
    "        graph['excludesTo'][event] = set()\n",
    "        graph['milestonesFor'][event] = set()\n",
    "\n",
    "    for event, relations in relationsDict.items():\n",
    "        for relation in relations:\n",
    "            substrings = relation.split(\"_\")\n",
    "            if len(substrings < 3):\n",
    "                print(f\"[0] {substrings}\")\n",
    "                raise Exception(\"I didn't implement for this, easy fix though. ggez.\")\n",
    "            otherEvent = substrings[0] if len(substrings) == 3 else substrings.slice(0, -2).join(\"_\")\n",
    "            relStr = substrings[len(substrings) - 2]\n",
    "            direction = substrings[len(substrings) - 1]\n",
    "\n",
    "            if (shouldAdd(relStr, direction)):\n",
    "                stringToRelation(relStr)[event].add(otherEvent)\n",
    "\n",
    "    return graph\n",
    "\n",
    "def getOppositeRelDictStr(relationDictStr, event, nestingId): #{ event: string, relationDictStrDel: string, relationDictStrAdd: string } => {\n",
    "    substrings = relationDictStr.split(\"_\")\n",
    "    if len(substrings) > 3:\n",
    "        print(f\"[1] {substrings}\")\n",
    "        raise Exception(\"I didn't implement for this, easy fix though. ggez.\")\n",
    "    otherEvent = substrings[0] if len(substrings) == 3 else substrings.slice(0, -2).join(\"_\")\n",
    "    relStr = substrings[len(substrings) - 2]\n",
    "    direction = substrings[len(substrings) - 1]\n",
    "\n",
    "    relationDictStrDel = f'{event}_{relStr}_{\"out\" if direction == \"in\" else \"in\"}'\n",
    "    relationDictStrAdd = f'{nestingId}_{relStr}_{\"out\"  if direction == \"in\" else \"in\"}'\n",
    "    \n",
    "    return otherEvent, relationDictStrDel, relationDictStrAdd\n",
    "\n",
    "def setToStr(sett):\n",
    "    return ''.join(sorted([s for s in sett]))\n",
    "\n",
    "def flipEventMap(rel):\n",
    "    flipped_rel = {event: set() for event in rel.keys()}\n",
    "    for k,v in rel.items():\n",
    "        for v0 in v:\n",
    "            if v0 not in flipped_rel:\n",
    "                flipped_rel[v0] = set([k])\n",
    "            else:\n",
    "                flipped_rel[v0].add(k)\n",
    "    return flipped_rel\n",
    "\n",
    "def getRelationsDict(graph):\n",
    "    relationsDict = {}\n",
    "    for event in graph['events']:\n",
    "        relationsDict[event] = set()\n",
    "\n",
    "    def addRelation(rel, name):\n",
    "        flippedRel = flipEventMap(rel)\n",
    "        # Ensure proper naming for flipped relations. Shouldn't matter in practice.\n",
    "        d1, d2 = (\"in\", \"out\") if (name == \"condition\" or name == \"milestone\") else (\"out\", \"in\")\n",
    "\n",
    "        for event in graph['events']:\n",
    "            if event in rel:\n",
    "                for otherEvent in rel[event]:\n",
    "                    relationsDict[event].add(otherEvent + \"_\" + name + \"_\" + d1)\n",
    "            if event in flippedRel:\n",
    "                for otherEvent in flippedRel[event]:\n",
    "                    relationsDict[event].add(otherEvent + \"_\" + name + \"_\" + d2)\n",
    "        \n",
    "    addRelation(graph['conditionsFor'], \"condition\")\n",
    "    addRelation(graph['responseTo'], \"response\")\n",
    "    addRelation(graph['excludesTo'], \"exclude\")\n",
    "    addRelation(graph['includesTo'], \"include\")\n",
    "    addRelation(graph['milestonesFor'], \"milestone\")\n",
    "\n",
    "    return relationsDict\n",
    "\n",
    "idCounter = 0\n",
    "\n",
    "def getNestingId(idCounter): \n",
    "    idCounter += 1\n",
    "    return f\"Nesting{idCounter}\"\n",
    "\n",
    "def nestDCR(graph, minSharedRels, relationDict):\n",
    "\n",
    "    nestingIds = set()\n",
    "    nestingRelations = {}\n",
    "\n",
    "    def findLargestNesting(events, parentNesting = None):      \n",
    "        eventArr = list(events)\n",
    "        possibleNestings = {}\n",
    "        \n",
    "        for i in range(0, len(eventArr)):\n",
    "            for j in range(i,len(eventArr)):\n",
    "                e1 = eventArr[i]\n",
    "                e2 = eventArr[j]\n",
    "                shared = relationDict[e1].intersection(relationDict[e2])\n",
    "                possibleNestings[setToStr(shared)] = { 'nestingEvents':set([e1, e2]), 'sharedRels': shared }\n",
    "\n",
    "        for possibleNestingId, nesting in possibleNestings.items():\n",
    "            for event in events:\n",
    "                if nesting['sharedRels'].issubset(relationDict[event]):\n",
    "                    nesting['nestingEvents'].add(event)\n",
    "\n",
    "        bestNesting = { 'nestingEvents': set(), 'sharedRels': set() }\n",
    "        max = 0\n",
    "        for possibleNestingId, nesting in possibleNestings.items():\n",
    "            \n",
    "            metric = (len(nesting['nestingEvents']) - 1) * len(nesting['sharedRels'])\n",
    "            if (metric > max):\n",
    "                max = metric\n",
    "                bestNesting = nesting\n",
    "\n",
    "        retval = []#{ nestingEvents: Set<Event>, sharedRels: Set<string> }> = [];\n",
    "        if len(bestNesting['nestingEvents']) > 1 and len(bestNesting['sharedRels']) >= minSharedRels:\n",
    "\n",
    "            nestingId = getNestingId(idCounter)\n",
    "\n",
    "            nestingIds.add(nestingId)\n",
    "\n",
    "            if parentNesting:\n",
    "                parentNesting['events'].difference(bestNesting['nestingEvents'])\n",
    "                parentNesting['events'].add(nestingId)\n",
    "                nestingRelations[nestingId] = parentNesting['id']\n",
    "            \n",
    "            for event in bestNesting['nestingEvents']:\n",
    "                nestingRelations[event] = nestingId\n",
    "\n",
    "            for nestedEvent in bestNesting['nestingEvents']:\n",
    "                relationDict[nestedEvent].difference(bestNesting['sharedRels'])\n",
    "                for sharedRelStr in bestNesting['sharedRels']:\n",
    "                    event, relationDictStrDel, relationDictStrAdd = getOppositeRelDictStr(sharedRelStr, nestedEvent, nestingId)\n",
    "                    relationDict[event].add(relationDictStrAdd)\n",
    "                    relationDict[event].discard(relationDictStrDel)\n",
    "\n",
    "            relationDict[nestingId] = deepcopy(bestNesting['sharedRels'])\n",
    "\n",
    "            retval = []#[nestingEvents: bestNesting.nestingEvents, sharedRels: bestNesting.sharedRels }];\n",
    "            found = True\n",
    "            while (found):\n",
    "                largestNesting = findLargestNesting(bestNesting['nestingEvents'], { 'id': nestingId, 'events': bestNesting['nestingEvents'] })\n",
    "                if len(largestNesting) != 0:\n",
    "                    retval.extend(largestNesting)\n",
    "                else: \n",
    "                    found = False\n",
    "\n",
    "        return retval\n",
    "\n",
    "    nestingsFound = 0\n",
    "    nestingsArr = []#<{ nestingEvents: Set<Event>, sharedRels: Set<string> }> = [];\n",
    "    events = deepcopy(graph['events'])\n",
    "    while True:\n",
    "        partialNestingArr = findLargestNesting(events)\n",
    "        nestingsFound = len(partialNestingArr)\n",
    "        nestingsArr.extend(partialNestingArr)\n",
    "        if len(partialNestingArr) > 0: \n",
    "            events.difference(partialNestingArr[0]['nestingEvents'])\n",
    "        if not nestingsFound > 0:\n",
    "            break\n",
    "\n",
    "    return relationsDictToDCR(relationDict), deepcopy(graph['events']).union(nestingIds), nestingIds, nestingRelations"
   ],
   "metadata": {
    "collapsed": false,
    "ExecuteTime": {
     "start_time": "2023-12-07T22:21:40.894126054Z"
    }
   },
   "id": "a30e0f138b5f9b3e"
  },
  {
   "cell_type": "code",
   "execution_count": null,
   "outputs": [],
   "source": [
    "graph = {\n",
    "    'events': set(['A','B','C','D','E','F']),\n",
    "    'conditionsFor': {'A':{'B'},'C':{'B'}},\n",
    "    'milestonesFor': {},\n",
    "    'responseTo': {},\n",
    "    'noResponseTo': {},\n",
    "    'includesTo': {'A':{'D','E','F'},'B':{'D','E','F'}},\n",
    "    'excludesTo': {'C':{'D','E','F'}},\n",
    "    'marking': {'executed': set(),\n",
    "                'included': set(['A','B','C','D','E','F']),\n",
    "                'pending': set(),\n",
    "        }\n",
    "    }    \n",
    "nestDCR(graph,minSharedRels=1, relationDict=getRelationsDict(graph))"
   ],
   "metadata": {
    "collapsed": false,
    "ExecuteTime": {
     "start_time": "2023-12-07T22:21:40.894152873Z"
    }
   },
   "id": "9ea7abe6adea7834"
  },
  {
   "cell_type": "markdown",
   "source": [
    "# Other clustering (from networkx)"
   ],
   "metadata": {
    "collapsed": false
   },
   "id": "7f8158b5ae54aab"
  },
  {
   "cell_type": "code",
   "execution_count": null,
   "outputs": [],
   "source": [
    "nxG = dcr_to_networkx(G)\n",
    "nx.draw_circular(nxG, with_labels=True)\n",
    "for n in nxG.nodes:\n",
    "    print(n)\n",
    "    print([s for s in nxG.successors(n)])\n",
    "    print([p for p in nxG.predecessors(n)])\n",
    "nx.clustering(nxG)"
   ],
   "metadata": {
    "collapsed": false,
    "ExecuteTime": {
     "start_time": "2023-12-07T22:21:40.894174610Z"
    }
   },
   "id": "d44db15c4bcc177e"
  }
 ],
 "metadata": {
  "kernelspec": {
   "display_name": "Python 3",
   "language": "python",
   "name": "python3"
  },
  "language_info": {
   "codemirror_mode": {
    "name": "ipython",
    "version": 2
   },
   "file_extension": ".py",
   "mimetype": "text/x-python",
   "name": "python",
   "nbconvert_exporter": "python",
   "pygments_lexer": "ipython2",
   "version": "2.7.6"
  }
 },
 "nbformat": 4,
 "nbformat_minor": 5
}
