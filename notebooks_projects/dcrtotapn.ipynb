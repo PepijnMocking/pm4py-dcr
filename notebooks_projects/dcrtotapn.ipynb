{
 "cells": [
  {
   "cell_type": "code",
   "execution_count": 92,
   "outputs": [
    {
     "name": "stdout",
     "output_type": "stream",
     "text": [
      "The autoreload extension is already loaded. To reload it, use:\n",
      "  %reload_ext autoreload\n",
      "/home/vco/Projects/pm4py-dcr\n",
      "/home/vco/Projects/pm4py-dcr\n"
     ]
    }
   ],
   "source": [
    "%load_ext autoreload\n",
    "%autoreload 2\n",
    "import os\n",
    "print(os.getcwd())\n",
    "os.chdir('/home/vco/Projects/pm4py-dcr/')\n",
    "print(os.getcwd())\n",
    "from pm4py.objects.conversion.dcr import converter\n",
    "from pm4py.objects.dcr.importer import importer as dcr_importer\n",
    "from pm4py.objects.dcr.utils.dcr_utils import nested_groups_and_sps_to_flat_dcr\n",
    "from pm4py.objects.conversion.dcr import converter as dcr_to_tapn"
   ],
   "metadata": {
    "collapsed": false,
    "ExecuteTime": {
     "end_time": "2023-12-19T10:14:02.144239650Z",
     "start_time": "2023-12-19T10:14:02.096751553Z"
    }
   },
   "id": "9af256ba1c4bb010"
  },
  {
   "cell_type": "code",
   "execution_count": 110,
   "outputs": [],
   "source": [
    "rail_example = 'models/rail_example.xml'\n",
    "rail_dcr_labeled = dcr_importer.apply(rail_example,parameters={'as_dcr_object':True,'labels_as_ids':True})"
   ],
   "metadata": {
    "collapsed": false,
    "ExecuteTime": {
     "end_time": "2023-12-19T10:49:08.808571907Z",
     "start_time": "2023-12-19T10:49:08.791052278Z"
    }
   },
   "id": "3fe960731b0928b6"
  },
  {
   "cell_type": "code",
   "execution_count": 111,
   "outputs": [],
   "source": [
    "nested_groups_and_sps_to_flat_dcr(rail_dcr_labeled)"
   ],
   "metadata": {
    "collapsed": false,
    "ExecuteTime": {
     "end_time": "2023-12-19T10:49:09.189637425Z",
     "start_time": "2023-12-19T10:49:09.175261469Z"
    }
   },
   "id": "d5a603dcbc3f66a9"
  },
  {
   "cell_type": "code",
   "execution_count": 113,
   "outputs": [],
   "source": [
    "dcr_dict = rail_dcr_labeled.obj_to_template()"
   ],
   "metadata": {
    "collapsed": false,
    "ExecuteTime": {
     "end_time": "2023-12-19T10:49:37.403641742Z",
     "start_time": "2023-12-19T10:49:37.363390468Z"
    }
   },
   "id": "667f3ec0e9bc99fd"
  },
  {
   "cell_type": "code",
   "execution_count": 117,
   "outputs": [
    {
     "name": "stdout",
     "output_type": "stream",
     "text": [
      "[] {}\n",
      "{}\n"
     ]
    },
    {
     "ename": "KeyError",
     "evalue": "executed_approach1",
     "output_type": "error",
     "traceback": [
      "\u001B[0;31m---------------------------------------------------------------------------\u001B[0m",
      "\u001B[0;31mKeyError\u001B[0m                                  Traceback (most recent call last)",
      "Cell \u001B[0;32mIn[117], line 1\u001B[0m\n\u001B[0;32m----> 1\u001B[0m tapn, m \u001B[38;5;241m=\u001B[39m \u001B[43mdcr_to_tapn\u001B[49m\u001B[38;5;241;43m.\u001B[39;49m\u001B[43mapply\u001B[49m\u001B[43m(\u001B[49m\u001B[43mdcr_dict\u001B[49m\u001B[43m,\u001B[49m\u001B[43mvariant\u001B[49m\u001B[38;5;241;43m=\u001B[39;49m\u001B[43mdcr_to_tapn\u001B[49m\u001B[38;5;241;43m.\u001B[39;49m\u001B[43mVariants\u001B[49m\u001B[38;5;241;43m.\u001B[39;49m\u001B[43mTO_TIMED_ARC_PETRI_NET\u001B[49m\u001B[43m)\u001B[49m\n",
      "File \u001B[0;32m~/Projects/pm4py-dcr/pm4py/objects/conversion/dcr/converter.py:39\u001B[0m, in \u001B[0;36mapply\u001B[0;34m(obj, variant, parameters)\u001B[0m\n\u001B[1;32m     37\u001B[0m \u001B[38;5;28;01mif\u001B[39;00m \u001B[38;5;28misinstance\u001B[39m(obj, TimedDcrGraph):\n\u001B[1;32m     38\u001B[0m     obj \u001B[38;5;241m=\u001B[39m obj\u001B[38;5;241m.\u001B[39mobj_to_template()\n\u001B[0;32m---> 39\u001B[0m \u001B[38;5;28;01mreturn\u001B[39;00m \u001B[43mexec_utils\u001B[49m\u001B[38;5;241;43m.\u001B[39;49m\u001B[43mget_variant\u001B[49m\u001B[43m(\u001B[49m\u001B[43mvariant\u001B[49m\u001B[43m)\u001B[49m\u001B[38;5;241;43m.\u001B[39;49m\u001B[43mapply\u001B[49m\u001B[43m(\u001B[49m\u001B[43mobj\u001B[49m\u001B[43m,\u001B[49m\u001B[43m \u001B[49m\u001B[43mparameters\u001B[49m\u001B[38;5;241;43m=\u001B[39;49m\u001B[43mparameters\u001B[49m\u001B[43m)\u001B[49m\n",
      "File \u001B[0;32m~/Projects/pm4py-dcr/pm4py/objects/conversion/dcr/variants/to_timed_arc_petri_net.py:365\u001B[0m, in \u001B[0;36mapply\u001B[0;34m(dcr, parameters)\u001B[0m\n\u001B[1;32m    362\u001B[0m \u001B[38;5;28;01mdef\u001B[39;00m \u001B[38;5;21mapply\u001B[39m(dcr, parameters):\n\u001B[1;32m    363\u001B[0m     \u001B[38;5;66;03m# TODO: make parameters be part also of the class init method\u001B[39;00m\n\u001B[1;32m    364\u001B[0m     d2p \u001B[38;5;241m=\u001B[39m Dcr2TimedArcPetri(preoptimize\u001B[38;5;241m=\u001B[39m\u001B[38;5;28;01mTrue\u001B[39;00m, postoptimize\u001B[38;5;241m=\u001B[39m\u001B[38;5;28;01mTrue\u001B[39;00m, map_unexecutable_events\u001B[38;5;241m=\u001B[39m\u001B[38;5;28;01mFalse\u001B[39;00m)\n\u001B[0;32m--> 365\u001B[0m     tapn, m \u001B[38;5;241m=\u001B[39m \u001B[43md2p\u001B[49m\u001B[38;5;241;43m.\u001B[39;49m\u001B[43mapply\u001B[49m\u001B[43m(\u001B[49m\u001B[43mdcr\u001B[49m\u001B[43m,\u001B[49m\u001B[43m \u001B[49m\u001B[38;5;241;43m*\u001B[39;49m\u001B[38;5;241;43m*\u001B[39;49m\u001B[43mparameters\u001B[49m\u001B[43m)\u001B[49m\n\u001B[1;32m    366\u001B[0m     \u001B[38;5;28;01mreturn\u001B[39;00m tapn, m\n",
      "File \u001B[0;32m~/Projects/pm4py-dcr/pm4py/objects/conversion/dcr/variants/to_timed_arc_petri_net.py:351\u001B[0m, in \u001B[0;36mDcr2TimedArcPetri.apply\u001B[0;34m(self, G, tapn_path)\u001B[0m\n\u001B[1;32m    349\u001B[0m     \u001B[38;5;28;01mif\u001B[39;00m \u001B[38;5;28mself\u001B[39m\u001B[38;5;241m.\u001B[39mprint_steps:\n\u001B[1;32m    350\u001B[0m         \u001B[38;5;28mprint\u001B[39m(\u001B[38;5;124m'\u001B[39m\u001B[38;5;124m[i] post optimizing\u001B[39m\u001B[38;5;124m'\u001B[39m)\n\u001B[0;32m--> 351\u001B[0m     tapn \u001B[38;5;241m=\u001B[39m \u001B[38;5;28;43mself\u001B[39;49m\u001B[38;5;241;43m.\u001B[39;49m\u001B[43mpost_optimize_petri_net_reachability_graph\u001B[49m\u001B[43m(\u001B[49m\u001B[43mtapn\u001B[49m\u001B[43m,\u001B[49m\u001B[43m \u001B[49m\u001B[43mm\u001B[49m\u001B[43m,\u001B[49m\u001B[43m \u001B[49m\u001B[43mG\u001B[49m\u001B[43m)\u001B[49m\n\u001B[1;32m    353\u001B[0m \u001B[38;5;28;01mif\u001B[39;00m tapn_path:\n\u001B[1;32m    354\u001B[0m     \u001B[38;5;28;01mif\u001B[39;00m \u001B[38;5;28mself\u001B[39m\u001B[38;5;241m.\u001B[39mprint_steps:\n",
      "File \u001B[0;32m~/Projects/pm4py-dcr/pm4py/objects/conversion/dcr/variants/to_timed_arc_petri_net.py:168\u001B[0m, in \u001B[0;36mDcr2TimedArcPetri.post_optimize_petri_net_reachability_graph\u001B[0;34m(self, tapn, m, G)\u001B[0m\n\u001B[1;32m    166\u001B[0m     max_elab_time \u001B[38;5;241m=\u001B[39m \u001B[38;5;28mself\u001B[39m\u001B[38;5;241m.\u001B[39mreachability_timeout\n\u001B[1;32m    167\u001B[0m \u001B[38;5;28mprint\u001B[39m(m)\n\u001B[0;32m--> 168\u001B[0m trans_sys \u001B[38;5;241m=\u001B[39m \u001B[43mreachability_graph\u001B[49m\u001B[38;5;241;43m.\u001B[39;49m\u001B[43mconstruct_reachability_graph\u001B[49m\u001B[43m(\u001B[49m\u001B[43mtapn\u001B[49m\u001B[43m,\u001B[49m\u001B[43m \u001B[49m\u001B[43mm\u001B[49m\u001B[43m,\u001B[49m\u001B[43m \u001B[49m\u001B[43muse_trans_name\u001B[49m\u001B[38;5;241;43m=\u001B[39;49m\u001B[38;5;28;43;01mTrue\u001B[39;49;00m\u001B[43m,\u001B[49m\n\u001B[1;32m    169\u001B[0m \u001B[43m                                                            \u001B[49m\u001B[43mparameters\u001B[49m\u001B[38;5;241;43m=\u001B[39;49m\u001B[43m{\u001B[49m\n\u001B[1;32m    170\u001B[0m \u001B[43m                                                                \u001B[49m\u001B[38;5;124;43m'\u001B[39;49m\u001B[38;5;124;43mpetri_semantics\u001B[39;49m\u001B[38;5;124;43m'\u001B[39;49m\u001B[43m:\u001B[49m\u001B[43m \u001B[49m\u001B[43mtapn_semantics\u001B[49m\u001B[38;5;241;43m.\u001B[39;49m\u001B[43mTimedArcSemantics\u001B[49m\u001B[43m(\u001B[49m\u001B[43m)\u001B[49m\u001B[43m,\u001B[49m\n\u001B[1;32m    171\u001B[0m \u001B[43m                                                                \u001B[49m\u001B[38;5;124;43m'\u001B[39;49m\u001B[38;5;124;43mmax_elab_time\u001B[39;49m\u001B[38;5;124;43m'\u001B[39;49m\u001B[43m:\u001B[49m\u001B[43m \u001B[49m\u001B[43mmax_elab_time\u001B[49m\u001B[43m}\u001B[49m\u001B[43m)\u001B[49m\n\u001B[1;32m    173\u001B[0m fired_transitions \u001B[38;5;241m=\u001B[39m \u001B[38;5;28mset\u001B[39m()\n\u001B[1;32m    175\u001B[0m \u001B[38;5;28;01mfor\u001B[39;00m transition \u001B[38;5;129;01min\u001B[39;00m trans_sys\u001B[38;5;241m.\u001B[39mtransitions:\n",
      "File \u001B[0;32m~/Projects/pm4py-dcr/pm4py/objects/petri_net/utils/reachability_graph.py:153\u001B[0m, in \u001B[0;36mconstruct_reachability_graph\u001B[0;34m(net, initial_marking, use_trans_name, parameters)\u001B[0m\n\u001B[1;32m    139\u001B[0m \u001B[38;5;28;01mdef\u001B[39;00m \u001B[38;5;21mconstruct_reachability_graph\u001B[39m(net, initial_marking, use_trans_name\u001B[38;5;241m=\u001B[39m\u001B[38;5;28;01mFalse\u001B[39;00m, parameters\u001B[38;5;241m=\u001B[39m\u001B[38;5;28;01mNone\u001B[39;00m) \u001B[38;5;241m-\u001B[39m\u001B[38;5;241m>\u001B[39m TransitionSystem:\n\u001B[1;32m    140\u001B[0m \u001B[38;5;250m    \u001B[39m\u001B[38;5;124;03m\"\"\"\u001B[39;00m\n\u001B[1;32m    141\u001B[0m \u001B[38;5;124;03m    Creates a reachability graph of a certain Petri net.\u001B[39;00m\n\u001B[1;32m    142\u001B[0m \u001B[38;5;124;03m    DO NOT ATTEMPT WITH AN UNBOUNDED PETRI NET, EVER.\u001B[39;00m\n\u001B[0;32m   (...)\u001B[0m\n\u001B[1;32m    151\u001B[0m \u001B[38;5;124;03m    re_gr: Transition system that represents the reachability graph of the input Petri net.\u001B[39;00m\n\u001B[1;32m    152\u001B[0m \u001B[38;5;124;03m    \"\"\"\u001B[39;00m\n\u001B[0;32m--> 153\u001B[0m     incoming_transitions, outgoing_transitions, eventually_enabled \u001B[38;5;241m=\u001B[39m \u001B[43mmarking_flow_petri\u001B[49m\u001B[43m(\u001B[49m\u001B[43mnet\u001B[49m\u001B[43m,\u001B[49m\u001B[43m \u001B[49m\u001B[43minitial_marking\u001B[49m\u001B[43m,\u001B[49m\n\u001B[1;32m    154\u001B[0m \u001B[43m                                                                                        \u001B[49m\u001B[43mparameters\u001B[49m\u001B[38;5;241;43m=\u001B[39;49m\u001B[43mparameters\u001B[49m\u001B[43m)\u001B[49m\n\u001B[1;32m    156\u001B[0m     \u001B[38;5;28;01mreturn\u001B[39;00m construct_reachability_graph_from_flow(incoming_transitions, outgoing_transitions,\n\u001B[1;32m    157\u001B[0m                                                   use_trans_name\u001B[38;5;241m=\u001B[39muse_trans_name, parameters\u001B[38;5;241m=\u001B[39mparameters)\n",
      "File \u001B[0;32m~/Projects/pm4py-dcr/pm4py/objects/petri_net/utils/reachability_graph.py:83\u001B[0m, in \u001B[0;36mmarking_flow_petri\u001B[0;34m(net, im, return_eventually_enabled, parameters)\u001B[0m\n\u001B[1;32m     81\u001B[0m     \u001B[38;5;28;01mreturn\u001B[39;00m incoming_transitions, outgoing_transitions, eventually_enabled\n\u001B[1;32m     82\u001B[0m m \u001B[38;5;241m=\u001B[39m active\u001B[38;5;241m.\u001B[39mpop()\n\u001B[0;32m---> 83\u001B[0m enabled_transitions \u001B[38;5;241m=\u001B[39m \u001B[43msemantics\u001B[49m\u001B[38;5;241;43m.\u001B[39;49m\u001B[43menabled_transitions\u001B[49m\u001B[43m(\u001B[49m\u001B[43mnet\u001B[49m\u001B[43m,\u001B[49m\u001B[43m \u001B[49m\u001B[43mm\u001B[49m\u001B[43m)\u001B[49m\n\u001B[1;32m     84\u001B[0m \u001B[38;5;28;01mif\u001B[39;00m return_eventually_enabled:\n\u001B[1;32m     85\u001B[0m     eventually_enabled[m] \u001B[38;5;241m=\u001B[39m align_utils\u001B[38;5;241m.\u001B[39mget_visible_transitions_eventually_enabled_by_marking(net, m)\n",
      "File \u001B[0;32m~/Projects/pm4py-dcr/pm4py/objects/petri_net/timed_arc_net/semantics.py:85\u001B[0m, in \u001B[0;36mTimedArcSemantics.enabled_transitions\u001B[0;34m(self, pn, m, **kwargs)\u001B[0m\n\u001B[1;32m     72\u001B[0m \u001B[38;5;28;01mdef\u001B[39;00m \u001B[38;5;21menabled_transitions\u001B[39m(\u001B[38;5;28mself\u001B[39m, pn, m, \u001B[38;5;241m*\u001B[39m\u001B[38;5;241m*\u001B[39mkwargs):\n\u001B[1;32m     73\u001B[0m \u001B[38;5;250m    \u001B[39m\u001B[38;5;124;03m\"\"\"\u001B[39;00m\n\u001B[1;32m     74\u001B[0m \u001B[38;5;124;03m    Returns a set of enabled transitions in a Petri net and given marking\u001B[39;00m\n\u001B[1;32m     75\u001B[0m \n\u001B[0;32m   (...)\u001B[0m\n\u001B[1;32m     83\u001B[0m \u001B[38;5;124;03m    :return: set of enabled transitions\u001B[39;00m\n\u001B[1;32m     84\u001B[0m \u001B[38;5;124;03m    \"\"\"\u001B[39;00m\n\u001B[0;32m---> 85\u001B[0m     \u001B[38;5;28;01mreturn\u001B[39;00m \u001B[43menabled_transitions\u001B[49m\u001B[43m(\u001B[49m\u001B[43mpn\u001B[49m\u001B[43m,\u001B[49m\u001B[43m \u001B[49m\u001B[43mm\u001B[49m\u001B[43m)\u001B[49m\n",
      "File \u001B[0;32m~/Projects/pm4py-dcr/pm4py/objects/petri_net/timed_arc_net/semantics.py:184\u001B[0m, in \u001B[0;36menabled_transitions\u001B[0;34m(pn, m)\u001B[0m\n\u001B[1;32m    182\u001B[0m enabled \u001B[38;5;241m=\u001B[39m \u001B[38;5;28mset\u001B[39m()\n\u001B[1;32m    183\u001B[0m \u001B[38;5;28;01mfor\u001B[39;00m t \u001B[38;5;129;01min\u001B[39;00m pn\u001B[38;5;241m.\u001B[39mtransitions:\n\u001B[0;32m--> 184\u001B[0m     \u001B[38;5;28;01mif\u001B[39;00m \u001B[43mis_enabled\u001B[49m\u001B[43m(\u001B[49m\u001B[43mt\u001B[49m\u001B[43m,\u001B[49m\u001B[43m \u001B[49m\u001B[43mpn\u001B[49m\u001B[43m,\u001B[49m\u001B[43m \u001B[49m\u001B[43mm\u001B[49m\u001B[43m)\u001B[49m:\n\u001B[1;32m    185\u001B[0m         enabled\u001B[38;5;241m.\u001B[39madd(t)\n\u001B[1;32m    186\u001B[0m \u001B[38;5;28;01mreturn\u001B[39;00m enabled\n",
      "File \u001B[0;32m~/Projects/pm4py-dcr/pm4py/objects/petri_net/timed_arc_net/semantics.py:110\u001B[0m, in \u001B[0;36mis_enabled\u001B[0;34m(t, pn, m)\u001B[0m\n\u001B[1;32m    108\u001B[0m         \u001B[38;5;28mmax\u001B[39m \u001B[38;5;241m=\u001B[39m a\u001B[38;5;241m.\u001B[39mproperties[AGE_MAX]\n\u001B[1;32m    109\u001B[0m     \u001B[38;5;28mprint\u001B[39m(m\u001B[38;5;241m.\u001B[39mtimed_dict)\n\u001B[0;32m--> 110\u001B[0m     \u001B[38;5;28;01mif\u001B[39;00m \u001B[38;5;28mmin\u001B[39m \u001B[38;5;241m>\u001B[39m \u001B[43mm\u001B[49m\u001B[38;5;241;43m.\u001B[39;49m\u001B[43mtimed_dict\u001B[49m\u001B[43m[\u001B[49m\u001B[43ma\u001B[49m\u001B[38;5;241;43m.\u001B[39;49m\u001B[43msource\u001B[49m\u001B[43m]\u001B[49m \u001B[38;5;129;01mor\u001B[39;00m m\u001B[38;5;241m.\u001B[39mtimed_dict[a\u001B[38;5;241m.\u001B[39msource] \u001B[38;5;241m>\u001B[39m \u001B[38;5;28mmax\u001B[39m:\n\u001B[1;32m    111\u001B[0m         \u001B[38;5;28;01mreturn\u001B[39;00m \u001B[38;5;28;01mFalse\u001B[39;00m\n\u001B[1;32m    112\u001B[0m \u001B[38;5;28;01melif\u001B[39;00m m[a\u001B[38;5;241m.\u001B[39msource] \u001B[38;5;241m<\u001B[39m a\u001B[38;5;241m.\u001B[39mweight:\n",
      "\u001B[0;31mKeyError\u001B[0m: executed_approach1"
     ]
    }
   ],
   "source": [
    "tapn, m = dcr_to_tapn.apply(dcr_dict,variant=dcr_to_tapn.Variants.TO_TIMED_ARC_PETRI_NET)"
   ],
   "metadata": {
    "collapsed": false,
    "ExecuteTime": {
     "end_time": "2023-12-19T10:56:20.704785514Z",
     "start_time": "2023-12-19T10:56:20.528518269Z"
    }
   },
   "id": "1f8be35a61055b41"
  }
 ],
 "metadata": {
  "kernelspec": {
   "display_name": "Python 3",
   "language": "python",
   "name": "python3"
  },
  "language_info": {
   "codemirror_mode": {
    "name": "ipython",
    "version": 2
   },
   "file_extension": ".py",
   "mimetype": "text/x-python",
   "name": "python",
   "nbconvert_exporter": "python",
   "pygments_lexer": "ipython2",
   "version": "2.7.6"
  }
 },
 "nbformat": 4,
 "nbformat_minor": 5
}
