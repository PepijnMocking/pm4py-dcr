{
 "cells": [
  {
   "cell_type": "code",
   "source": [
    "%load_ext autoreload\n",
    "%autoreload 2\n",
    "import os\n",
    "print(os.getcwd())\n",
    "os.chdir('/home/vco/Projects/pm4py-dcr2tapn/')\n",
    "print(os.getcwd())"
   ],
   "metadata": {
    "collapsed": false,
    "ExecuteTime": {
     "end_time": "2024-08-18T06:56:54.391507Z",
     "start_time": "2024-08-18T06:56:54.363408Z"
    }
   },
   "id": "8836997c4668cc8b",
   "outputs": [
    {
     "name": "stdout",
     "output_type": "stream",
     "text": [
      "/home/vco/Projects/pm4py-dcr2tapn/notebooks_projects\n",
      "/home/vco/Projects/pm4py-dcr2tapn\n"
     ]
    }
   ],
   "execution_count": 1
  },
  {
   "metadata": {
    "ExecuteTime": {
     "end_time": "2024-08-18T06:56:55.182020Z",
     "start_time": "2024-08-18T06:56:54.500955Z"
    }
   },
   "cell_type": "code",
   "source": [
    "import pandas as pd\n",
    "pd.set_option('display.max_columns', None)\n",
    "import numpy as np\n",
    "from copy import deepcopy\n",
    "from pm4py.objects.dcr.obj import dcr_template\n",
    "from pm4py.objects.dcr.importer import importer as dcr_importer\n",
    "from pm4py.objects.dcr.exporter import exporter as dcr_exporter\n",
    "from pm4py.objects.dcr.utils.utils import nested_groups_and_sps_to_flat_dcr"
   ],
   "id": "62e7719bef7469bf",
   "outputs": [],
   "execution_count": 2
  },
  {
   "metadata": {},
   "cell_type": "code",
   "source": [
    "# from pm4py.objects.conversion.dcr_apt.variants.to_inhibitor_net import Dcr2PetriNet\n",
    "# example = 'models/RunningExampleTAPNMilestone.xml'\n",
    "# dcr_dict = dcr_importer.apply(example,parameters={'as_dcr_object':True,'labels_as_ids':True})\n",
    "# # dcr_dict = nested_groups_and_sps_to_flat_dcr(dcr_dict)\n",
    "# # dcr_exporter.apply(dcr_dict, 'models/debug_exported.xml')\n",
    "# dcr_dict = dcr_dict.obj_to_template()\n",
    "# d2p = Dcr2PetriNet(debug=True,preoptimize=True, postoptimize=True)\n",
    "# net, marking, master_df = d2p.apply(dcr_dict,tapn_path='models/deadlock-pass.tapn')"
   ],
   "id": "17402943ff7dcc78",
   "outputs": [],
   "execution_count": null
  },
  {
   "metadata": {
    "ExecuteTime": {
     "end_time": "2024-08-18T10:38:40.342920Z",
     "start_time": "2024-08-18T10:38:40.075195Z"
    }
   },
   "cell_type": "code",
   "source": [
    "from pm4py.objects.conversion.dcr_apt.variants.to_timed_arc_petri_net import Dcr2TimedArcPetri\n",
    "\n",
    "example = 'models/debug.xml'\n",
    "dcr_dict = dcr_importer.apply(example,parameters={'as_dcr_object':True,'labels_as_ids':True})\n",
    "dcr_dict = dcr_dict.obj_to_template()\n",
    "dcr2tapn = Dcr2TimedArcPetri(debug=False,preoptimize=True, postoptimize=False)\n",
    "tapn, m, master_df = dcr2tapn.apply(dcr_dict,tapn_path='models/debug.tapn')\n",
    "master_df"
   ],
   "id": "19aca9fe15e4612f",
   "outputs": [
    {
     "name": "stdout",
     "output_type": "stream",
     "text": [
      "frozenset({'excludesTo', 'responseTo'})\n"
     ]
    },
    {
     "data": {
      "text/plain": [
       "     B                 A\n",
       "    In Re_inf Rex_inf No\n",
       "B 0  3      4       0  0\n",
       "  1  3      2       0  0\n",
       "A 0  2      4       1  0\n",
       "  1  2      2       1  0\n",
       "  2  2      0       1  0\n",
       "  3  4      0       5  0\n",
       "  4  4      0       1  0\n",
       "  5  4      0       3  0"
      ],
      "text/html": [
       "<div>\n",
       "<style scoped>\n",
       "    .dataframe tbody tr th:only-of-type {\n",
       "        vertical-align: middle;\n",
       "    }\n",
       "\n",
       "    .dataframe tbody tr th {\n",
       "        vertical-align: top;\n",
       "    }\n",
       "\n",
       "    .dataframe thead tr th {\n",
       "        text-align: left;\n",
       "    }\n",
       "</style>\n",
       "<table border=\"1\" class=\"dataframe\">\n",
       "  <thead>\n",
       "    <tr>\n",
       "      <th></th>\n",
       "      <th></th>\n",
       "      <th colspan=\"3\" halign=\"left\">B</th>\n",
       "      <th>A</th>\n",
       "    </tr>\n",
       "    <tr>\n",
       "      <th></th>\n",
       "      <th></th>\n",
       "      <th>In</th>\n",
       "      <th>Re_inf</th>\n",
       "      <th>Rex_inf</th>\n",
       "      <th>No</th>\n",
       "    </tr>\n",
       "  </thead>\n",
       "  <tbody>\n",
       "    <tr>\n",
       "      <th rowspan=\"2\" valign=\"top\">B</th>\n",
       "      <th>0</th>\n",
       "      <td>3</td>\n",
       "      <td>4</td>\n",
       "      <td>0</td>\n",
       "      <td>0</td>\n",
       "    </tr>\n",
       "    <tr>\n",
       "      <th>1</th>\n",
       "      <td>3</td>\n",
       "      <td>2</td>\n",
       "      <td>0</td>\n",
       "      <td>0</td>\n",
       "    </tr>\n",
       "    <tr>\n",
       "      <th rowspan=\"6\" valign=\"top\">A</th>\n",
       "      <th>0</th>\n",
       "      <td>2</td>\n",
       "      <td>4</td>\n",
       "      <td>1</td>\n",
       "      <td>0</td>\n",
       "    </tr>\n",
       "    <tr>\n",
       "      <th>1</th>\n",
       "      <td>2</td>\n",
       "      <td>2</td>\n",
       "      <td>1</td>\n",
       "      <td>0</td>\n",
       "    </tr>\n",
       "    <tr>\n",
       "      <th>2</th>\n",
       "      <td>2</td>\n",
       "      <td>0</td>\n",
       "      <td>1</td>\n",
       "      <td>0</td>\n",
       "    </tr>\n",
       "    <tr>\n",
       "      <th>3</th>\n",
       "      <td>4</td>\n",
       "      <td>0</td>\n",
       "      <td>5</td>\n",
       "      <td>0</td>\n",
       "    </tr>\n",
       "    <tr>\n",
       "      <th>4</th>\n",
       "      <td>4</td>\n",
       "      <td>0</td>\n",
       "      <td>1</td>\n",
       "      <td>0</td>\n",
       "    </tr>\n",
       "    <tr>\n",
       "      <th>5</th>\n",
       "      <td>4</td>\n",
       "      <td>0</td>\n",
       "      <td>3</td>\n",
       "      <td>0</td>\n",
       "    </tr>\n",
       "  </tbody>\n",
       "</table>\n",
       "</div>"
      ]
     },
     "execution_count": 57,
     "metadata": {},
     "output_type": "execute_result"
    }
   ],
   "execution_count": 57
  },
  {
   "metadata": {
    "ExecuteTime": {
     "end_time": "2024-08-18T08:44:58.373417Z",
     "start_time": "2024-08-18T08:44:58.357754Z"
    }
   },
   "cell_type": "code",
   "source": "dcr_dict",
   "id": "c58b7bd0ebbc55a5",
   "outputs": [
    {
     "data": {
      "text/plain": [
       "{'events': {'A', 'B'},\n",
       " 'conditionsFor': {},\n",
       " 'milestonesFor': {'A': set()},\n",
       " 'responseTo': {},\n",
       " 'noResponseTo': {},\n",
       " 'includesTo': {},\n",
       " 'excludesTo': {'A': set()},\n",
       " 'marking': {'executed': set(),\n",
       "  'included': {'A', 'B'},\n",
       "  'pending': {'B'},\n",
       "  'executedTime': {},\n",
       "  'pendingDeadline': {}},\n",
       " 'conditionsForDelays': {},\n",
       " 'responseToDeadlines': {},\n",
       " 'subprocesses': {},\n",
       " 'nestedgroups': {},\n",
       " 'nestedgroupsMap': {},\n",
       " 'labels': set(),\n",
       " 'labelMapping': {},\n",
       " 'roles': set(),\n",
       " 'principals': set(),\n",
       " 'roleAssignments': {},\n",
       " 'readRoleAssignments': {},\n",
       " 'principalsAssignments': {},\n",
       " 'principalsAssignment': {}}"
      ]
     },
     "execution_count": 55,
     "metadata": {},
     "output_type": "execute_result"
    }
   ],
   "execution_count": 55
  },
  {
   "metadata": {
    "ExecuteTime": {
     "end_time": "2024-08-18T06:57:49.888083Z",
     "start_time": "2024-08-18T06:57:49.866308Z"
    }
   },
   "cell_type": "code",
   "source": [
    "from pm4py.objects.conversion.dcr_apt.variants.to_timed_arc_petri_net_submodules import timed_exceptional_cases, timed_preoptimizer\n",
    "from pm4py.objects.conversion.dcr_apt.variants.to_timed_arc_petri_net import Dcr2TimedArcPetri"
   ],
   "id": "e99f3b28e947c4f7",
   "outputs": [],
   "execution_count": 4
  },
  {
   "metadata": {
    "ExecuteTime": {
     "end_time": "2024-08-18T07:00:55.714302Z",
     "start_time": "2024-08-18T07:00:55.692015Z"
    }
   },
   "cell_type": "code",
   "source": [
    "G = deepcopy(dcr_template)\n",
    "G['events'] = {'A','B'}\n",
    "G['marking']['included'] = {'A', 'B'}\n",
    "G['milestonesFor']['A'] = {'B'}\n",
    "G['responseTo']['A'] = {'B'}\n",
    "dcr2tapn = Dcr2TimedArcPetri(debug=False,preoptimize=True, postoptimize=False)\n",
    "dcr2tapn.timed = True\n",
    "dcr2tapn.initialize_helper_struct(G)\n",
    "dcr2tapn.mapping_exceptions = timed_exceptional_cases.TimedExceptionalCases(dcr2tapn.event_to_deadline_map)\n",
    "dcr2tapn.preoptimizer = timed_preoptimizer.TimedPreoptimizer()\n",
    "G = dcr2tapn.preoptimizer.remove_un_executable_events_from_dcr(G)\n",
    "dcr2tapn.preoptimizer.preoptimize_based_on_exceptional_cases(G, dcr2tapn.mapping_exceptions)\n",
    "master_df, marking = dcr2tapn.map_events(G)\n",
    "master_df = dcr2tapn.mapping_exceptions.map_exceptional_cases_between_events(master_df)\n",
    "G"
   ],
   "id": "bd3a5e72e17bd8b1",
   "outputs": [
    {
     "data": {
      "text/plain": [
       "{'events': {'A', 'B'},\n",
       " 'conditionsFor': {},\n",
       " 'milestonesFor': {'B': {'A'}},\n",
       " 'responseTo': {'A': {'B'}},\n",
       " 'noResponseTo': {},\n",
       " 'includesTo': {},\n",
       " 'excludesTo': {},\n",
       " 'marking': {'executed': set(),\n",
       "  'included': {'A', 'B'},\n",
       "  'pending': set(),\n",
       "  'executedTime': {},\n",
       "  'pendingDeadline': {}},\n",
       " 'conditionsForDelays': {},\n",
       " 'responseToDeadlines': {},\n",
       " 'subprocesses': {},\n",
       " 'nestedgroups': {},\n",
       " 'nestedgroupsMap': {},\n",
       " 'labels': set(),\n",
       " 'labelMapping': {},\n",
       " 'roles': set(),\n",
       " 'principals': set(),\n",
       " 'roleAssignments': {},\n",
       " 'readRoleAssignments': {},\n",
       " 'principalsAssignments': {}}"
      ]
     },
     "execution_count": 9,
     "metadata": {},
     "output_type": "execute_result"
    }
   ],
   "execution_count": 9
  },
  {
   "metadata": {},
   "cell_type": "code",
   "source": [
    "# Function to copy rows of a specified event key n times\n",
    "def copy_event_rows(src, trg, master_df, relation_table):\n",
    "    needed_columns = master_df.loc[src][trg].columns\n",
    "    needed_cases = relation_table[needed_columns]\n",
    "    n = len(needed_cases)\n",
    "    m = len(master_df.loc[src])\n",
    "    repeated_df = pd.DataFrame(np.tile(master_df.loc[src], (n, 1)), columns=master_df.columns, index=pd.MultiIndex.from_product([[src], [i for i in range(n * m)]]))\n",
    "    repeated_relation_df = pd.DataFrame(np.repeat(needed_cases, m, axis=0), columns=needed_cases.columns,\n",
    "                                        index=pd.MultiIndex.from_product([[src], [i for i in range(n * m)]]))\n",
    "\n",
    "    repeated_df.iloc[:, repeated_df.columns.get_level_values(0) == trg] = repeated_relation_df\n",
    "    master_df = master_df.drop(src, level=0)\n",
    "    master_df = pd.concat([master_df, repeated_df])\n",
    "    return master_df\n",
    "\n",
    "\n",
    "def prepare_timed_case(event_place, case, case_others, copy_to_all_index, copy_pairwise_index, event_to_deadline):\n",
    "    pend_place = f'Re_{event_place}'\n",
    "    pend_others = [f'Re_{v}' for k, v in event_to_deadline.items()]\n",
    "    pend_others.remove(pend_place)\n",
    "    pend_excl_place = f'Rex_{event_place}'\n",
    "    pend_excl_others = [f'Rex_{v}' for k, v in event_to_deadline.items()]\n",
    "    pend_excl_others.remove(pend_excl_place)\n",
    "    case = case.rename({'Re': pend_place, 'Rex': pend_excl_place}, axis='columns')\n",
    "    x = len(pend_others)\n",
    "    cols = pend_others\n",
    "    cols.extend(pend_excl_others)\n",
    "    case_all = pd.DataFrame(np.repeat(case_others.loc[copy_to_all_index], x, axis=1), index=copy_to_all_index, columns=cols)\n",
    "    mat = case_others.loc[copy_pairwise_index].to_numpy()\n",
    "    idx = deepcopy(copy_pairwise_index)\n",
    "    idx.extend(copy_pairwise_index)\n",
    "    ar = np.zeros([s * x for s in mat.shape], mat.dtype)\n",
    "    for i in range(x):\n",
    "        ar[i::x, i::x] = mat\n",
    "    case_pairwise = pd.DataFrame(ar, columns=cols, index=idx)\n",
    "\n",
    "    case = pd.concat([case, case_all], axis=1).fillna(0)\n",
    "    case = case.astype(int)\n",
    "    case = pd.concat([case, case.loc[copy_pairwise_index * (x - 1)]])\n",
    "    case_pairwise = case_pairwise.sort_index()\n",
    "    case.loc[copy_pairwise_index, case_pairwise.columns] = case_pairwise\n",
    "    return case"
   ],
   "id": "d00019a24c0d29d",
   "outputs": [],
   "execution_count": null
  },
  {
   "metadata": {},
   "cell_type": "code",
   "source": [
    "event = 'D'\n",
    "event_prime = 'B'\n",
    "case = pd.DataFrame([[3,0,0,0],\n",
    "                     [5,0,6,7],\n",
    "                     [5,0,0,4]], columns=['In', 'Ex', 'Re', 'Rex'])\n",
    "case_others = pd.DataFrame([[0,4]],index=[3],columns=['Re','Rex'])\n",
    "copy_to_all_index = [1]\n",
    "needed_columns = master_df.loc[event][event_prime].columns\n",
    "\n",
    "# needed_columns = [c.split('_')[0] for c in needed_columns]\n",
    "# needed_columns = set([c.split('_')[0] if '_' in c else c for c in needed_columns])\n",
    "\n",
    "if 'Re' not in needed_columns and 'Rex' not in needed_columns:\n",
    "    case = case.drop(index=[1])"
   ],
   "id": "eb197ebc5f794474",
   "outputs": [],
   "execution_count": null
  },
  {
   "metadata": {},
   "cell_type": "code",
   "source": "copy_event_rows(event, event_prime, master_df, case)",
   "id": "56234f8978955e25",
   "outputs": [],
   "execution_count": null
  },
  {
   "metadata": {},
   "cell_type": "code",
   "source": [
    "event = 'A'\n",
    "event_prime = 'B'\n",
    "\n",
    "case = pd.DataFrame([[3, 0, 5, 0],\n",
    "                     [3, 0, 1, 0],\n",
    "                     [3, 0, 3, 0],\n",
    "                     [4, 0, 0, 5],\n",
    "                     [4, 0, 0, 1],\n",
    "                     [4, 0, 0, 3]], columns=['In', 'Ex', 'Re', 'Rex'])\n",
    "case_others = pd.DataFrame([[4, 0],\n",
    "                            [2, 0],\n",
    "                            [0, 4],\n",
    "                            [0, 2]],index=[0,1,3,4],columns=['Re','Rex'])\n",
    "copy_to_all_index = [0,3]\n",
    "copy_pairwise_index = [1,4]\n",
    "\n",
    "needed_columns = master_df.loc[event][event_prime].columns\n",
    "needed_columns = set([c.split('_')[0] if '_' in c else c for c in needed_columns])\n",
    "if 'Re' not in needed_columns:\n",
    "    case = case.drop(index=[0,1,2])\n",
    "    case_others = case_others.drop(index=[0,1])\n",
    "    copy_to_all_index.remove(0)\n",
    "    copy_pairwise_index.remove(1)\n",
    "if 'In' not in needed_columns and 'Rex' not in needed_columns:\n",
    "    case = case.drop(index=[3,4,5])\n",
    "    case_others = case_others.drop(index=[3,4])\n",
    "    copy_to_all_index.remove(3)\n",
    "    copy_pairwise_index.remove(4)\n",
    "\n",
    "def prepare_timed_case(event, event_prime, case):\n",
    "    event_place =  event_to_deadline_map[event_prime][event]\n",
    "    pend_place = f'Re_{event_place}'\n",
    "    pend_others = [f'Re_{v}' for k,v in event_to_deadline_map[event_prime].items()]\n",
    "    pend_others.remove(pend_place)\n",
    "    pend_excl_place = f'Rex_{event_place}'\n",
    "    pend_excl_others = [f'Rex_{v}' for k,v in event_to_deadline_map[event_prime].items()]\n",
    "    pend_excl_others.remove(pend_excl_place)\n",
    "    case = case.rename({'Re': pend_place,'Rex': pend_excl_place}, axis='columns')\n",
    "    x = len(pend_others)\n",
    "    cols = pend_others\n",
    "    cols.extend(pend_excl_others)\n",
    "    case_all = pd.DataFrame(np.repeat(case_others.loc[copy_to_all_index], x,axis=1),index=copy_to_all_index,columns=cols)\n",
    "    mat = case_others.loc[copy_pairwise_index].to_numpy()\n",
    "    idx = deepcopy(copy_pairwise_index)\n",
    "    idx.extend(copy_pairwise_index)\n",
    "    ar = np.zeros([s * x for s in mat.shape], mat.dtype)\n",
    "    for i in range(x):\n",
    "        ar[i::x, i::x] = mat\n",
    "    case_pairwise = pd.DataFrame(ar,columns=cols,index=idx)\n",
    "    \n",
    "    case = pd.concat([case,case_all],axis=1).fillna(0)\n",
    "    case = case.astype(int)\n",
    "    case = pd.concat([case,case.loc[copy_pairwise_index*(x-1)]])\n",
    "    case_pairwise = case_pairwise.sort_index()\n",
    "    case.loc[copy_pairwise_index, case_pairwise.columns] = case_pairwise\n",
    "    return case\n",
    "copy_event_rows(event, event_prime, master_df, case)"
   ],
   "id": "bba2c535391defc1",
   "outputs": [],
   "execution_count": null
  },
  {
   "metadata": {},
   "cell_type": "code",
   "source": "",
   "id": "1d9343dd3763638d",
   "outputs": [],
   "execution_count": null
  },
  {
   "metadata": {},
   "cell_type": "code",
   "source": "",
   "id": "3831700f045e16f0",
   "outputs": [],
   "execution_count": null
  },
  {
   "metadata": {},
   "cell_type": "code",
   "source": "",
   "id": "14ee0be53d08f1ff",
   "outputs": [],
   "execution_count": null
  },
  {
   "metadata": {},
   "cell_type": "code",
   "source": "",
   "id": "df0872f40aeb0413",
   "outputs": [],
   "execution_count": null
  },
  {
   "metadata": {},
   "cell_type": "code",
   "source": "",
   "id": "81065ad64dfb8403",
   "outputs": [],
   "execution_count": null
  },
  {
   "metadata": {},
   "cell_type": "code",
   "source": "",
   "id": "306205941f2bf9b",
   "outputs": [],
   "execution_count": null
  },
  {
   "metadata": {},
   "cell_type": "code",
   "source": "",
   "id": "8f7ddfa233ffad6d",
   "outputs": [],
   "execution_count": null
  },
  {
   "metadata": {},
   "cell_type": "code",
   "source": "",
   "id": "379138252fbca027",
   "outputs": [],
   "execution_count": null
  },
  {
   "metadata": {},
   "cell_type": "code",
   "source": "",
   "id": "8bea5e714b586a0b",
   "outputs": [],
   "execution_count": null
  },
  {
   "metadata": {},
   "cell_type": "code",
   "source": "",
   "id": "ccef9857a9e67246",
   "outputs": [],
   "execution_count": null
  },
  {
   "metadata": {},
   "cell_type": "code",
   "source": "",
   "id": "22f4e6ee7bc5f52a",
   "outputs": [],
   "execution_count": null
  },
  {
   "metadata": {},
   "cell_type": "code",
   "source": "",
   "id": "304f668f2d79f4aa",
   "outputs": [],
   "execution_count": null
  },
  {
   "metadata": {},
   "cell_type": "code",
   "source": "",
   "id": "565a4ac9cda9100c",
   "outputs": [],
   "execution_count": null
  },
  {
   "metadata": {},
   "cell_type": "code",
   "source": "",
   "id": "1e5c0bfad344be5c",
   "outputs": [],
   "execution_count": null
  },
  {
   "metadata": {},
   "cell_type": "code",
   "source": [
    "base_case = pd.DataFrame([[3, 3, 4, 0],\n",
    "                       [3, 5, 4, 0],\n",
    "                       [3, 5, 2, 0],\n",
    "                       [3, 3, 2, 0]], columns=['In', 'Ex', 'Re', 'Rex'],dtype=int)\n",
    "n = 3\n",
    "rows = []\n",
    "col_vals = [[] for i in range(n)]\n",
    "for i in range(n):\n",
    "    rows.extend([2,3])\n",
    "    base_case[f'Re{i}'] = base_case['Re']\n",
    "    for k in range(n):\n",
    "        if k == i:\n",
    "            col_vals[i].extend([2,2])\n",
    "        else:\n",
    "            col_vals[i].extend([0,0])\n",
    "rrrr= [0,1]\n",
    "rrrr.extend(rows)\n",
    "new_bc = base_case.loc[rrrr]\n",
    "new_bc = new_bc.reset_index(drop=True)\n",
    "new_bc = new_bc.astype(int)\n",
    "col_vals_df = pd.DataFrame(col_vals,dtype=int).T\n",
    "col_vals_df.columns = ['Re0','Re1','Re2']\n",
    "col_vals_df.index = col_vals_df.index + 2\n",
    "new_bc.loc[2:,['Re0','Re1','Re2']] = col_vals_df\n",
    "base_case_rows = set(new_bc.index)"
   ],
   "id": "2d347de9355b2d1f",
   "outputs": [],
   "execution_count": null
  },
  {
   "metadata": {},
   "cell_type": "code",
   "source": "new_bc.iloc[2::2]",
   "id": "be4e63d1e472bbe4",
   "outputs": [],
   "execution_count": null
  },
  {
   "metadata": {},
   "cell_type": "code",
   "source": "new_bc",
   "id": "f0500eb6de989b2a",
   "outputs": [],
   "execution_count": null
  },
  {
   "metadata": {},
   "cell_type": "code",
   "source": [
    "n = len(base_case_rows)\n",
    "[i for i in range(3,n,2)]"
   ],
   "id": "7b83e0f23d226258",
   "outputs": [],
   "execution_count": null
  },
  {
   "metadata": {},
   "cell_type": "code",
   "source": "new_bc.iloc[3::2]",
   "id": "7798bc147db51fc6",
   "outputs": [],
   "execution_count": null
  },
  {
   "metadata": {},
   "cell_type": "code",
   "source": [
    "if self.preoptimize:\n",
    "    # this tells which rows to create in the base case: 0 = event, 1 = init, 2 = initpend, 3 = pend\n",
    "    base_case_rows = {0}\n",
    "    if default_make_exec and event not in G['marking']['executed'] and event not in self.preoptimizer.no_init_t:\n",
    "        base_case_rows.add(1)\n",
    "    if default_make_exec and default_make_pend and event not in self.preoptimizer.no_initpend_t:\n",
    "        # add all even rows >= 2\n",
    "        base_case_rows.add(2)\n",
    "    if default_make_pend:\n",
    "        # add all odd rows >= 3\n",
    "        base_case_rows.add(3)"
   ],
   "id": "8850917d0d20528a",
   "outputs": [],
   "execution_count": null
  },
  {
   "metadata": {},
   "cell_type": "code",
   "source": [
    "from pm4py.objects.petri_net.utils import petri_utils as pn_utils\n",
    "from pm4py.objects.petri_net.obj import InhibitorNet, Marking"
   ],
   "id": "64fb88e82a879dd6",
   "outputs": [],
   "execution_count": null
  },
  {
   "metadata": {},
   "cell_type": "code",
   "source": [
    "res_pn = InhibitorNet(name='Petri Net from Dcr')\n",
    "res_m = Marking()\n",
    "p_dict = {}\n",
    "for event, place_type in master_df.columns:\n",
    "    if place_type != 'No':\n",
    "        p = InhibitorNet.Place(name=f'{event}_{place_type}')\n",
    "        p_dict[(event, place_type)] = p\n",
    "        res_pn.places.add(p)\n",
    "        if place_type in marking[event]:\n",
    "            res_m[p] = marking[event][place_type]\n",
    "for event, idx in master_df.index:\n",
    "    t = InhibitorNet.Transition(name=f'{event}_{idx}',label=f'{event}_{idx}_label')\n",
    "    res_pn.transitions.add(t)\n",
    "    for (event_prime,place_type), arc_type in dict(master_df.loc[(event,idx)]).items():\n",
    "        if arc_type > 0:\n",
    "            match arc_type:\n",
    "                case 1: # TtoP -->\n",
    "                    pn_utils.add_arc_from_to(t, p_dict[(event_prime, place_type)],res_pn)\n",
    "                case 2: # PtoT <--\n",
    "                    pn_utils.add_arc_from_to(p_dict[(event_prime, place_type)],t,res_pn)\n",
    "                case 3: # Read Both <-->\n",
    "                    pn_utils.add_arc_from_to(p_dict[(event_prime, place_type)],t,res_pn)\n",
    "                    pn_utils.add_arc_from_to(t, p_dict[(event_prime, place_type)],res_pn)\n",
    "                case 4: # Inhib o--\n",
    "                    pn_utils.add_arc_from_to(p_dict[(event_prime, place_type)],t,res_pn,type='inhibitor')\n",
    "                case 5: # TtoPandInhib o-->\n",
    "                    pn_utils.add_arc_from_to(t, p_dict[(event_prime, place_type)],res_pn)\n",
    "                    pn_utils.add_arc_from_to(p_dict[(event_prime, place_type)],t,res_pn,type='inhibitor')"
   ],
   "id": "48af314bc205b848",
   "outputs": [],
   "execution_count": null
  },
  {
   "metadata": {},
   "cell_type": "code",
   "source": [
    "include_case = pd.DataFrame([[3, 0, 0, 0],\n",
    "                              [5, 0, 1, 2],\n",
    "                              [5, 0, 0, 4]], columns=['In', 'Ex', 'Re', 'Rex'])\n",
    "src = 'open'\n",
    "trg = 'leave1'\n",
    "needed_columns = master_df.loc[src][trg].columns\n",
    "needed_include_cases = include_case[needed_columns]\n",
    "n = len(needed_include_cases)\n",
    "m = len(master_df.loc[src])\n",
    "repeated_df = pd.DataFrame(np.tile(master_df.loc[src],(n,1)),columns = master_df.columns,index=pd.MultiIndex.from_product([[src],[i for i in range(n*m)]]))\n",
    "repeated_relation_df = pd.DataFrame(np.repeat(needed_include_cases,m,axis=0),columns = needed_include_cases.columns,index=pd.MultiIndex.from_product([[src],[i for i in range(n*m)]]))\n",
    "repeated_df.iloc[:,repeated_df.columns.get_level_values(0)==trg] = repeated_relation_df\n",
    "master_df = master_df.drop(src, level=0)\n",
    "master_df = pd.concat([master_df,repeated_df])"
   ],
   "id": "a48689118050f2f5",
   "outputs": [],
   "execution_count": null
  },
  {
   "metadata": {},
   "cell_type": "code",
   "source": "backup = deepcopy(master_df)",
   "id": "cd18e933cd850c11",
   "outputs": [],
   "execution_count": null
  },
  {
   "metadata": {},
   "cell_type": "code",
   "source": [
    "# self exception cases: These replace the base case.\n",
    "# this is handled differently now\n",
    "# self_include = base_case\n",
    "self_exclude = pd.DataFrame([[2,3,4,0],\n",
    "                             [2,5,4,0],\n",
    "                             [2,5,2,0],\n",
    "                             [2,3,2,0]], columns=['In','Ex','Re','Rex'])\n",
    "self_response = pd.DataFrame([[3,3,5,0],\n",
    "                              [3,5,5,0],\n",
    "                              [3,5,3,0],\n",
    "                              [3,3,3,0]], columns=['In','Ex','Re','Rex'])\n",
    "self_condition = pd.DataFrame([[3,3,4,0],\n",
    "                               [3,3,2,0]], columns=['In','Ex','Re','Rex'])\n",
    "self_response_exclude = pd.DataFrame([[2,3,4,1],\n",
    "                                      [2,5,4,1],\n",
    "                                      [2,5,2,1],\n",
    "                                      [2,3,2,1]], columns=['In','Ex','Re','Rex'])\n",
    "\n",
    "def update_event_base_case_to_self_exception(base_case, event, self_exceptions):\n",
    "    event_base_case = deepcopy(base_case)\n",
    "    \n",
    "    return event_base_case"
   ],
   "id": "e4d966729380b828",
   "outputs": [],
   "execution_count": null
  },
  {
   "metadata": {},
   "cell_type": "code",
   "source": [
    "# Step 1: Arc pattern tables\n",
    "# base case\n",
    "# row index meaning: 0 = event, 1 = init, 2 = initpend, 3 = pend\n",
    "base_case = pd.DataFrame([[3,3,4,0],\n",
    "                          [3,5,4,0],\n",
    "                          [3,5,2,0],\n",
    "                          [3,3,2,0]], columns=['In','Ex','Re','Rex'])\n",
    "# core dcr 4 relations\n",
    "include_case = pd.DataFrame([[3,0,0,0],\n",
    "                             [5,0,1,2],\n",
    "                             [5,0,0,4]],columns=['In','Ex','Re','Rex'])\n",
    "exclude_case = pd.DataFrame([[4,0,0,0],\n",
    "                             [2,0,4,0],\n",
    "                             [2,0,2,1]],columns=['In','Ex','Re','Rex'])\n",
    "response_case = pd.DataFrame([[3,0,5,0],\n",
    "                             [3,0,3,2],\n",
    "                             [4,0,0,5],\n",
    "                             [4,0,0,3]],columns=['In','Ex','Re','Rex'])\n",
    "condition_case = pd.DataFrame([[3,3,0,0]],columns=['In','Ex','Re','Rex'])\n",
    "# relation exception cases\n",
    "condition_include_case = pd.DataFrame([[3,3,0,0],\n",
    "                                       [5,4,1,2],\n",
    "                                       [5,4,0,4],\n",
    "                                       [5,3,1,2],\n",
    "                                       [5,3,0,4]],columns=['In','Ex','Re','Rex'])\n",
    "condition_exclude_case = pd.DataFrame([[2,3,4,0],\n",
    "                                       [2,3,2,1],\n",
    "                                       [4,4,0,0],\n",
    "                                       [4,3,0,0]],columns=['In','Ex','Re','Rex'])\n",
    "condition_response_case = pd.DataFrame([[3,3,5,0],\n",
    "                                        [3,3,3,0],\n",
    "                                        [4,4,0,5],\n",
    "                                        [4,4,0,3],\n",
    "                                        [4,3,0,5],\n",
    "                                        [4,3,0,3]],columns=['In','Ex','Re','Rex'])\n",
    "response_include_case = pd.DataFrame([[3,0,5,0],\n",
    "                                      [3,0,3,0],\n",
    "                                      [5,0,5,4],\n",
    "                                      [5,0,1,2]],columns=['In','Ex','Re','Rex'])\n",
    "response_exclude_case = pd.DataFrame([[2,0,4,1],\n",
    "                                      [2,0,2,1],\n",
    "                                      [4,0,0,5],\n",
    "                                      [4,0,0,3]],columns=['In','Ex','Re','Rex'])\n",
    "condition_response_include_case = pd.DataFrame([[3,3,5,0],\n",
    "                                                [3,3,3,0],\n",
    "                                                [5,4,1,2],\n",
    "                                                [5,4,5,4],\n",
    "                                                [5,3,1,2],\n",
    "                                                [5,3,5,4]],columns=['In','Ex','Re','Rex'])\n",
    "condition_response_exclude_case = pd.DataFrame([[2,3,4,1],\n",
    "                                                [2,3,2,1],\n",
    "                                                [4,4,0,5],\n",
    "                                                [4,4,0,3],\n",
    "                                                [4,3,0,5],\n",
    "                                                [4,3,0,3]],columns=['In','Ex','Re','Rex'])\n",
    "# extended dcr with no response and milestones\n",
    "noresponse_case = pd.DataFrame([[3,0,0,0],\n",
    "                             [5,0,1,2],\n",
    "                             [5,0,0,4]],columns=['In','Ex','Re','Rex'])\n",
    "milestone_case = pd.DataFrame([[3,0,0,0],\n",
    "                             [5,0,1,2],\n",
    "                             [5,0,0,4]],columns=['In','Ex','Re','Rex'])\n",
    "# Step 2: Create a dictionary of small dataframes\n",
    "events = ['A','B','C','D']\n",
    "base_case_dict = {}\n",
    "for event in events:\n",
    "    base_case_dict[event] = deepcopy(base_case)\n",
    "\n",
    "# Step 3: Create a multilevel column index for each dataframe\n",
    "for event in base_case_dict:\n",
    "    base_case_dict[event].columns = pd.MultiIndex.from_product([[event], base_case_dict[event].columns])\n",
    "\n",
    "# Step 4: Determine the padding and shift indices\n",
    "max_length = len(base_case)\n",
    "padded_dfs = []\n",
    "\n",
    "for i, event in enumerate(events):\n",
    "    shifted_df = base_case_dict[event]\n",
    "    shifted_df.index = shifted_df.index + i * max_length\n",
    "    \n",
    "    # Pad the dataframe with zeros\n",
    "    padded_df = shifted_df.reindex(range(len(events) * max_length), fill_value=0)\n",
    "    padded_dfs.append(padded_df)\n",
    "\n",
    "# Step 5: Concatenate the dataframes and create a multi-index for rows\n",
    "master_df = pd.concat(padded_dfs, axis=1)\n",
    "\n",
    "# Create the multi-index for rows\n",
    "row_tuples = []\n",
    "for i, event in enumerate(events):\n",
    "    row_tuples.extend([(event, idx) for idx in range(max_length)])\n",
    "\n",
    "multi_index = pd.MultiIndex.from_tuples(row_tuples, names=[\"Event\", \"Index\"])\n",
    "master_df.index = multi_index\n",
    "# Function to copy rows of a specified event key n times\n",
    "def copy_event_rows(master_df, source_event_key, target_event_key, relation_table):\n",
    "    # Filter rows by event key using .loc\n",
    "    rows_for_event = master_df.loc[source_event_key]\n",
    "    n = len(relation_table.index)\n",
    "    # Repeat these rows n times\n",
    "    repeated_rows = pd.concat([rows_for_event] * n, ignore_index=True)\n",
    "    # Add the event key to the new index\n",
    "    new_index = pd.MultiIndex.from_product([[source_event_key], range(n * len(rows_for_event))], names=[\"Event\", \"Index\"])\n",
    "    repeated_rows.index = new_index\n",
    "    \n",
    "    j = int(len(repeated_rows.index)/n)\n",
    "    for i in range(n):\n",
    "        col_name = relation_table.columns\n",
    "    # for col_name in relation_table.columns.to_list():\n",
    "        row_index = list(range(i*j,(i+1)*j))\n",
    "        repeated_rows.loc[(source_event_key,row_index),(target_event_key,col_name)] = list(relation_table.loc[i,col_name])\n",
    "        i += 1\n",
    "    \n",
    "    return repeated_rows\n",
    "\n",
    "source_event_key = 'A'\n",
    "target_event_key = 'B'\n",
    "repeated_rows_df = copy_event_rows(master_df, source_event_key, target_event_key, include_case)\n",
    "\n",
    "# Remove the existing rows for the specified event key from the master_df\n",
    "master_df = master_df.drop(source_event_key)\n",
    "\n",
    "# Concatenate the repeated rows with the modified master_df\n",
    "master_df = pd.concat([master_df, repeated_rows_df]).sort_index(level=[\"Event\", \"Index\"])\n",
    "\n",
    "source_event_key = 'A'\n",
    "target_event_key = 'C'\n",
    "repeated_rows_df = copy_event_rows(master_df, source_event_key, target_event_key, exclude_case)\n",
    "\n",
    "# Remove the existing rows for the specified event key from the master_df\n",
    "master_df = master_df.drop(source_event_key)\n",
    "\n",
    "# Concatenate the repeated rows with the modified master_df\n",
    "master_df = pd.concat([master_df, repeated_rows_df]).sort_index(level=[\"Event\", \"Index\"])\n",
    "\n",
    "print(master_df)"
   ],
   "id": "c22cb838373da6f8",
   "outputs": [],
   "execution_count": null
  },
  {
   "metadata": {},
   "cell_type": "code",
   "source": "repeated_rows_df",
   "id": "748ea94f3266d63",
   "outputs": [],
   "execution_count": null
  },
  {
   "cell_type": "code",
   "source": [
    "from pm4py.objects.dcr.importer import importer as dcr_importer\n",
    "from pm4py.objects.dcr.utils.utils import nested_groups_and_sps_to_flat_dcr\n",
    "from pm4py.objects.conversion.dcr import converter as dcr_to_tapn\n",
    "from pm4py.vis import view_petri_net\n",
    "from pm4py.objects.dcr.obj import dcr_template\n",
    "from pm4py.objects.petri_net.utils import reachability_graph\n",
    "from pm4py.visualization.transition_system import visualizer as ts_visualizer\n",
    "from pm4py.objects.petri_net.timed_arc_net import semantics as tapn_semantics\n",
    "from pm4py.objects.petri_net.inhibitor_reset import semantics as in_semantics\n",
    "from pm4py.objects.petri_net.utils.petri_utils import remove_arc, remove_transition, remove_place, add_arc_from_to, pre_set, post_set, get_arc_type\n",
    "from pm4py.objects.petri_net.utils import reduction, murata\n",
    "from pm4py.objects.petri_net.exporter import exporter as pnml_exporter\n",
    "from pm4py.objects.petri_net import properties\n",
    "from copy import deepcopy\n",
    "from pm4py.objects.petri_net.timed_arc_net import semantics as tapn_semantics, obj as tapn_obj\n",
    "from pm4py.objects.petri_net.inhibitor_reset import semantics as inhib_semantics\n",
    "from pm4py.objects.petri_net.utils import petri_utils as pn_utils"
   ],
   "metadata": {
    "collapsed": false
   },
   "id": "9af256ba1c4bb010",
   "outputs": [],
   "execution_count": null
  },
  {
   "metadata": {},
   "cell_type": "code",
   "source": [
    "path = 'models/pula.xml'\n",
    "dcr_dict = dcr_importer.apply('models/pula.xml',parameters={'as_dcr_object':False,'labels_as_ids':True})"
   ],
   "id": "e560db4a206d0fd2",
   "outputs": [],
   "execution_count": null
  },
  {
   "metadata": {},
   "cell_type": "code",
   "source": "print(os.path.exists(path))  # This should return True if the file exists",
   "id": "3cc56add2c55e537",
   "outputs": [],
   "execution_count": null
  },
  {
   "cell_type": "code",
   "source": [
    "example = 'models/RunningExampleTAPNoriginal.xml'\n",
    "dcr_dict = dcr_importer.apply(example,parameters={'as_dcr_object':False,'labels_as_ids':True})\n",
    "dcr_dict\n",
    "net, m = dcr_to_tapn.apply(dcr_dict,variant=dcr_to_tapn.Variants.TO_TIMED_ARC_PETRI_NET, parameters={'preoptimize':True,\n",
    "                       'postoptimize':True,                                   'map_unexecutable_events':True,\n",
    "                        'debug':False,'tapn_path':'models/RunningExampleTAPNoriginal.tapn'})\n",
    "view_petri_net(net,m)"
   ],
   "metadata": {
    "collapsed": false
   },
   "id": "a4701cb83d1165c5",
   "outputs": [],
   "execution_count": null
  },
  {
   "cell_type": "code",
   "source": [
    "example = 'models/rail_example.xml'\n",
    "dcr_dict = dcr_importer.apply(example,parameters={'as_dcr_object':True,'labels_as_ids':True})\n",
    "nested_groups_and_sps_to_flat_dcr(dcr_dict)\n",
    "dcr_dict = dcr_dict.obj_to_template()\n",
    "tapn, m = dcr_to_tapn.apply(dcr_dict,variant=dcr_to_tapn.Variants.TO_TIMED_ARC_PETRI_NET, parameters={'preoptimize':True, 'postoptimize':True, 'map_unexecutable_events':False, 'debug':False,'tapn_path':'models/rail_example.tapn'})"
   ],
   "metadata": {
    "collapsed": false
   },
   "id": "7bbd537190ad17f2",
   "outputs": [],
   "execution_count": null
  },
  {
   "cell_type": "code",
   "source": [
    "example = 'models/rail_example_simpler.xml'\n",
    "dcr_dict = dcr_importer.apply(example,parameters={'as_dcr_object':True,'labels_as_ids':True})\n",
    "nested_groups_and_sps_to_flat_dcr(dcr_dict)\n",
    "dcr_dict = dcr_dict.obj_to_template()\n",
    "tapn, m = dcr_to_tapn.apply(dcr_dict,variant=dcr_to_tapn.Variants.TO_TIMED_ARC_PETRI_NET, parameters={'preoptimize':True, 'postoptimize':True, 'map_unexecutable_events':False, 'debug':False,'tapn_path':'models/rail_example_simpler.tapn'})"
   ],
   "metadata": {
    "collapsed": false
   },
   "id": "3fdbb89668335db0",
   "outputs": [],
   "execution_count": null
  },
  {
   "cell_type": "code",
   "source": [],
   "metadata": {
    "collapsed": false
   },
   "id": "c4c392d0eb1f58fc",
   "outputs": [],
   "execution_count": null
  },
  {
   "cell_type": "markdown",
   "source": [
    "# Irrelevant for now"
   ],
   "metadata": {
    "collapsed": false
   },
   "id": "63716dcbd0aaa15"
  },
  {
   "cell_type": "code",
   "source": [
    "net2, m2, _ = murata.apply_reduction(net,m,set())\n",
    "view_petri_net(net2,m2)"
   ],
   "metadata": {
    "collapsed": false
   },
   "id": "d44b1b139df44bb4",
   "outputs": [],
   "execution_count": null
  },
  {
   "cell_type": "code",
   "source": [
    "print(f'P: {len(net.places)} T: {len(net.transitions)} A: {len(net.arcs)}')\n",
    "print(f'P: {len(net2.places)} T: {len(net2.transitions)} A: {len(net2.arcs)}')"
   ],
   "metadata": {
    "collapsed": false
   },
   "id": "ed363e04f6685899",
   "outputs": [],
   "execution_count": null
  },
  {
   "cell_type": "code",
   "source": [
    "pnml_exporter.apply(net2,m2,'models/murata_net_example.tapn',variant=pnml_exporter.TAPN)"
   ],
   "metadata": {
    "collapsed": false
   },
   "id": "94c013a06b4a41f5",
   "outputs": [],
   "execution_count": null
  },
  {
   "cell_type": "code",
   "source": [
    "example = 'models/test4.xml'\n",
    "dcr_dict = dcr_importer.apply(example,parameters={'as_dcr_object':False,'labels_as_ids':True})\n",
    "# dcr_dict = nested_groups_and_sps_to_flat_dcr(dcr_dict)\n",
    "tapn, m = dcr_to_tapn.apply(dcr_dict,variant=dcr_to_tapn.Variants.TO_INHIBITOR_NET, parameters={'preoptimize':True,\n",
    "               'postoptimize':True,                                                                                  'map_unexecutable_events':False,\n",
    "                'debug':True, 'tapn_path':'models/test4_untimed.tapn'})"
   ],
   "metadata": {
    "collapsed": false
   },
   "id": "336bf8f6129c263d",
   "outputs": [],
   "execution_count": null
  },
  {
   "cell_type": "code",
   "source": [
    "trans_sys = reachability_graph.construct_reachability_graph(tapn, m, use_trans_name=True,\n",
    "parameters={'petri_semantics': tapn_semantics.TimedArcSemantics()})"
   ],
   "metadata": {
    "collapsed": false
   },
   "id": "4a94217854048edd",
   "outputs": [],
   "execution_count": null
  },
  {
   "cell_type": "code",
   "source": [
    "ts_visualizer.apply(trans_sys)"
   ],
   "metadata": {
    "collapsed": false
   },
   "id": "cd64b2436ade80fe",
   "outputs": [],
   "execution_count": null
  },
  {
   "cell_type": "code",
   "source": [
    "example = 'models/test4.xml'\n",
    "dcr_dict = dcr_importer.apply(example,parameters={'as_dcr_object':False,'labels_as_ids':True})\n",
    "# nested_groups_and_sps_to_flat_dcr(rail_dcr_labeled)\n",
    "# dcr_dict = rail_dcr_labeled.obj_to_template()\n",
    "tapn, m = dcr_to_tapn.apply(dcr_dict,variant=dcr_to_tapn.Variants.TO_TIMED_ARC_PETRI_NET, parameters={'preoptimize':True, 'postoptimize':True, 'map_unexecutable_events':False, 'debug':True,'tapn_path':'models/test4.tapn'})"
   ],
   "metadata": {
    "collapsed": false
   },
   "id": "39706e78688e209",
   "outputs": [],
   "execution_count": null
  },
  {
   "cell_type": "code",
   "source": [
    "import os\n",
    "print(os.getcwd())\n",
    "os.chdir('/home/vco/Projects/pm4py-dcr/')\n",
    "print(os.getcwd())\n",
    "from pm4py.objects.dcr.importer import importer as dcr_importer\n",
    "from pm4py.objects.conversion.dcr import converter as dcr_to_tapn\n",
    "example = 'models/rail_example.xml'\n",
    "dcr_dict = dcr_importer.apply(example,parameters={'as_dcr_object':False,'labels_as_ids':True})\n",
    "# nested_groups_and_sps_to_flat_dcr(rail_dcr_labeled)\n",
    "# dcr_dict = rail_dcr_labeled.obj_to_template()\n",
    "tapn, m = dcr_to_tapn.apply(dcr_dict,variant=dcr_to_tapn.Variants.TO_TIMED_ARC_PETRI_NET, parameters={'preoptimize':True, 'postoptimize':True, 'map_unexecutable_events':False, 'debug':True,'tapn_path':'models/rail_example.tapn'})"
   ],
   "metadata": {
    "collapsed": false
   },
   "id": "b427f92b43110112",
   "outputs": [],
   "execution_count": null
  },
  {
   "cell_type": "code",
   "source": [
    "tapn = tapn_obj.TimedArcNet()\n",
    "P0 = tapn.Place('P0',properties={properties.AGE_INVARIANT:10})\n",
    "P1 = tapn.Place('P1')\n",
    "T0 = tapn.Transition('T0')\n",
    "tapn.places.add(P0)\n",
    "tapn.places.add(P1)\n",
    "tapn.transitions.add(T0)\n",
    "a0 = pn_utils.add_arc_from_to(P0,T0,tapn,type=properties.TRANSPORT_ARC)\n",
    "a1 = pn_utils.add_arc_from_to(T0,P1,tapn,type=properties.TRANSPORT_ARC)\n",
    "a0.properties[properties.AGE_MIN] = 5\n",
    "a0.properties[properties.TRANSPORT_INDEX] = 0\n",
    "a1.properties[properties.TRANSPORT_INDEX] = 0\n",
    "m = tapn_obj.TimedMarking()\n",
    "m[P0] = 1\n",
    "m.timed_dict[P0] = 0"
   ],
   "metadata": {
    "collapsed": false
   },
   "id": "d3d10d0864de9db7",
   "outputs": [],
   "execution_count": null
  },
  {
   "cell_type": "code",
   "source": [
    "view_petri_net(tapn,m)"
   ],
   "metadata": {
    "collapsed": false
   },
   "id": "7f4c4874fb1d7a5a",
   "outputs": [],
   "execution_count": null
  },
  {
   "cell_type": "code",
   "source": [
    "m.timed_dict[P0] = 0"
   ],
   "metadata": {
    "collapsed": false
   },
   "id": "9218126674c2af37",
   "outputs": [],
   "execution_count": null
  },
  {
   "cell_type": "code",
   "source": [
    "m"
   ],
   "metadata": {
    "collapsed": false
   },
   "id": "83737166155ad7e8",
   "outputs": [],
   "execution_count": null
  },
  {
   "cell_type": "code",
   "source": [
    "tapn_semantics.enabled_transitions(tapn,m)"
   ],
   "metadata": {
    "collapsed": false
   },
   "id": "e7d98ac7abae26ab",
   "outputs": [],
   "execution_count": null
  },
  {
   "cell_type": "code",
   "source": [
    "inhib_semantics.enabled_transitions(tapn,m)"
   ],
   "metadata": {
    "collapsed": false
   },
   "id": "8b313c2a8780c785",
   "outputs": [],
   "execution_count": null
  },
  {
   "cell_type": "code",
   "source": [
    "test_dcr = deepcopy(dcr_template)\n",
    "test_dcr['events'] = {'A','B','C'}\n",
    "test_dcr['includesTo'] = {'A':{'B'}}\n",
    "test_dcr['conditionsFor'] = {'C': {'A'}}\n",
    "test_dcr['responseTo'] = {'A':{'B'}}\n",
    "test_dcr['excludeTo'] = {'A':{'A'},'B':{'B'}}\n",
    "test_dcr['marking']['included'] = {'A','C'}\n",
    "\n",
    "tapn, m = dcr_to_tapn.apply(test_dcr,variant=dcr_to_tapn.Variants.TO_TIMED_ARC_PETRI_NET, parameters={'preoptimize':True,\n",
    "               'postoptimize':True,                                                                                  'map_unexecutable_events':False,\n",
    "                'debug':False,                                                                       'tapn_path':'models/test.tapn'})"
   ],
   "metadata": {
    "collapsed": false
   },
   "id": "7047f6fe116679b1",
   "outputs": [],
   "execution_count": null
  },
  {
   "cell_type": "code",
   "source": [],
   "metadata": {
    "collapsed": false
   },
   "id": "a5f86cb422729f4a",
   "outputs": [],
   "execution_count": null
  }
 ],
 "metadata": {
  "kernelspec": {
   "display_name": "Python 3",
   "language": "python",
   "name": "python3"
  },
  "language_info": {
   "codemirror_mode": {
    "name": "ipython",
    "version": 2
   },
   "file_extension": ".py",
   "mimetype": "text/x-python",
   "name": "python",
   "nbconvert_exporter": "python",
   "pygments_lexer": "ipython2",
   "version": "2.7.6"
  }
 },
 "nbformat": 4,
 "nbformat_minor": 5
}
