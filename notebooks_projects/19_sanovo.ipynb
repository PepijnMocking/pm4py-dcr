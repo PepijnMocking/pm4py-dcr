{
 "cells": [
  {
   "cell_type": "code",
   "execution_count": 1,
   "id": "initial_id",
   "metadata": {
    "collapsed": true,
    "ExecuteTime": {
     "end_time": "2023-09-21T08:10:21.829874304Z",
     "start_time": "2023-09-21T08:10:21.678986493Z"
    }
   },
   "outputs": [],
   "source": [
    "import pandas as pd"
   ]
  },
  {
   "cell_type": "code",
   "execution_count": null,
   "outputs": [],
   "source": [
    "loader_data = pd.read_csv('/home/vco/Projects/eggs/jolie-sanovo/loader.csv',engine='c',sep=',', on_bad_lines='skip')\n",
    "errors = loader_data[loader_data['event-alarm-text'].notna()][['event-alarm-text','time']]\n",
    "loader_event_log = pd.DataFrame(columns=['case:concept:name','concept:name','time:timestamp'])\n",
    "loader_event_log['concept:name'] = errors['event-alarm-text']\n",
    "loader_event_log['time:timestamp'] = errors['time']"
   ],
   "metadata": {
    "collapsed": false
   },
   "id": "d020cc2cc282b9cd"
  }
 ],
 "metadata": {
  "kernelspec": {
   "display_name": "Python 3",
   "language": "python",
   "name": "python3"
  },
  "language_info": {
   "codemirror_mode": {
    "name": "ipython",
    "version": 2
   },
   "file_extension": ".py",
   "mimetype": "text/x-python",
   "name": "python",
   "nbconvert_exporter": "python",
   "pygments_lexer": "ipython2",
   "version": "2.7.6"
  }
 },
 "nbformat": 4,
 "nbformat_minor": 5
}
