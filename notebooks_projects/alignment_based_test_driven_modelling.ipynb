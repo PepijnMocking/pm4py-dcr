{
 "cells": [
  {
   "cell_type": "code",
   "outputs": [
    {
     "name": "stdout",
     "output_type": "stream",
     "text": [
      "/home/vco/Projects/pm4py-dcr/notebooks_projects\n",
      "/home/vco/Projects/pm4py-dcr\n"
     ]
    }
   ],
   "source": [
    "import pandas as pd\n",
    "%load_ext autoreload\n",
    "%autoreload 2\n",
    "import os\n",
    "print(os.getcwd())\n",
    "os.chdir('/home/vco/Projects/pm4py-dcr/')\n",
    "print(os.getcwd())"
   ],
   "metadata": {
    "collapsed": false,
    "ExecuteTime": {
     "end_time": "2024-01-23T20:17:39.460153021Z",
     "start_time": "2024-01-23T20:17:39.059042416Z"
    }
   },
   "id": "d21f6bf0f8a9ef38",
   "execution_count": 1
  },
  {
   "cell_type": "code",
   "outputs": [],
   "source": [
    "import pm4py\n",
    "import pandas as pd\n",
    "import networkx as nx\n",
    "\n",
    "from pm4py.objects.log.obj import EventLog, Trace, Event\n",
    "from pm4py.objects.dcr.importer import importer as dcr_importer\n",
    "from pm4py.objects.dcr.exporter import exporter as dcr_exporter\n",
    "from pm4py.algo.conformance.dcr import algorithm as rule_based_conformance\n",
    "from pm4py.algo.conformance.alignments.dcr import algorithm as dcr_alignment"
   ],
   "metadata": {
    "collapsed": false,
    "ExecuteTime": {
     "end_time": "2024-01-23T20:17:40.175007315Z",
     "start_time": "2024-01-23T20:17:39.459460396Z"
    }
   },
   "id": "1e919fc76acc1c05",
   "execution_count": 2
  },
  {
   "cell_type": "markdown",
   "source": [
    "# What is the point of this?\n",
    "Test cases are useful to create better models.\n",
    "When specifications change then the process model changes. (is extended)\n",
    "Some test cases will fail because the process model changed. \n",
    "Those tests need to be revised.\n",
    "Based on this work we define clearly which tests need or not to be revised. Here we use the concept of open tests.\n",
    "Transparent process extensions preserve positive tests. These are defined based on safe activities which are further defined based on the dependency graph.\n",
    "Exclusion safe extensions preserve negative tests.\n",
    "\n",
    "In alignments, we think about moves: synchronous, log or model. For each move we have an associated cost defined according to a cost function. When possible we avoid model moved because they are expensive.\n",
    "\n",
    "Doing regression testing on the extended model (running the tests), maps to the alignment problem with a specific cost function.\n",
    "\n",
    "Reachability by model moves.\n",
    "\n",
    "Satisfiability by model moves.\n",
    "\n",
    "Does an extending a model allow also for removal of events and relations?\n",
    "\n",
    "How does doing model checking on the marking state space relate to this? In essence construct a labelled transition system from the set of all possible markings.\n",
    "\n",
    "What is the equivalent problem when translated to a buchi automata and an omega regular language?\n",
    "\n",
    "What are the tricks from model checking and automata theory that can help us with the reachability analysis or satisfiability?\n",
    "\n"
   ],
   "metadata": {
    "collapsed": false
   },
   "id": "ba7825a8538a4578"
  },
  {
   "cell_type": "markdown",
   "source": [
    "# The point of the running example\n",
    "\n",
    "Show that we have an initial Dreyers model G and an extended Dreyers model G'.\n",
    "\n",
    "We also have a set of initial positive and negative tests. All tests are passing initially.\n",
    "\n",
    "On the extended G' we have made some changes that preserve by definition the positive tests and preserve by definition the negative tests. All pass by definition.\n",
    "\n",
    "We have also made some unsafe changes that are not transparent therefore they break some positive tests. And changes that are not exclusion safe therefore they break the negative tests. \n",
    "\n",
    "We run the alignment on those to see if the tests pass for the extended model.\n",
    "\n",
    "We want to verify that no trace can be found for failing positive tests and passing negative tests. \n",
    "\n",
    "This is what is done with alignment. We give an example that its doable or guarantees that there can never be a trace that satisfies this test (passing negative test).\n",
    "\n",
    "Model checking to see if they hold or not. We do alignment because it maps neatly for the model checking problem of reachability and satisfiability."
   ],
   "metadata": {
    "collapsed": false
   },
   "id": "2528a2477dbd075f"
  },
  {
   "cell_type": "markdown",
   "source": [
    "# Dreyers Model 1"
   ],
   "metadata": {
    "collapsed": false
   },
   "id": "a90c84b64915c7bc"
  },
  {
   "cell_type": "code",
   "outputs": [],
   "source": [
    "dreyers = dcr_importer.apply('models/dreyers2024en.xml',parameters={'as_dcr_object':True,'labels_as_ids':True,\n",
    "    'white_space_replacement':' '})"
   ],
   "metadata": {
    "collapsed": false,
    "ExecuteTime": {
     "end_time": "2024-01-12T10:05:47.034831094Z",
     "start_time": "2024-01-12T10:05:46.988766150Z"
    }
   },
   "id": "dfa20a951e442da3",
   "execution_count": 10
  },
  {
   "cell_type": "code",
   "outputs": [],
   "source": [
    "dcr_exporter.apply(dreyers,'models/dreyers.xml')"
   ],
   "metadata": {
    "collapsed": false,
    "ExecuteTime": {
     "end_time": "2024-01-12T10:06:21.674722815Z",
     "start_time": "2024-01-12T10:06:21.628670217Z"
    }
   },
   "id": "21459ee89465acff",
   "execution_count": 11
  },
  {
   "cell_type": "code",
   "outputs": [],
   "source": [
    "all_events = {'Abort application',\n",
    " 'Account number changed',\n",
    " 'Anonymize data',\n",
    " 'Applicant informed',\n",
    " 'Applicant send documentation for payment',\n",
    " 'Approve - send to board',\n",
    " 'Approve application',\n",
    " 'Approve changed account number',\n",
    " 'Architect Review',\n",
    " 'Change Phase to End Report',\n",
    " 'Change Phase to Payout',\n",
    " 'Change phase to Abort',\n",
    " 'Change phase to Approved',\n",
    " 'Change phase to Board meeting',\n",
    " 'Change phase to Complete',\n",
    " 'Change phase to review',\n",
    " 'Completed',\n",
    " 'End report',\n",
    " 'Execute pre-decision',\n",
    " 'Fill out Application',\n",
    " 'First payment',\n",
    " 'Inform applicant about application',\n",
    " 'Inform applicant that board reviews the application',\n",
    " 'Lawyer Review',\n",
    " 'Meeting in progress',\n",
    " 'Payment completed',\n",
    " 'Payout',\n",
    " 'Pre-approve application',\n",
    " 'Receive end report',\n",
    " 'Register Decision',\n",
    " 'Reject',\n",
    " 'Reject application',\n",
    " 'Review',\n",
    " 'Round Ends',\n",
    " 'Round approved',\n",
    " 'Set to Pre-approved',\n",
    " 'Undo payment'}"
   ],
   "metadata": {
    "collapsed": false,
    "ExecuteTime": {
     "end_time": "2024-01-12T09:56:22.421029722Z",
     "start_time": "2024-01-12T09:56:22.358707226Z"
    }
   },
   "id": "59d8799291a9922a",
   "execution_count": 7
  },
  {
   "cell_type": "markdown",
   "source": [
    "Positive test cases and their context:"
   ],
   "metadata": {
    "collapsed": false
   },
   "id": "5d12e3051c8e3f0c"
  },
  {
   "cell_type": "code",
   "outputs": [],
   "source": [
    "p0 = {'sequence':[''],'context':all_events,'description':'rejected full context'}\n",
    "p1 = {'sequence':[],'context':{},'description':'completed'}"
   ],
   "metadata": {
    "collapsed": false
   },
   "id": "b0bd0cfd17b2a8fb"
  },
  {
   "cell_type": "markdown",
   "source": [
    "Negative test cases and their context:"
   ],
   "metadata": {
    "collapsed": false
   },
   "id": "a70da6f43798ecab"
  },
  {
   "cell_type": "code",
   "outputs": [],
   "source": [],
   "metadata": {
    "collapsed": false
   },
   "id": "20d1b45bcd4189e1"
  },
  {
   "cell_type": "code",
   "outputs": [],
   "source": [
    "import json\n",
    "# Serializing json\n",
    "def set_default(obj):\n",
    "    if isinstance(obj, set):\n",
    "        return list(obj)\n",
    "    raise TypeError\n",
    "# to_json_dict = {'metadata': metadata, 'tests': tests}\n",
    "# json_object = json.dumps(to_json_dict, indent=4,default=set_default)\n",
    "\n",
    "# Writing to sample.json\n",
    "# with open(\"models/open_tests_with_metadata.json\", \"w\") as outfile:\n",
    "#     outfile.write(json_object)\n",
    "    \n",
    "json_object = json.dumps(tests, indent=4,default=set_default)\n",
    "\n",
    "# Writing to sample.json\n",
    "with open(\"models/open_tests.json\", \"w\") as outfile:\n",
    "    outfile.write(json_object)"
   ],
   "metadata": {
    "collapsed": false
   },
   "id": "c94a3434208c77d4",
   "execution_count": 34
  },
  {
   "cell_type": "markdown",
   "source": [
    "# Something UO/EO\n",
    "Roles: Union, UO (Union Organization), EO (Employer Organization)"
   ],
   "metadata": {
    "collapsed": false
   },
   "id": "3c8d7aaa49c9c9d"
  },
  {
   "cell_type": "code",
   "outputs": [],
   "source": [
    "original = dcr_importer.apply('models/lodaoriginal.xml',parameters={'as_dcr_object':True,'labels_as_ids':True})\n",
    "refined = dcr_importer.apply('models/lodarefinement.xml',parameters={'as_dcr_object':True,'labels_as_ids':True})"
   ],
   "metadata": {
    "collapsed": false,
    "ExecuteTime": {
     "end_time": "2024-01-11T15:47:26.248128492Z",
     "start_time": "2024-01-11T15:47:26.210956707Z"
    }
   },
   "id": "f05daf9bc95af24e",
   "execution_count": 118
  },
  {
   "cell_type": "code",
   "outputs": [],
   "source": [
    "t0 = pd.DataFrame({'case:concept:name':[0,0,0],'concept:name':[cc,pmd,hm]})"
   ],
   "metadata": {
    "collapsed": false,
    "ExecuteTime": {
     "end_time": "2024-01-11T15:44:33.498569984Z",
     "start_time": "2024-01-11T15:44:33.476953320Z"
    }
   },
   "id": "7c3a082c06ce7abd",
   "execution_count": 113
  },
  {
   "cell_type": "code",
   "outputs": [
    {
     "data": {
      "text/plain": "   case:concept:name           concept:name\n0                  0            Addmetadata\n1                  0             CreateCase\n2                  0           Assigncaseid\n3                  0  UOProposemeetingdates\n4                  0               EOAccept\n5                  0            Holdmeeting",
      "text/html": "<div>\n<style scoped>\n    .dataframe tbody tr th:only-of-type {\n        vertical-align: middle;\n    }\n\n    .dataframe tbody tr th {\n        vertical-align: top;\n    }\n\n    .dataframe thead th {\n        text-align: right;\n    }\n</style>\n<table border=\"1\" class=\"dataframe\">\n  <thead>\n    <tr style=\"text-align: right;\">\n      <th></th>\n      <th>case:concept:name</th>\n      <th>concept:name</th>\n    </tr>\n  </thead>\n  <tbody>\n    <tr>\n      <th>0</th>\n      <td>0</td>\n      <td>Addmetadata</td>\n    </tr>\n    <tr>\n      <th>1</th>\n      <td>0</td>\n      <td>CreateCase</td>\n    </tr>\n    <tr>\n      <th>2</th>\n      <td>0</td>\n      <td>Assigncaseid</td>\n    </tr>\n    <tr>\n      <th>3</th>\n      <td>0</td>\n      <td>UOProposemeetingdates</td>\n    </tr>\n    <tr>\n      <th>4</th>\n      <td>0</td>\n      <td>EOAccept</td>\n    </tr>\n    <tr>\n      <th>5</th>\n      <td>0</td>\n      <td>Holdmeeting</td>\n    </tr>\n  </tbody>\n</table>\n</div>"
     },
     "execution_count": 131,
     "metadata": {},
     "output_type": "execute_result"
    }
   ],
   "source": [
    "t0r = pd.DataFrame({'case:concept:name':[0,0,0,0,0,0],'concept:name':[am,cc,aci,pmd,acc,hm]})\n",
    "t0r"
   ],
   "metadata": {
    "collapsed": false,
    "ExecuteTime": {
     "end_time": "2024-01-11T15:52:11.762321428Z",
     "start_time": "2024-01-11T15:52:11.741980497Z"
    }
   },
   "id": "b2cbd8a76cf6e92",
   "execution_count": 131
  },
  {
   "cell_type": "code",
   "outputs": [
    {
     "data": {
      "text/plain": "[{'alignment': [('CreateCase', 'CreateCase'),\n   ('UOProposemeetingdates', 'UOProposemeetingdates'),\n   ('Holdmeeting', 'Holdmeeting')],\n  'cost': 0,\n  'visited_states': 6,\n  'closed': 4,\n  'global_min': 0,\n  'fitness': 1.0,\n  'bwc': 3}]"
     },
     "execution_count": 120,
     "metadata": {},
     "output_type": "execute_result"
    }
   ],
   "source": [
    "dcr_alignment.apply(t0,original)"
   ],
   "metadata": {
    "collapsed": false,
    "ExecuteTime": {
     "end_time": "2024-01-11T15:48:39.366967076Z",
     "start_time": "2024-01-11T15:48:37.681376827Z"
    }
   },
   "id": "f8930d1a30510f27",
   "execution_count": 120
  },
  {
   "cell_type": "code",
   "outputs": [
    {
     "data": {
      "text/plain": "[{'alignment': [('Addmetadata', 'Addmetadata'),\n   ('CreateCase', 'CreateCase'),\n   ('Assigncaseid', 'Assigncaseid'),\n   ('UOProposemeetingdates', 'UOProposemeetingdates'),\n   ('EOAccept', 'EOAccept'),\n   ('Holdmeeting', 'Holdmeeting')],\n  'cost': 0,\n  'visited_states': 9,\n  'closed': 7,\n  'global_min': 0,\n  'fitness': 1.0,\n  'bwc': 6}]"
     },
     "execution_count": 134,
     "metadata": {},
     "output_type": "execute_result"
    }
   ],
   "source": [
    "dcr_alignment.apply(t0r,refined)"
   ],
   "metadata": {
    "collapsed": false,
    "ExecuteTime": {
     "end_time": "2024-01-11T15:52:45.591054844Z",
     "start_time": "2024-01-11T15:52:45.572810416Z"
    }
   },
   "id": "37387cea6c16724c",
   "execution_count": 134
  },
  {
   "cell_type": "code",
   "outputs": [
    {
     "data": {
      "text/plain": "<Figure size 640x480 with 1 Axes>",
      "image/png": "[encoded data removed]"
     },
     "metadata": {},
     "output_type": "display_data"
    }
   ],
   "source": [
    "G = nx.DiGraph()\n",
    "G.add_nodes_from([(cc,{'level':1,\"h\":0}),(mc,{'level':3,\"h\":0}),(pmd,{'level':1,\"h\":0}),(hm,{'level':3,\"h\":0})])\n",
    "G.add_edge(cc,mc)\n",
    "G.add_edge(cc,pmd)\n",
    "G.add_edge(pmd,hm)\n",
    "pos = nx.multipartite_layout(G, subset_key=\"level\")\n",
    "nx.draw(G, with_labels=True,pos=pos)"
   ],
   "metadata": {
    "collapsed": false,
    "ExecuteTime": {
     "end_time": "2024-01-11T14:33:51.567630024Z",
     "start_time": "2024-01-11T14:33:51.496284305Z"
    }
   },
   "id": "1c62e66668c6c65",
   "execution_count": 35
  },
  {
   "cell_type": "code",
   "outputs": [
    {
     "data": {
      "text/plain": "<Figure size 640x480 with 1 Axes>",
      "image/png": "[encoded data removed]"
     },
     "metadata": {},
     "output_type": "display_data"
    }
   ],
   "source": [
    "G.add_nodes_from([(am,{'level':0,'h':1}),(aci,{'level':2,'h':1}),(acc,{'level':2,'h':1})])\n",
    "G.add_edge(am,cc)\n",
    "G.add_edge(cc,aci)\n",
    "G.add_edge(aci,mc)\n",
    "G.add_edge(aci,pmd)\n",
    "G.add_edge(pmd,acc)\n",
    "G.add_edge(acc,hm)\n",
    "pos = nx.multipartite_layout(G, subset_key=\"level\")\n",
    "nx.draw(G, with_labels=True,pos=pos)"
   ],
   "metadata": {
    "collapsed": false,
    "ExecuteTime": {
     "end_time": "2024-01-11T14:34:25.114863275Z",
     "start_time": "2024-01-11T14:34:25.032602918Z"
    }
   },
   "id": "14e73bd5c1fbfcbd",
   "execution_count": 39
  },
  {
   "cell_type": "code",
   "outputs": [],
   "source": [
    "benchmarking = dcr_importer.apply('models/loda_for_benchmarking.xml',parameters={\n",
    "    'as_dcr_object':True,\n",
    "    'labels_as_ids':False,\n",
    "    'white_space_replacement':' '})"
   ],
   "metadata": {
    "collapsed": false,
    "ExecuteTime": {
     "end_time": "2024-01-12T10:10:08.248540262Z",
     "start_time": "2024-01-12T10:10:08.203373588Z"
    }
   },
   "id": "8977b93957dca967",
   "execution_count": 12
  },
  {
   "cell_type": "code",
   "outputs": [
    {
     "data": {
      "text/plain": "events: {'Activity1', 'Activity9', 'Activity14', 'Activity11', 'Activity15', 'Activity17', 'Activity13', 'Activity12', 'Activity18', 'Activity19', 'Activity21', 'Activity0', 'Activity3', 'Activity16', 'Activity4', 'Activity2', 'Activity11_1', 'Activity10', 'Activity20', 'Activity8', 'Activity7', 'Activity22', 'Activity6'}\nmarking: {executed: set(), included: {'Activity1', 'Activity9', 'Activity14', 'Activity11', 'Activity15', 'Activity17', 'Activity13', 'Activity12', 'Activity18', 'Activity21', 'Activity0', 'Activity3', 'Activity16', 'Activity4', 'Activity2', 'Activity11_1', 'Activity10', 'Activity22', 'Activity6'}, pending: set()}\nlabels: {'Create Case', 'Hold meeting', 'EO Accept', 'Add metadata', 'Manage Case', 'Document Management', 'EO Propose dates', 'Add meeting date', 'Report case to Labour Court', 'LC Document management', 'Edit metadata', 'Upload document', 'Assign case id and transfer case', 'Cancel meeting', 'Download document', 'UO Propose meeting dates', 'UO Accept', 'EO Report case to Labour Court', 'UO Report case to Labour Court'}\nconditionsFor: {'Activity1': {'Activity0', 'Activity4'}, 'Activity2': {'Activity4'}, 'Activity0': {'Activity6', 'Activity14'}, 'Activity9': {'Activity1'}, 'Activity11': {'Activity10'}, 'Activity13': {'Activity12'}, 'Activity14': {'Activity13'}, 'Activity4': {'Activity0'}, 'Activity19': {'Activity20'}, 'Activity18': {'Activity4'}}\nresponseTo: {'Activity0': {'Activity1', 'Activity4'}, 'Activity1': {'Activity7', 'Activity3'}, 'Activity9': {'Activity8'}, 'Activity15': {'Activity9'}}\nincludesTo: {'Activity1': {'Activity7'}, 'Activity9': {'Activity8'}, 'Activity7': {'Activity3'}, 'Activity8': {'Activity3'}, 'Activity18': {'Activity21'}}\nexcludesTo: {'Activity0': {'Activity0'}, 'Activity8': {'Activity8', 'Activity7'}, 'Activity7': {'Activity8', 'Activity7'}, 'Activity12': {'Activity12'}, 'Activity13': {'Activity13'}, 'Activity18': {'Activity18', 'Activity22'}, 'Activity3': {'Activity3'}}\nlabelMapping: {'Activity0': 'Create Case', 'Activity1': 'UO Propose meeting dates', 'Activity2': 'Manage Case', 'Activity11_1': 'Edit metadata', 'Activity21': 'LC Document management', 'Activity20': 'Upload document', 'Activity19': 'Download document', 'Activity22': 'Document Management', 'Activity10': 'Upload document', 'Activity11': 'Download document', 'Activity3': 'Hold meeting', 'Activity4': 'Assign case id and transfer case', 'Activity6': 'Add metadata', 'Activity7': 'EO Accept', 'Activity8': 'UO Accept', 'Activity9': 'EO Propose dates', 'Activity12': 'Add meeting date', 'Activity13': 'Add meeting date', 'Activity14': 'Add meeting date', 'Activity15': 'Cancel meeting', 'Activity18': 'Report case to Labour Court', 'Activity16': 'UO Report case to Labour Court', 'Activity17': 'EO Report case to Labour Court'}\nmilestonesFor: {'Activity3': {'Activity8', 'Activity9', 'Activity7'}}\nnoResponseTo: {}\nnestedgroups: {'Activity2': {'Activity21', 'Activity11_1', 'Activity22'}, 'Activity21': {'Activity20', 'Activity19'}, 'Activity22': {'Activity11', 'Activity10'}, 'Activity18': {'Activity17', 'Activity16'}}\nsubprocesses: {}\nnestedgroupsmap: {'Activity21': 'Activity2', 'Activity11_1': 'Activity2', 'Activity22': 'Activity2', 'Activity20': 'Activity21', 'Activity19': 'Activity21', 'Activity11': 'Activity22', 'Activity10': 'Activity22', 'Activity17': 'Activity18', 'Activity16': 'Activity18'}"
     },
     "execution_count": 13,
     "metadata": {},
     "output_type": "execute_result"
    }
   ],
   "source": [
    "benchmarking"
   ],
   "metadata": {
    "collapsed": false,
    "ExecuteTime": {
     "end_time": "2024-01-12T10:10:09.632670012Z",
     "start_time": "2024-01-12T10:10:09.607274798Z"
    }
   },
   "id": "15d70aee8558002f",
   "execution_count": 13
  },
  {
   "cell_type": "code",
   "outputs": [
    {
     "data": {
      "text/plain": "{'Add meeting date',\n 'Add metadata',\n 'Assign case id and transfer case',\n 'Cancel meeting',\n 'Create Case',\n 'Document Management',\n 'Download document',\n 'EO Accept',\n 'EO Propose dates',\n 'EO Report case to Labour Court',\n 'Edit metadata',\n 'Hold meeting',\n 'LC Document management',\n 'Manage Case',\n 'Report case to Labour Court',\n 'UO Accept',\n 'UO Propose meeting dates',\n 'UO Report case to Labour Court',\n 'Upload document'}"
     },
     "execution_count": 14,
     "metadata": {},
     "output_type": "execute_result"
    }
   ],
   "source": [
    "benchmarking.labels"
   ],
   "metadata": {
    "collapsed": false,
    "ExecuteTime": {
     "end_time": "2024-01-12T10:10:11.731528996Z",
     "start_time": "2024-01-12T10:10:11.694723858Z"
    }
   },
   "id": "52d202cbeb9fc3f",
   "execution_count": 14
  },
  {
   "cell_type": "code",
   "outputs": [],
   "source": [
    "metadata = {\n",
    "    'all_activities' : {'Add meeting date', 'Add metadata', 'Assign case id and transfer case', 'Cancel meeting', 'Create Case', 'Download document', 'EO Accept', 'EO Propose dates', 'EO Report case to Labour Court', 'Edit metadata', 'Hold meeting', 'UO Accept', 'UO Propose meeting dates', 'UO Report case to Labour Court', 'Upload document'},\n",
    "    'uo_context' : {'Assign case id and transfer case', 'Download document', 'Edit metadata', 'Hold meeting', 'UO Accept', 'UO Propose meeting dates', 'UO Report case to Labour Court', 'Upload document'},\n",
    "    'eo_context' : {'Download document', 'EO Accept', 'EO Propose dates', 'EO Report case to Labour Court', 'Edit metadata', 'Upload document'},\n",
    "    'union_context' : {'Add meeting date', 'Add metadata', 'Create Case', 'Download document', 'Edit metadata', 'Upload document'},\n",
    "    'running_example_context': {'Create Case','Edit metadata','UO Propose meeting dates','EO Propose dates', 'Hold meeting'}\n",
    "}"
   ],
   "metadata": {
    "collapsed": false,
    "ExecuteTime": {
     "end_time": "2024-01-12T11:52:35.810395343Z",
     "start_time": "2024-01-12T11:52:35.781576622Z"
    }
   },
   "id": "2b1db5c4e83ec5e9",
   "execution_count": 19
  },
  {
   "cell_type": "markdown",
   "source": [
    "# Benchmarking test cases"
   ],
   "metadata": {
    "collapsed": false
   },
   "id": "51c96ef26032b42f"
  },
  {
   "cell_type": "code",
   "outputs": [],
   "source": [
    "md = 'Add metadata'\n",
    "cc = 'Create Case'\n",
    "mc = 'Upload document'\n",
    "pmd = 'UO Propose meeting dates'\n",
    "eopmd = 'EO Propose dates'\n",
    "hm = 'Hold meeting'\n",
    "cm = 'Cancel meeting'\n",
    "ac = 'EO Accept'\n",
    "uoac = 'UO Accept'\n",
    "uud = 'Union Upload document'\n",
    "uoud = 'UO Upload document'\n",
    "eoud = 'EO Upload document'\n",
    "lcud = 'LC Upload document'\n",
    "udd = 'Union Download document'\n",
    "amd = 'Add meeting date'\n",
    "uolc = 'UO Report case to Labour court'\n",
    "eolc = 'EO Report case to Labour court'\n",
    "aci = 'Assign case id and transfer case'\n",
    "n= 'Name'\n",
    "a = 'Address'\n",
    "eon = 'EO Edit name'\n",
    "eoa = 'EO Edit address'\n",
    "lcdd = 'LC Download document'"
   ],
   "metadata": {
    "collapsed": false,
    "ExecuteTime": {
     "end_time": "2024-01-24T12:39:49.985982098Z",
     "start_time": "2024-01-24T12:39:49.944263985Z"
    }
   },
   "id": "32e9d889e938a4b3",
   "execution_count": 12
  },
  {
   "cell_type": "code",
   "outputs": [],
   "source": [
    "t_number_pos_or_neg = {'trace':[], 'context': {},'polarity':'+','description': '','id':''}"
   ],
   "metadata": {
    "collapsed": false,
    "ExecuteTime": {
     "end_time": "2024-01-23T21:37:24.511680067Z",
     "start_time": "2024-01-23T21:37:24.469065289Z"
    }
   },
   "id": "ac64636bd205f3a7",
   "execution_count": 6
  },
  {
   "cell_type": "code",
   "outputs": [],
   "source": [
    "t0pos = {'trace':[cc,pmd,hm], 'context': {cc,pmd,hm},'polarity':'+','description': 'pos t0 running example','id':'t0pos'}\n",
    "t1neg = {'trace':[hm], 'context': {cc,hm},'polarity':'-','description':'neg t1 running example','id':'t1neg'}\n",
    "t2pos = {'trace': [cc], 'context':{cc,hm},'polarity':'+','description':'pos t2 running example','id':'t2pos'}\n",
    "t3neg = {'trace':[cc,pmd,hm], 'context': {n,cc,pmd,hm},'polarity':'-','description': 'neg t3 running example','id':'t3neg'}\n",
    "t4pos = {'trace':[cc,hm,hm,hm], 'context': {cc,hm},'polarity':'+','description': 'holding multiple meetings','id':'t4pos'}\n",
    "t5pos = {'trace':[pmd,cm], 'context': {pmd,cm}, 'polarity':'+','description': 'EO cancels meeting','id':'t5pos'}\n",
    "t6neg = {'trace':[cc,pmd], 'context': {cc,pmd,hm,cm},'polarity':'-','description': 'pending hold meeting','id':'t6neg'}\n",
    "t7neg = {'trace':[udd,uud], 'context': {udd,uud,uoud,eoud,lcud},'polarity':'-','description': 'download document before first upload document','id':'t7neg'}\n",
    "t8neg = {'trace':[pmd,eopmd,ac,uoac], 'context': {pmd,eopmd,ac,uoac},'polarity':'-','description': 'UO Accept immediately after EO Accept','id':'t8neg'}\n",
    "t9neg = {'trace':[amd,amd,cc], 'context': {amd,cc},'polarity':'-','description': 'Add meeting date only twice union context only','id':'t9neg'}\n",
    "t10neg = {'trace':[cc,cc], 'context': {cc},'polarity':'-','description': 'Create case twice not possible','id':'t10neg'}\n",
    "t11pos = {'trace':[amd,amd,amd,cc], 'context': {cc,amd},'polarity':'+','description': 'Always create case once','id':'t11pos'}\n",
    "t12neg = {'trace':[hm,uolc,eolc], 'context': {hm,uolc,eolc},'polarity':'-','description': 'Only one lc','id':'t12neg'}\n",
    "t13pos = {'trace':[pmd,ac,hm], 'context': {pmd,ac,hm,uoac,cm,eopmd},'polarity':'+','description': 'accept and hold meeting','id':'t13pos'}\n",
    "t14neg = {'trace':[cc,pmd], 'context': {cc,pmd,aci},'polarity':'-','description': 'create to propose no assign case id','id':'t14neg'}\n",
    "t15pos = {'trace':[n,a,eon], 'context': {n,a,eoa,eon},'polarity':'+','description': 'metadata management','id':'t15pos'}\n",
    "t16neg = {'trace':[n,eoa,eon], 'context': {n,a,eoa,eon},'polarity':'-','description': 'metadata management','id':'t16neg'}\n",
    "t17neg = {'trace':[hm,lcdd], 'context': {lcdd,hm,uolc,eolc},'polarity':'-','description': 'labour court cant handle their documents','id':'t17neg'}\n",
    "t18neg = {'trace':[pmd,cm], 'context': {pmd,cm,eopmd}, 'polarity':'-','description': 'EO cancels meeting but never proposes','id':'t18neg'}"
   ],
   "metadata": {
    "collapsed": false,
    "ExecuteTime": {
     "end_time": "2024-01-24T13:55:41.646101033Z",
     "start_time": "2024-01-24T13:55:41.603262835Z"
    }
   },
   "id": "7861b88fa2a75aef",
   "execution_count": 29
  },
  {
   "cell_type": "markdown",
   "source": [
    "# Rethink these tests"
   ],
   "metadata": {
    "collapsed": false
   },
   "id": "4e2d190d5a51e264"
  },
  {
   "cell_type": "code",
   "outputs": [],
   "source": [
    "# failed but should not\n",
    "t4pos = {'sequence':[cc,hm,hm,hm], 'context': {cc,hm},'type':'+','description': 'holding multiple meetings','id':'t4pos'}\n",
    "t11pos = {'sequence':[amd,amd,amd,cc], 'context': {cc,amd},'type':'+','description': 'Always create case once','id':'t11pos'}\n",
    "t13pos = {'sequence':[pmd,ac,hm], 'context': {pmd,ac,hm,uoac,cm,eopmd},'type':'+','description': 'accept and hold meeting','id':'t13pos'}"
   ],
   "metadata": {
    "collapsed": false
   },
   "id": "8cf4c40b017e0de0"
  },
  {
   "cell_type": "code",
   "outputs": [],
   "source": [
    "tests = [t0pos,t1neg,t2pos,t3neg,t4pos,t5pos,t6neg,t7neg,t8neg,t9neg,t10neg,t11pos,t12neg,t13pos,t14neg,t15pos,t16neg,t17neg,t18neg]"
   ],
   "metadata": {
    "collapsed": false,
    "ExecuteTime": {
     "end_time": "2024-01-24T13:55:51.724753262Z",
     "start_time": "2024-01-24T13:55:51.688656902Z"
    }
   },
   "id": "db605e6d36745cd1",
   "execution_count": 30
  },
  {
   "cell_type": "code",
   "outputs": [],
   "source": [
    "import json\n",
    "# Serializing json\n",
    "def set_default(obj):\n",
    "    if isinstance(obj, set):\n",
    "        return list(obj)\n",
    "    raise TypeError\n",
    "\n",
    "json_object = json.dumps(tests, indent=4,default=set_default)\n",
    "\n",
    "# Writing to sample.json\n",
    "with open(\"models/loda_open_tests.json\", \"w\") as outfile:\n",
    "    outfile.write(json_object)"
   ],
   "metadata": {
    "collapsed": false,
    "ExecuteTime": {
     "end_time": "2024-01-24T13:55:58.084464838Z",
     "start_time": "2024-01-24T13:55:58.053300441Z"
    }
   },
   "id": "6efba43c1f9ebea8",
   "execution_count": 31
  },
  {
   "cell_type": "code",
   "outputs": [],
   "source": [
    "from pm4py.objects.bpmn.importer import importer as bpmn_importer\n",
    "from pm4py.vis import view_bpmn"
   ],
   "metadata": {
    "collapsed": false,
    "ExecuteTime": {
     "end_time": "2024-01-12T12:43:41.423783901Z",
     "start_time": "2024-01-12T12:43:41.368357986Z"
    }
   },
   "id": "dbd5076ae3114e16",
   "execution_count": 41
  },
  {
   "cell_type": "code",
   "outputs": [],
   "source": [
    "loda_bpmn = bpmn_importer.apply('models/loda_top_level.bpmn')"
   ],
   "metadata": {
    "collapsed": false,
    "ExecuteTime": {
     "end_time": "2024-01-12T12:43:42.892932827Z",
     "start_time": "2024-01-12T12:43:42.870008632Z"
    }
   },
   "id": "f657cca9962a35be",
   "execution_count": 42
  },
  {
   "cell_type": "code",
   "outputs": [
    {
     "data": {
      "image/png": "[encoded data removed]",
      "text/plain": "<IPython.core.display.Image object>"
     },
     "metadata": {},
     "output_type": "display_data"
    }
   ],
   "source": [
    "view_bpmn(loda_bpmn)"
   ],
   "metadata": {
    "collapsed": false,
    "ExecuteTime": {
     "end_time": "2024-01-12T12:44:30.681500592Z",
     "start_time": "2024-01-12T12:44:30.567859121Z"
    }
   },
   "id": "4a442c958163e7d",
   "execution_count": 45
  },
  {
   "cell_type": "code",
   "outputs": [],
   "source": [],
   "metadata": {
    "collapsed": false
   },
   "id": "a9e23a93f27f88ab"
  }
 ],
 "metadata": {
  "kernelspec": {
   "display_name": "Python 3",
   "language": "python",
   "name": "python3"
  },
  "language_info": {
   "codemirror_mode": {
    "name": "ipython",
    "version": 2
   },
   "file_extension": ".py",
   "mimetype": "text/x-python",
   "name": "python",
   "nbconvert_exporter": "python",
   "pygments_lexer": "ipython2",
   "version": "2.7.6"
  }
 },
 "nbformat": 4,
 "nbformat_minor": 5
}
