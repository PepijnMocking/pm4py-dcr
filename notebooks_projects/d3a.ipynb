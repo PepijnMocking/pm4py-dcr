{
 "cells": [
  {
   "cell_type": "code",
   "execution_count": 1,
   "id": "initial_id",
   "metadata": {
    "collapsed": true,
    "ExecuteTime": {
     "end_time": "2024-02-01T11:09:44.522253600Z",
     "start_time": "2024-02-01T11:09:44.518562822Z"
    }
   },
   "outputs": [
    {
     "name": "stdout",
     "output_type": "stream",
     "text": [
      "/home/vco/Projects/pm4py-dcr/notebooks_projects\n",
      "/home/vco/Projects/pm4py-dcr\n"
     ]
    }
   ],
   "source": [
    "%load_ext autoreload\n",
    "%autoreload 2\n",
    "import os\n",
    "print(os.getcwd())\n",
    "os.chdir('/home/vco/Projects/pm4py-dcr/')\n",
    "print(os.getcwd())"
   ]
  },
  {
   "cell_type": "code",
   "outputs": [],
   "source": [
    "import pm4py\n",
    "from pm4py.objects.dcr.importer import importer as dcr_importer\n",
    "from pm4py.objects.dcr.utils.dcr_utils import nested_groups_and_sps_to_flat_dcr\n",
    "from pm4py.objects.conversion.dcr import converter as dcr_to_tapn\n",
    "from pm4py.vis import view_petri_net\n",
    "from pm4py.objects.dcr.obj import dcr_template\n",
    "from pm4py.objects.petri_net.utils import reachability_graph\n",
    "from pm4py.visualization.transition_system import visualizer as ts_visualizer\n",
    "from pm4py.objects.petri_net.timed_arc_net import semantics as tapn_semantics\n",
    "from pm4py.objects.petri_net.inhibitor_reset import semantics as in_semantics\n",
    "from pm4py.objects.petri_net.utils.petri_utils import remove_arc, remove_transition, remove_place, add_arc_from_to, pre_set, post_set, get_arc_type\n",
    "from pm4py.objects.petri_net.utils import reduction, murata\n",
    "from pm4py.objects.petri_net.exporter import exporter as pnml_exporter\n",
    "from pm4py.objects.petri_net import properties\n",
    "from copy import deepcopy\n",
    "from pm4py.objects.petri_net.timed_arc_net import semantics as tapn_semantics, obj as tapn_obj\n",
    "from pm4py.objects.petri_net.inhibitor_reset import semantics as inhib_semantics\n",
    "from pm4py.objects.petri_net.utils import petri_utils as pn_utils\n",
    "from pm4py.algo.discovery.dcr_discover import algorithm as dcr_alg"
   ],
   "metadata": {
    "collapsed": false,
    "ExecuteTime": {
     "end_time": "2024-02-01T11:09:45.401921866Z",
     "start_time": "2024-02-01T11:09:44.520417350Z"
    }
   },
   "id": "753704dfccd3b58d",
   "execution_count": 2
  },
  {
   "cell_type": "code",
   "outputs": [],
   "source": [
    "example = 'models/d3a_example1.xml'\n",
    "dcr_dict = dcr_importer.apply(example,parameters={'as_dcr_object':False,'labels_as_ids':True})\n",
    "# dcr_dict = nested_groups_and_sps_to_flat_dcr(dcr_dict)\n",
    "tapn, m = dcr_to_tapn.apply(dcr_dict,variant=dcr_to_tapn.Variants.TO_INHIBITOR_NET, parameters={'preoptimize':True,\n",
    "               'postoptimize':True,                                                                                  'map_unexecutable_events':False,\n",
    "                'debug':False, 'tapn_path':'models/d3a_example1.tapn'})"
   ],
   "metadata": {
    "collapsed": false
   },
   "id": "f945beff3d2d8230",
   "execution_count": 3
  },
  {
   "cell_type": "code",
   "outputs": [],
   "source": [
    "example = 'models/d3a_example1.xml'\n",
    "dcr_dict = dcr_importer.apply(example,parameters={'as_dcr_object':False,'labels_as_ids':True})\n",
    "# dcr_dict = nested_groups_and_sps_to_flat_dcr(dcr_dict)\n",
    "tapn, m = dcr_to_tapn.apply(dcr_dict,variant=dcr_to_tapn.Variants.TO_INHIBITOR_NET, parameters={'preoptimize':True,\n",
    "               'postoptimize':False,                                                                                  'map_unexecutable_events':False,\n",
    "                'debug':False, 'tapn_path':'models/d3a_example1_preopt.tapn'})"
   ],
   "metadata": {
    "collapsed": false,
    "ExecuteTime": {
     "end_time": "2024-02-01T11:10:39.761863195Z",
     "start_time": "2024-02-01T11:10:39.071944872Z"
    }
   },
   "id": "35c26ae7fc06aee9",
   "execution_count": 3
  },
  {
   "cell_type": "code",
   "outputs": [],
   "source": [
    "example = 'models/d3a_example1.xml'\n",
    "dcr_dict = dcr_importer.apply(example,parameters={'as_dcr_object':False,'labels_as_ids':True})\n",
    "# dcr_dict = nested_groups_and_sps_to_flat_dcr(dcr_dict)\n",
    "tapn, m = dcr_to_tapn.apply(dcr_dict,variant=dcr_to_tapn.Variants.TO_INHIBITOR_NET, parameters={'preoptimize':False,\n",
    "               'postoptimize':True,                                                                                  'map_unexecutable_events':False,\n",
    "                'debug':False, 'tapn_path':'models/d3a_example1_postopt.tapn'})"
   ],
   "metadata": {
    "collapsed": false,
    "ExecuteTime": {
     "end_time": "2024-02-01T11:10:39.805396004Z",
     "start_time": "2024-02-01T11:10:39.749371320Z"
    }
   },
   "id": "f6b1504c825c25ad",
   "execution_count": 4
  },
  {
   "cell_type": "code",
   "outputs": [],
   "source": [
    "example = 'models/d3a_example1.xml'\n",
    "dcr_dict = dcr_importer.apply(example,parameters={'as_dcr_object':False,'labels_as_ids':True})\n",
    "# dcr_dict = nested_groups_and_sps_to_flat_dcr(dcr_dict)\n",
    "tapn, m = dcr_to_tapn.apply(dcr_dict,variant=dcr_to_tapn.Variants.TO_INHIBITOR_NET, parameters={'preoptimize':False,\n",
    "               'postoptimize':False,                                                                                  'map_unexecutable_events':False,\n",
    "                'debug':False, 'tapn_path':'models/d3a_example1_unopt.tapn'})"
   ],
   "metadata": {
    "collapsed": false,
    "ExecuteTime": {
     "end_time": "2024-02-01T11:10:54.779137345Z",
     "start_time": "2024-02-01T11:10:54.707250568Z"
    }
   },
   "id": "9631c7aae9134cc2",
   "execution_count": 6
  },
  {
   "cell_type": "code",
   "outputs": [
    {
     "data": {
      "text/plain": "parsing log, completed traces ::   0%|          | 0/13087 [00:00<?, ?it/s]",
      "application/vnd.jupyter.widget-view+json": {
       "version_major": 2,
       "version_minor": 0,
       "model_id": "e61a7343389e4a54b2407f45e6f2a1b3"
      }
     },
     "metadata": {},
     "output_type": "display_data"
    }
   ],
   "source": [
    "log = pm4py.read_xes('/home/vco/Datasets/data/TKDE_Benchmark/BPIC12.xes',return_legacy_log_object=True)\n",
    "dcr_bpic12,_ = dcr_alg.apply(log)\n",
    "dcr_dict = dcr_bpic12.obj_to_template()\n",
    "tapn, m = dcr_to_tapn.apply(dcr_dict,variant=dcr_to_tapn.Variants.TO_INHIBITOR_NET, parameters={'preoptimize':True,\n",
    "               'postoptimize':True,                                                                                  'map_unexecutable_events':False,\n",
    "                'debug':False, 'tapn_path':'models/bpic12.tapn'})"
   ],
   "metadata": {
    "collapsed": false,
    "ExecuteTime": {
     "end_time": "2024-02-01T09:44:19.770611712Z",
     "start_time": "2024-02-01T09:44:09.961277357Z"
    }
   },
   "id": "d9f6e817599ac7a7",
   "execution_count": 21
  },
  {
   "cell_type": "code",
   "outputs": [
    {
     "data": {
      "text/plain": "parsing log, completed traces ::   0%|          | 0/700 [00:00<?, ?it/s]",
      "application/vnd.jupyter.widget-view+json": {
       "version_major": 2,
       "version_minor": 0,
       "model_id": "74f552565e1c4a4ab1786bd7e6fa7110"
      }
     },
     "metadata": {},
     "output_type": "display_data"
    }
   ],
   "source": [
    "log = pm4py.read_xes('/home/vco/Datasets/Dreyers Foundation.xes',return_legacy_log_object=True)\n",
    "dcr_bpic12,_ = dcr_alg.apply(log)\n",
    "dcr_dict = dcr_bpic12.obj_to_template()\n",
    "tapn, m = dcr_to_tapn.apply(dcr_dict,variant=dcr_to_tapn.Variants.TO_INHIBITOR_NET, parameters={'preoptimize':True,\n",
    "               'postoptimize':True,                                                                                  'map_unexecutable_events':False,\n",
    "                'debug':False, 'tapn_path':'models/dreyers.tapn'})"
   ],
   "metadata": {
    "collapsed": false,
    "is_executing": true,
    "ExecuteTime": {
     "start_time": "2024-02-01T10:49:35.505819927Z"
    }
   },
   "id": "cb4a03e3ed690a0",
   "execution_count": null
  },
  {
   "cell_type": "code",
   "outputs": [],
   "source": [],
   "metadata": {
    "collapsed": false
   },
   "id": "60f60e100ea97277"
  }
 ],
 "metadata": {
  "kernelspec": {
   "display_name": "Python 3",
   "language": "python",
   "name": "python3"
  },
  "language_info": {
   "codemirror_mode": {
    "name": "ipython",
    "version": 2
   },
   "file_extension": ".py",
   "mimetype": "text/x-python",
   "name": "python",
   "nbconvert_exporter": "python",
   "pygments_lexer": "ipython2",
   "version": "2.7.6"
  }
 },
 "nbformat": 4,
 "nbformat_minor": 5
}
